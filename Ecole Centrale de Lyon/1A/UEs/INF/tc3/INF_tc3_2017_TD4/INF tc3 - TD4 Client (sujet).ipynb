{
 "cells": [
  {
   "cell_type": "markdown",
   "metadata": {},
   "source": [
    "#    <center>Informatique tc3 (Projet Web) - TD4</center>"
   ]
  },
  {
   "cell_type": "markdown",
   "metadata": {},
   "source": [
    "## <center style=\"color: #66d\">Développement d'interfaces Web</center>"
   ]
  },
  {
   "cell_type": "markdown",
   "metadata": {},
   "source": [
    "### 1. Modalité pratiques pour le développement d'interfaces Web\n",
    "\n",
    "#### a) Via le code source du notebook"
   ]
  },
  {
   "cell_type": "markdown",
   "metadata": {},
   "source": [
    "Il est possible d'inclure du code HTML directement dans le code source d'une cellule texte d'un notebook.\n",
    "\n",
    "Essayez : c'est simple, il suffit d'écrire des balises dans une zone de texte <i>(Markdown)</i>.<br>\n",
    "Si vous manquez <span style=\"color:red\">d'inspiration</span>, vérifiez simplement comment <em>CE TEXTE</em> a été mis en italiques, ou <strong>CELUI-CI</strong> en gras, en regardant simplement le code source de la cellule.\n",
    "\n",
    "Cette possibilité est pratique pour modifier facilement la présentation du texte d'un notebook, mais ne permettra pas de développer facilement une interface pour une application."
   ]
  },
  {
   "cell_type": "markdown",
   "metadata": {},
   "source": [
    "#### b) Via le module IPython HTML\n",
    "\n",
    "Cette seconde méthode est nettement plus adaptée pour tester une interface en cours de développement. C'est la méthode préconisée tout au long de ce TD"
   ]
  },
  {
   "cell_type": "code",
   "execution_count": 3,
   "metadata": {
    "collapsed": false
   },
   "outputs": [
    {
     "data": {
      "text/html": [
       "   <div style=\"background-color: #fef; border: 1px solid #cac; border-radius: 5px; padding: 0.5em\">   texte généré via python   </div> "
      ],
      "text/plain": [
       "<IPython.core.display.HTML object>"
      ]
     },
     "execution_count": 3,
     "metadata": {},
     "output_type": "execute_result"
    }
   ],
   "source": [
    "from IPython.core.display import HTML\n",
    "\n",
    "source_code = ' \\\n",
    "  <div style=\"background-color: #fef; border: 1px solid #cac; border-radius: 5px; padding: 0.5em\"> \\\n",
    "  texte généré via python \\\n",
    "  </div> \\\n",
    "'\n",
    "HTML(source_code)"
   ]
  },
  {
   "cell_type": "markdown",
   "metadata": {},
   "source": [
    "#### c) En développant vos propres pages html\n",
    "\n",
    "<div style=\"background-color:#fee;padding:10px;border-radius:3px;margin-top:1.33em\">\n",
    "C'est la méthode que vous devrez obligatoirement utiliser pour votre projet.\n",
    "</div>"
   ]
  },
  {
   "cell_type": "markdown",
   "metadata": {},
   "source": [
    "### 2. Interface de choix d'une image\n",
    "\n",
    "La base de données <tt>rtserver.sqlite</tt> fournie pour ce TD contient les trois scènes déjà vues lors du TD précédent, et les images correspondantes se trouvent dans le répertoire <tt>client/images</tt>.\n",
    "\n",
    "<div style=\"background-color:#fee;padding:10px;border-radius:3px;margin-top:1.33em\">\n",
    "__N.B.__ Pour obtenir le fonctionnement requis, il est absolument nécessaire d'utiliser le serveur <tt>rtserver.py</tt> fourni pour ce TD, qui implémente l'ensemble des développements suggérés pour le TD précédent, voire un peu plus...\n",
    "</div>\n",
    "\n",
    "#### 2.1 Affichage d'une image obtenue via le serveur de TD\n",
    "\n",
    "__Q1. Afficher une image :__\n",
    "<div style=\"background-color:#eef;padding:10px;border-radius:3px\">\n",
    "Démarrer le serveur et afficher dans le notebook une des trois images fournies pour ce TD, via le module HTML et une balise <tt>&lt;img&gt;</tt> appropriée, faisant appel au serveur pour obtenir l'image...\n",
    "<br><br>\n",
    "<b>N.B.</b> Pour que l'image soit servie par votre serveur (et non le serveur de notebook) il faut que son URL commence par <tt><span>http:</span>//localhost:8080/</tt>.<br>Ne pas oublier non plus que le répertoire <tt>client</tt> n'apparait pas dans l'URL des documents statiques.\n",
    "</div>"
   ]
  },
  {
   "cell_type": "code",
   "execution_count": 4,
   "metadata": {
    "collapsed": false,
    "util.bundle": "correcteur"
   },
   "outputs": [
    {
     "data": {
      "text/html": [
       "<img src=\"http://localhost:8080/images/test_polygon.png\">"
      ],
      "text/plain": [
       "<IPython.core.display.HTML object>"
      ]
     },
     "execution_count": 4,
     "metadata": {},
     "output_type": "execute_result"
    }
   ],
   "source": [
    "source='<img src=\"http://localhost:8080/images/test_polygon.png\">'\n",
    "HTML(source)"
   ]
  },
  {
   "cell_type": "markdown",
   "metadata": {},
   "source": [
    "#### 2.2 Affichage d'une liste de choix de scène\n",
    "\n",
    "Le serveur a été muni d'un service permettant d'obtenir la liste des scènes formattée en HTML de manière à être employée facilement dans une liste de sélection.\n",
    "\n",
    "__Q2. Obtenir la liste des scènes :__\n",
    "<div style=\"background-color:#eef;padding:10px;border-radius:3px\">\n",
    "Récupérer la fonction <i>wget()</i> utilisée lors du TD précédent et la modifier le cas échéant pour visualiser\n",
    "la réponse du serveur à une requête <tt>GET</tt> à l'adresse <tt>/service/image</tt> avec une entête HTTP <tt>Accept:&nbsp;text/html</tt>\n",
    "<br>\n",
    "<br>\n",
    "__N.B.__ pour afficher la réponse, il sera nécessaire de la convertir au format texte par un appel à la fonction <tt>str(reponse,'utf-8')</tt>\n",
    "</div>"
   ]
  },
  {
   "cell_type": "code",
   "execution_count": 5,
   "metadata": {
    "collapsed": false,
    "util.bundle": "correcteur"
   },
   "outputs": [],
   "source": [
    "# votre code ici\n",
    "\n",
    "import http.client\n",
    "import json\n",
    "\n",
    "def wget(method,url,body='',headers={}):\n",
    "    conn = http.client.HTTPConnection('localhost:8080')\n",
    "    conn.request(method,url,body,headers)\n",
    "    response = conn.getresponse()\n",
    "    info = { 'status': response.status, 'reason':response.reason }\n",
    "    if not response.status==200:\n",
    "        print(\"{} - {}\".format(response.status, reponse.reason))\n",
    "    if 'Content-Type' in response.headers and response.headers['Content-Type'] == 'text/html':\n",
    "        return response.read()\n",
    "    if 'Content-Type' in response.headers and response.headers['Content-Type'] == 'application/json':\n",
    "        return json.loads(response.read())\n",
    "    \n",
    "    print(response.read())\n",
    "    return ''\n"
   ]
  },
  {
   "cell_type": "markdown",
   "metadata": {},
   "source": [
    "__Q3. Afficher une liste de sélection avec les scènes :__\n",
    "<div style=\"background-color:#eef;padding:10px;border-radius:3px\">\n",
    "Toujours à l'aide du module HTML, afficher une liste de sélection (balise <tt>select</tt>) dont le contenu sera obtenu par\n",
    "une requête à l'adresse précédente.\n",
    "</div>"
   ]
  },
  {
   "cell_type": "code",
   "execution_count": 6,
   "metadata": {
    "collapsed": false,
    "util.bundle": "correcteur"
   },
   "outputs": [
    {
     "ename": "ConnectionRefusedError",
     "evalue": "[WinError 10061] Aucune connexion n’a pu être établie car l’ordinateur cible l’a expressément refusée",
     "output_type": "error",
     "traceback": [
      "\u001b[0;31m---------------------------------------------------------------------------\u001b[0m",
      "\u001b[0;31mConnectionRefusedError\u001b[0m                    Traceback (most recent call last)",
      "\u001b[0;32m<ipython-input-6-a4babfbe3c3c>\u001b[0m in \u001b[0;36m<module>\u001b[0;34m()\u001b[0m\n\u001b[1;32m      1\u001b[0m \u001b[0mhtml\u001b[0m \u001b[1;33m=\u001b[0m \u001b[1;34m'<select>{}</select>'\u001b[0m\u001b[1;33m\u001b[0m\u001b[0m\n\u001b[0;32m----> 2\u001b[0;31m \u001b[0moptions\u001b[0m \u001b[1;33m=\u001b[0m \u001b[0mstr\u001b[0m\u001b[1;33m(\u001b[0m\u001b[0mwget\u001b[0m\u001b[1;33m(\u001b[0m\u001b[1;34m'GET'\u001b[0m\u001b[1;33m,\u001b[0m\u001b[1;34m'/service/image'\u001b[0m\u001b[1;33m,\u001b[0m\u001b[1;34m''\u001b[0m\u001b[1;33m,\u001b[0m\u001b[1;33m{\u001b[0m\u001b[1;34m'Accept'\u001b[0m \u001b[1;33m:\u001b[0m \u001b[1;34m'text/html'\u001b[0m\u001b[1;33m}\u001b[0m\u001b[1;33m)\u001b[0m\u001b[1;33m,\u001b[0m \u001b[1;34m'utf-8'\u001b[0m\u001b[1;33m)\u001b[0m\u001b[1;33m\u001b[0m\u001b[0m\n\u001b[0m\u001b[1;32m      3\u001b[0m \u001b[0mHTML\u001b[0m\u001b[1;33m(\u001b[0m\u001b[0mhtml\u001b[0m\u001b[1;33m.\u001b[0m\u001b[0mformat\u001b[0m\u001b[1;33m(\u001b[0m\u001b[0moptions\u001b[0m\u001b[1;33m)\u001b[0m\u001b[1;33m)\u001b[0m\u001b[1;33m\u001b[0m\u001b[0m\n",
      "\u001b[0;32m<ipython-input-5-9973612e621b>\u001b[0m in \u001b[0;36mwget\u001b[0;34m(method, url, body, headers)\u001b[0m\n\u001b[1;32m      6\u001b[0m \u001b[1;32mdef\u001b[0m \u001b[0mwget\u001b[0m\u001b[1;33m(\u001b[0m\u001b[0mmethod\u001b[0m\u001b[1;33m,\u001b[0m\u001b[0murl\u001b[0m\u001b[1;33m,\u001b[0m\u001b[0mbody\u001b[0m\u001b[1;33m=\u001b[0m\u001b[1;34m''\u001b[0m\u001b[1;33m,\u001b[0m\u001b[0mheaders\u001b[0m\u001b[1;33m=\u001b[0m\u001b[1;33m{\u001b[0m\u001b[1;33m}\u001b[0m\u001b[1;33m)\u001b[0m\u001b[1;33m:\u001b[0m\u001b[1;33m\u001b[0m\u001b[0m\n\u001b[1;32m      7\u001b[0m     \u001b[0mconn\u001b[0m \u001b[1;33m=\u001b[0m \u001b[0mhttp\u001b[0m\u001b[1;33m.\u001b[0m\u001b[0mclient\u001b[0m\u001b[1;33m.\u001b[0m\u001b[0mHTTPConnection\u001b[0m\u001b[1;33m(\u001b[0m\u001b[1;34m'localhost:8080'\u001b[0m\u001b[1;33m)\u001b[0m\u001b[1;33m\u001b[0m\u001b[0m\n\u001b[0;32m----> 8\u001b[0;31m     \u001b[0mconn\u001b[0m\u001b[1;33m.\u001b[0m\u001b[0mrequest\u001b[0m\u001b[1;33m(\u001b[0m\u001b[0mmethod\u001b[0m\u001b[1;33m,\u001b[0m\u001b[0murl\u001b[0m\u001b[1;33m,\u001b[0m\u001b[0mbody\u001b[0m\u001b[1;33m,\u001b[0m\u001b[0mheaders\u001b[0m\u001b[1;33m)\u001b[0m\u001b[1;33m\u001b[0m\u001b[0m\n\u001b[0m\u001b[1;32m      9\u001b[0m     \u001b[0mresponse\u001b[0m \u001b[1;33m=\u001b[0m \u001b[0mconn\u001b[0m\u001b[1;33m.\u001b[0m\u001b[0mgetresponse\u001b[0m\u001b[1;33m(\u001b[0m\u001b[1;33m)\u001b[0m\u001b[1;33m\u001b[0m\u001b[0m\n\u001b[1;32m     10\u001b[0m     \u001b[0minfo\u001b[0m \u001b[1;33m=\u001b[0m \u001b[1;33m{\u001b[0m \u001b[1;34m'status'\u001b[0m\u001b[1;33m:\u001b[0m \u001b[0mresponse\u001b[0m\u001b[1;33m.\u001b[0m\u001b[0mstatus\u001b[0m\u001b[1;33m,\u001b[0m \u001b[1;34m'reason'\u001b[0m\u001b[1;33m:\u001b[0m\u001b[0mresponse\u001b[0m\u001b[1;33m.\u001b[0m\u001b[0mreason\u001b[0m \u001b[1;33m}\u001b[0m\u001b[1;33m\u001b[0m\u001b[0m\n",
      "\u001b[0;32mC:\\ProgramData\\Anaconda3\\lib\\http\\client.py\u001b[0m in \u001b[0;36mrequest\u001b[0;34m(self, method, url, body, headers, encode_chunked)\u001b[0m\n\u001b[1;32m   1237\u001b[0m                 encode_chunked=False):\n\u001b[1;32m   1238\u001b[0m         \u001b[1;34m\"\"\"Send a complete request to the server.\"\"\"\u001b[0m\u001b[1;33m\u001b[0m\u001b[0m\n\u001b[0;32m-> 1239\u001b[0;31m         \u001b[0mself\u001b[0m\u001b[1;33m.\u001b[0m\u001b[0m_send_request\u001b[0m\u001b[1;33m(\u001b[0m\u001b[0mmethod\u001b[0m\u001b[1;33m,\u001b[0m \u001b[0murl\u001b[0m\u001b[1;33m,\u001b[0m \u001b[0mbody\u001b[0m\u001b[1;33m,\u001b[0m \u001b[0mheaders\u001b[0m\u001b[1;33m,\u001b[0m \u001b[0mencode_chunked\u001b[0m\u001b[1;33m)\u001b[0m\u001b[1;33m\u001b[0m\u001b[0m\n\u001b[0m\u001b[1;32m   1240\u001b[0m \u001b[1;33m\u001b[0m\u001b[0m\n\u001b[1;32m   1241\u001b[0m     \u001b[1;32mdef\u001b[0m \u001b[0m_send_request\u001b[0m\u001b[1;33m(\u001b[0m\u001b[0mself\u001b[0m\u001b[1;33m,\u001b[0m \u001b[0mmethod\u001b[0m\u001b[1;33m,\u001b[0m \u001b[0murl\u001b[0m\u001b[1;33m,\u001b[0m \u001b[0mbody\u001b[0m\u001b[1;33m,\u001b[0m \u001b[0mheaders\u001b[0m\u001b[1;33m,\u001b[0m \u001b[0mencode_chunked\u001b[0m\u001b[1;33m)\u001b[0m\u001b[1;33m:\u001b[0m\u001b[1;33m\u001b[0m\u001b[0m\n",
      "\u001b[0;32mC:\\ProgramData\\Anaconda3\\lib\\http\\client.py\u001b[0m in \u001b[0;36m_send_request\u001b[0;34m(self, method, url, body, headers, encode_chunked)\u001b[0m\n\u001b[1;32m   1283\u001b[0m             \u001b[1;31m# default charset of iso-8859-1.\u001b[0m\u001b[1;33m\u001b[0m\u001b[1;33m\u001b[0m\u001b[0m\n\u001b[1;32m   1284\u001b[0m             \u001b[0mbody\u001b[0m \u001b[1;33m=\u001b[0m \u001b[0m_encode\u001b[0m\u001b[1;33m(\u001b[0m\u001b[0mbody\u001b[0m\u001b[1;33m,\u001b[0m \u001b[1;34m'body'\u001b[0m\u001b[1;33m)\u001b[0m\u001b[1;33m\u001b[0m\u001b[0m\n\u001b[0;32m-> 1285\u001b[0;31m         \u001b[0mself\u001b[0m\u001b[1;33m.\u001b[0m\u001b[0mendheaders\u001b[0m\u001b[1;33m(\u001b[0m\u001b[0mbody\u001b[0m\u001b[1;33m,\u001b[0m \u001b[0mencode_chunked\u001b[0m\u001b[1;33m=\u001b[0m\u001b[0mencode_chunked\u001b[0m\u001b[1;33m)\u001b[0m\u001b[1;33m\u001b[0m\u001b[0m\n\u001b[0m\u001b[1;32m   1286\u001b[0m \u001b[1;33m\u001b[0m\u001b[0m\n\u001b[1;32m   1287\u001b[0m     \u001b[1;32mdef\u001b[0m \u001b[0mgetresponse\u001b[0m\u001b[1;33m(\u001b[0m\u001b[0mself\u001b[0m\u001b[1;33m)\u001b[0m\u001b[1;33m:\u001b[0m\u001b[1;33m\u001b[0m\u001b[0m\n",
      "\u001b[0;32mC:\\ProgramData\\Anaconda3\\lib\\http\\client.py\u001b[0m in \u001b[0;36mendheaders\u001b[0;34m(self, message_body, encode_chunked)\u001b[0m\n\u001b[1;32m   1232\u001b[0m         \u001b[1;32melse\u001b[0m\u001b[1;33m:\u001b[0m\u001b[1;33m\u001b[0m\u001b[0m\n\u001b[1;32m   1233\u001b[0m             \u001b[1;32mraise\u001b[0m \u001b[0mCannotSendHeader\u001b[0m\u001b[1;33m(\u001b[0m\u001b[1;33m)\u001b[0m\u001b[1;33m\u001b[0m\u001b[0m\n\u001b[0;32m-> 1234\u001b[0;31m         \u001b[0mself\u001b[0m\u001b[1;33m.\u001b[0m\u001b[0m_send_output\u001b[0m\u001b[1;33m(\u001b[0m\u001b[0mmessage_body\u001b[0m\u001b[1;33m,\u001b[0m \u001b[0mencode_chunked\u001b[0m\u001b[1;33m=\u001b[0m\u001b[0mencode_chunked\u001b[0m\u001b[1;33m)\u001b[0m\u001b[1;33m\u001b[0m\u001b[0m\n\u001b[0m\u001b[1;32m   1235\u001b[0m \u001b[1;33m\u001b[0m\u001b[0m\n\u001b[1;32m   1236\u001b[0m     def request(self, method, url, body=None, headers={}, *,\n",
      "\u001b[0;32mC:\\ProgramData\\Anaconda3\\lib\\http\\client.py\u001b[0m in \u001b[0;36m_send_output\u001b[0;34m(self, message_body, encode_chunked)\u001b[0m\n\u001b[1;32m   1024\u001b[0m         \u001b[0mmsg\u001b[0m \u001b[1;33m=\u001b[0m \u001b[1;34mb\"\\r\\n\"\u001b[0m\u001b[1;33m.\u001b[0m\u001b[0mjoin\u001b[0m\u001b[1;33m(\u001b[0m\u001b[0mself\u001b[0m\u001b[1;33m.\u001b[0m\u001b[0m_buffer\u001b[0m\u001b[1;33m)\u001b[0m\u001b[1;33m\u001b[0m\u001b[0m\n\u001b[1;32m   1025\u001b[0m         \u001b[1;32mdel\u001b[0m \u001b[0mself\u001b[0m\u001b[1;33m.\u001b[0m\u001b[0m_buffer\u001b[0m\u001b[1;33m[\u001b[0m\u001b[1;33m:\u001b[0m\u001b[1;33m]\u001b[0m\u001b[1;33m\u001b[0m\u001b[0m\n\u001b[0;32m-> 1026\u001b[0;31m         \u001b[0mself\u001b[0m\u001b[1;33m.\u001b[0m\u001b[0msend\u001b[0m\u001b[1;33m(\u001b[0m\u001b[0mmsg\u001b[0m\u001b[1;33m)\u001b[0m\u001b[1;33m\u001b[0m\u001b[0m\n\u001b[0m\u001b[1;32m   1027\u001b[0m \u001b[1;33m\u001b[0m\u001b[0m\n\u001b[1;32m   1028\u001b[0m         \u001b[1;32mif\u001b[0m \u001b[0mmessage_body\u001b[0m \u001b[1;32mis\u001b[0m \u001b[1;32mnot\u001b[0m \u001b[1;32mNone\u001b[0m\u001b[1;33m:\u001b[0m\u001b[1;33m\u001b[0m\u001b[0m\n",
      "\u001b[0;32mC:\\ProgramData\\Anaconda3\\lib\\http\\client.py\u001b[0m in \u001b[0;36msend\u001b[0;34m(self, data)\u001b[0m\n\u001b[1;32m    962\u001b[0m         \u001b[1;32mif\u001b[0m \u001b[0mself\u001b[0m\u001b[1;33m.\u001b[0m\u001b[0msock\u001b[0m \u001b[1;32mis\u001b[0m \u001b[1;32mNone\u001b[0m\u001b[1;33m:\u001b[0m\u001b[1;33m\u001b[0m\u001b[0m\n\u001b[1;32m    963\u001b[0m             \u001b[1;32mif\u001b[0m \u001b[0mself\u001b[0m\u001b[1;33m.\u001b[0m\u001b[0mauto_open\u001b[0m\u001b[1;33m:\u001b[0m\u001b[1;33m\u001b[0m\u001b[0m\n\u001b[0;32m--> 964\u001b[0;31m                 \u001b[0mself\u001b[0m\u001b[1;33m.\u001b[0m\u001b[0mconnect\u001b[0m\u001b[1;33m(\u001b[0m\u001b[1;33m)\u001b[0m\u001b[1;33m\u001b[0m\u001b[0m\n\u001b[0m\u001b[1;32m    965\u001b[0m             \u001b[1;32melse\u001b[0m\u001b[1;33m:\u001b[0m\u001b[1;33m\u001b[0m\u001b[0m\n\u001b[1;32m    966\u001b[0m                 \u001b[1;32mraise\u001b[0m \u001b[0mNotConnected\u001b[0m\u001b[1;33m(\u001b[0m\u001b[1;33m)\u001b[0m\u001b[1;33m\u001b[0m\u001b[0m\n",
      "\u001b[0;32mC:\\ProgramData\\Anaconda3\\lib\\http\\client.py\u001b[0m in \u001b[0;36mconnect\u001b[0;34m(self)\u001b[0m\n\u001b[1;32m    934\u001b[0m         \u001b[1;34m\"\"\"Connect to the host and port specified in __init__.\"\"\"\u001b[0m\u001b[1;33m\u001b[0m\u001b[0m\n\u001b[1;32m    935\u001b[0m         self.sock = self._create_connection(\n\u001b[0;32m--> 936\u001b[0;31m             (self.host,self.port), self.timeout, self.source_address)\n\u001b[0m\u001b[1;32m    937\u001b[0m         \u001b[0mself\u001b[0m\u001b[1;33m.\u001b[0m\u001b[0msock\u001b[0m\u001b[1;33m.\u001b[0m\u001b[0msetsockopt\u001b[0m\u001b[1;33m(\u001b[0m\u001b[0msocket\u001b[0m\u001b[1;33m.\u001b[0m\u001b[0mIPPROTO_TCP\u001b[0m\u001b[1;33m,\u001b[0m \u001b[0msocket\u001b[0m\u001b[1;33m.\u001b[0m\u001b[0mTCP_NODELAY\u001b[0m\u001b[1;33m,\u001b[0m \u001b[1;36m1\u001b[0m\u001b[1;33m)\u001b[0m\u001b[1;33m\u001b[0m\u001b[0m\n\u001b[1;32m    938\u001b[0m \u001b[1;33m\u001b[0m\u001b[0m\n",
      "\u001b[0;32mC:\\ProgramData\\Anaconda3\\lib\\socket.py\u001b[0m in \u001b[0;36mcreate_connection\u001b[0;34m(address, timeout, source_address)\u001b[0m\n\u001b[1;32m    720\u001b[0m \u001b[1;33m\u001b[0m\u001b[0m\n\u001b[1;32m    721\u001b[0m     \u001b[1;32mif\u001b[0m \u001b[0merr\u001b[0m \u001b[1;32mis\u001b[0m \u001b[1;32mnot\u001b[0m \u001b[1;32mNone\u001b[0m\u001b[1;33m:\u001b[0m\u001b[1;33m\u001b[0m\u001b[0m\n\u001b[0;32m--> 722\u001b[0;31m         \u001b[1;32mraise\u001b[0m \u001b[0merr\u001b[0m\u001b[1;33m\u001b[0m\u001b[0m\n\u001b[0m\u001b[1;32m    723\u001b[0m     \u001b[1;32melse\u001b[0m\u001b[1;33m:\u001b[0m\u001b[1;33m\u001b[0m\u001b[0m\n\u001b[1;32m    724\u001b[0m         \u001b[1;32mraise\u001b[0m \u001b[0merror\u001b[0m\u001b[1;33m(\u001b[0m\u001b[1;34m\"getaddrinfo returns an empty list\"\u001b[0m\u001b[1;33m)\u001b[0m\u001b[1;33m\u001b[0m\u001b[0m\n",
      "\u001b[0;32mC:\\ProgramData\\Anaconda3\\lib\\socket.py\u001b[0m in \u001b[0;36mcreate_connection\u001b[0;34m(address, timeout, source_address)\u001b[0m\n\u001b[1;32m    711\u001b[0m             \u001b[1;32mif\u001b[0m \u001b[0msource_address\u001b[0m\u001b[1;33m:\u001b[0m\u001b[1;33m\u001b[0m\u001b[0m\n\u001b[1;32m    712\u001b[0m                 \u001b[0msock\u001b[0m\u001b[1;33m.\u001b[0m\u001b[0mbind\u001b[0m\u001b[1;33m(\u001b[0m\u001b[0msource_address\u001b[0m\u001b[1;33m)\u001b[0m\u001b[1;33m\u001b[0m\u001b[0m\n\u001b[0;32m--> 713\u001b[0;31m             \u001b[0msock\u001b[0m\u001b[1;33m.\u001b[0m\u001b[0mconnect\u001b[0m\u001b[1;33m(\u001b[0m\u001b[0msa\u001b[0m\u001b[1;33m)\u001b[0m\u001b[1;33m\u001b[0m\u001b[0m\n\u001b[0m\u001b[1;32m    714\u001b[0m             \u001b[1;32mreturn\u001b[0m \u001b[0msock\u001b[0m\u001b[1;33m\u001b[0m\u001b[0m\n\u001b[1;32m    715\u001b[0m \u001b[1;33m\u001b[0m\u001b[0m\n",
      "\u001b[0;31mConnectionRefusedError\u001b[0m: [WinError 10061] Aucune connexion n’a pu être établie car l’ordinateur cible l’a expressément refusée"
     ]
    }
   ],
   "source": [
    "html = '<select>{}</select>'\n",
    "options = str(wget('GET','/service/image','',{'Accept' : 'text/html'}), 'utf-8')\n",
    "HTML(html.format(options))"
   ]
  },
  {
   "cell_type": "markdown",
   "metadata": {},
   "source": [
    "#### 2.3 Affichage dynamique d'une image\n",
    "\n",
    "Pour afficher automagiquement l'image sélectionnée, un peu de code javascript est nécessaire.\n",
    "\n",
    "__Q4. Afficher dynamiquement l'image choisie :__\n",
    "<div style=\"background-color:#eef;padding:10px;border-radius:3px\">\n",
    "Réitérer le travail effectué pour la question 2, puis :\n",
    "<ul style=\"margin-top:0\">\n",
    "<li style=\"margin-top:0\">ajouter au code HTML une balise <tt>&lt;img id=\"image1\"&gt;</tt>,\n",
    "<li style=\"margin-top:0\">ajouter à la balise <tt>select</tt> un attribut <tt>onchange=\"image1.src = '<span>http:</span>//localhost:8080'+this.value\"</tt>\n",
    "</ul>\n",
    "<br>\n",
    "et profiter du résultat...\n",
    "</div>"
   ]
  },
  {
   "cell_type": "code",
   "execution_count": 7,
   "metadata": {
    "collapsed": false,
    "util.bundle": "correcteur"
   },
   "outputs": [
    {
     "ename": "ConnectionRefusedError",
     "evalue": "[WinError 10061] Aucune connexion n’a pu être établie car l’ordinateur cible l’a expressément refusée",
     "output_type": "error",
     "traceback": [
      "\u001b[0;31m---------------------------------------------------------------------------\u001b[0m",
      "\u001b[0;31mConnectionRefusedError\u001b[0m                    Traceback (most recent call last)",
      "\u001b[0;32m<ipython-input-7-81d414601b3a>\u001b[0m in \u001b[0;36m<module>\u001b[0;34m()\u001b[0m\n\u001b[1;32m      1\u001b[0m \u001b[0mhtml\u001b[0m \u001b[1;33m=\u001b[0m \u001b[1;34m'<select onchange=\"image1.src = \\'http://localhost:8080\\'+this.value\" style=\"width:200px\"> <option value=\"\" selected disabled>...</option>{}</select><img id=\"image1\" width=\"200\">'\u001b[0m\u001b[1;33m\u001b[0m\u001b[0m\n\u001b[0;32m----> 2\u001b[0;31m \u001b[0moptions\u001b[0m \u001b[1;33m=\u001b[0m \u001b[0mstr\u001b[0m\u001b[1;33m(\u001b[0m\u001b[0mwget\u001b[0m\u001b[1;33m(\u001b[0m\u001b[1;34m'GET'\u001b[0m\u001b[1;33m,\u001b[0m\u001b[1;34m'/service/image'\u001b[0m\u001b[1;33m,\u001b[0m\u001b[1;34m''\u001b[0m\u001b[1;33m,\u001b[0m\u001b[1;33m{\u001b[0m\u001b[1;34m'Accept'\u001b[0m \u001b[1;33m:\u001b[0m \u001b[1;34m'text/html'\u001b[0m\u001b[1;33m}\u001b[0m\u001b[1;33m)\u001b[0m\u001b[1;33m,\u001b[0m \u001b[1;34m'utf-8'\u001b[0m\u001b[1;33m)\u001b[0m\u001b[1;33m\u001b[0m\u001b[0m\n\u001b[0m\u001b[1;32m      3\u001b[0m \u001b[0mHTML\u001b[0m\u001b[1;33m(\u001b[0m\u001b[0mhtml\u001b[0m\u001b[1;33m.\u001b[0m\u001b[0mformat\u001b[0m\u001b[1;33m(\u001b[0m\u001b[0moptions\u001b[0m\u001b[1;33m)\u001b[0m\u001b[1;33m)\u001b[0m\u001b[1;33m\u001b[0m\u001b[0m\n",
      "\u001b[0;32m<ipython-input-5-9973612e621b>\u001b[0m in \u001b[0;36mwget\u001b[0;34m(method, url, body, headers)\u001b[0m\n\u001b[1;32m      6\u001b[0m \u001b[1;32mdef\u001b[0m \u001b[0mwget\u001b[0m\u001b[1;33m(\u001b[0m\u001b[0mmethod\u001b[0m\u001b[1;33m,\u001b[0m\u001b[0murl\u001b[0m\u001b[1;33m,\u001b[0m\u001b[0mbody\u001b[0m\u001b[1;33m=\u001b[0m\u001b[1;34m''\u001b[0m\u001b[1;33m,\u001b[0m\u001b[0mheaders\u001b[0m\u001b[1;33m=\u001b[0m\u001b[1;33m{\u001b[0m\u001b[1;33m}\u001b[0m\u001b[1;33m)\u001b[0m\u001b[1;33m:\u001b[0m\u001b[1;33m\u001b[0m\u001b[0m\n\u001b[1;32m      7\u001b[0m     \u001b[0mconn\u001b[0m \u001b[1;33m=\u001b[0m \u001b[0mhttp\u001b[0m\u001b[1;33m.\u001b[0m\u001b[0mclient\u001b[0m\u001b[1;33m.\u001b[0m\u001b[0mHTTPConnection\u001b[0m\u001b[1;33m(\u001b[0m\u001b[1;34m'localhost:8080'\u001b[0m\u001b[1;33m)\u001b[0m\u001b[1;33m\u001b[0m\u001b[0m\n\u001b[0;32m----> 8\u001b[0;31m     \u001b[0mconn\u001b[0m\u001b[1;33m.\u001b[0m\u001b[0mrequest\u001b[0m\u001b[1;33m(\u001b[0m\u001b[0mmethod\u001b[0m\u001b[1;33m,\u001b[0m\u001b[0murl\u001b[0m\u001b[1;33m,\u001b[0m\u001b[0mbody\u001b[0m\u001b[1;33m,\u001b[0m\u001b[0mheaders\u001b[0m\u001b[1;33m)\u001b[0m\u001b[1;33m\u001b[0m\u001b[0m\n\u001b[0m\u001b[1;32m      9\u001b[0m     \u001b[0mresponse\u001b[0m \u001b[1;33m=\u001b[0m \u001b[0mconn\u001b[0m\u001b[1;33m.\u001b[0m\u001b[0mgetresponse\u001b[0m\u001b[1;33m(\u001b[0m\u001b[1;33m)\u001b[0m\u001b[1;33m\u001b[0m\u001b[0m\n\u001b[1;32m     10\u001b[0m     \u001b[0minfo\u001b[0m \u001b[1;33m=\u001b[0m \u001b[1;33m{\u001b[0m \u001b[1;34m'status'\u001b[0m\u001b[1;33m:\u001b[0m \u001b[0mresponse\u001b[0m\u001b[1;33m.\u001b[0m\u001b[0mstatus\u001b[0m\u001b[1;33m,\u001b[0m \u001b[1;34m'reason'\u001b[0m\u001b[1;33m:\u001b[0m\u001b[0mresponse\u001b[0m\u001b[1;33m.\u001b[0m\u001b[0mreason\u001b[0m \u001b[1;33m}\u001b[0m\u001b[1;33m\u001b[0m\u001b[0m\n",
      "\u001b[0;32mC:\\ProgramData\\Anaconda3\\lib\\http\\client.py\u001b[0m in \u001b[0;36mrequest\u001b[0;34m(self, method, url, body, headers, encode_chunked)\u001b[0m\n\u001b[1;32m   1237\u001b[0m                 encode_chunked=False):\n\u001b[1;32m   1238\u001b[0m         \u001b[1;34m\"\"\"Send a complete request to the server.\"\"\"\u001b[0m\u001b[1;33m\u001b[0m\u001b[0m\n\u001b[0;32m-> 1239\u001b[0;31m         \u001b[0mself\u001b[0m\u001b[1;33m.\u001b[0m\u001b[0m_send_request\u001b[0m\u001b[1;33m(\u001b[0m\u001b[0mmethod\u001b[0m\u001b[1;33m,\u001b[0m \u001b[0murl\u001b[0m\u001b[1;33m,\u001b[0m \u001b[0mbody\u001b[0m\u001b[1;33m,\u001b[0m \u001b[0mheaders\u001b[0m\u001b[1;33m,\u001b[0m \u001b[0mencode_chunked\u001b[0m\u001b[1;33m)\u001b[0m\u001b[1;33m\u001b[0m\u001b[0m\n\u001b[0m\u001b[1;32m   1240\u001b[0m \u001b[1;33m\u001b[0m\u001b[0m\n\u001b[1;32m   1241\u001b[0m     \u001b[1;32mdef\u001b[0m \u001b[0m_send_request\u001b[0m\u001b[1;33m(\u001b[0m\u001b[0mself\u001b[0m\u001b[1;33m,\u001b[0m \u001b[0mmethod\u001b[0m\u001b[1;33m,\u001b[0m \u001b[0murl\u001b[0m\u001b[1;33m,\u001b[0m \u001b[0mbody\u001b[0m\u001b[1;33m,\u001b[0m \u001b[0mheaders\u001b[0m\u001b[1;33m,\u001b[0m \u001b[0mencode_chunked\u001b[0m\u001b[1;33m)\u001b[0m\u001b[1;33m:\u001b[0m\u001b[1;33m\u001b[0m\u001b[0m\n",
      "\u001b[0;32mC:\\ProgramData\\Anaconda3\\lib\\http\\client.py\u001b[0m in \u001b[0;36m_send_request\u001b[0;34m(self, method, url, body, headers, encode_chunked)\u001b[0m\n\u001b[1;32m   1283\u001b[0m             \u001b[1;31m# default charset of iso-8859-1.\u001b[0m\u001b[1;33m\u001b[0m\u001b[1;33m\u001b[0m\u001b[0m\n\u001b[1;32m   1284\u001b[0m             \u001b[0mbody\u001b[0m \u001b[1;33m=\u001b[0m \u001b[0m_encode\u001b[0m\u001b[1;33m(\u001b[0m\u001b[0mbody\u001b[0m\u001b[1;33m,\u001b[0m \u001b[1;34m'body'\u001b[0m\u001b[1;33m)\u001b[0m\u001b[1;33m\u001b[0m\u001b[0m\n\u001b[0;32m-> 1285\u001b[0;31m         \u001b[0mself\u001b[0m\u001b[1;33m.\u001b[0m\u001b[0mendheaders\u001b[0m\u001b[1;33m(\u001b[0m\u001b[0mbody\u001b[0m\u001b[1;33m,\u001b[0m \u001b[0mencode_chunked\u001b[0m\u001b[1;33m=\u001b[0m\u001b[0mencode_chunked\u001b[0m\u001b[1;33m)\u001b[0m\u001b[1;33m\u001b[0m\u001b[0m\n\u001b[0m\u001b[1;32m   1286\u001b[0m \u001b[1;33m\u001b[0m\u001b[0m\n\u001b[1;32m   1287\u001b[0m     \u001b[1;32mdef\u001b[0m \u001b[0mgetresponse\u001b[0m\u001b[1;33m(\u001b[0m\u001b[0mself\u001b[0m\u001b[1;33m)\u001b[0m\u001b[1;33m:\u001b[0m\u001b[1;33m\u001b[0m\u001b[0m\n",
      "\u001b[0;32mC:\\ProgramData\\Anaconda3\\lib\\http\\client.py\u001b[0m in \u001b[0;36mendheaders\u001b[0;34m(self, message_body, encode_chunked)\u001b[0m\n\u001b[1;32m   1232\u001b[0m         \u001b[1;32melse\u001b[0m\u001b[1;33m:\u001b[0m\u001b[1;33m\u001b[0m\u001b[0m\n\u001b[1;32m   1233\u001b[0m             \u001b[1;32mraise\u001b[0m \u001b[0mCannotSendHeader\u001b[0m\u001b[1;33m(\u001b[0m\u001b[1;33m)\u001b[0m\u001b[1;33m\u001b[0m\u001b[0m\n\u001b[0;32m-> 1234\u001b[0;31m         \u001b[0mself\u001b[0m\u001b[1;33m.\u001b[0m\u001b[0m_send_output\u001b[0m\u001b[1;33m(\u001b[0m\u001b[0mmessage_body\u001b[0m\u001b[1;33m,\u001b[0m \u001b[0mencode_chunked\u001b[0m\u001b[1;33m=\u001b[0m\u001b[0mencode_chunked\u001b[0m\u001b[1;33m)\u001b[0m\u001b[1;33m\u001b[0m\u001b[0m\n\u001b[0m\u001b[1;32m   1235\u001b[0m \u001b[1;33m\u001b[0m\u001b[0m\n\u001b[1;32m   1236\u001b[0m     def request(self, method, url, body=None, headers={}, *,\n",
      "\u001b[0;32mC:\\ProgramData\\Anaconda3\\lib\\http\\client.py\u001b[0m in \u001b[0;36m_send_output\u001b[0;34m(self, message_body, encode_chunked)\u001b[0m\n\u001b[1;32m   1024\u001b[0m         \u001b[0mmsg\u001b[0m \u001b[1;33m=\u001b[0m \u001b[1;34mb\"\\r\\n\"\u001b[0m\u001b[1;33m.\u001b[0m\u001b[0mjoin\u001b[0m\u001b[1;33m(\u001b[0m\u001b[0mself\u001b[0m\u001b[1;33m.\u001b[0m\u001b[0m_buffer\u001b[0m\u001b[1;33m)\u001b[0m\u001b[1;33m\u001b[0m\u001b[0m\n\u001b[1;32m   1025\u001b[0m         \u001b[1;32mdel\u001b[0m \u001b[0mself\u001b[0m\u001b[1;33m.\u001b[0m\u001b[0m_buffer\u001b[0m\u001b[1;33m[\u001b[0m\u001b[1;33m:\u001b[0m\u001b[1;33m]\u001b[0m\u001b[1;33m\u001b[0m\u001b[0m\n\u001b[0;32m-> 1026\u001b[0;31m         \u001b[0mself\u001b[0m\u001b[1;33m.\u001b[0m\u001b[0msend\u001b[0m\u001b[1;33m(\u001b[0m\u001b[0mmsg\u001b[0m\u001b[1;33m)\u001b[0m\u001b[1;33m\u001b[0m\u001b[0m\n\u001b[0m\u001b[1;32m   1027\u001b[0m \u001b[1;33m\u001b[0m\u001b[0m\n\u001b[1;32m   1028\u001b[0m         \u001b[1;32mif\u001b[0m \u001b[0mmessage_body\u001b[0m \u001b[1;32mis\u001b[0m \u001b[1;32mnot\u001b[0m \u001b[1;32mNone\u001b[0m\u001b[1;33m:\u001b[0m\u001b[1;33m\u001b[0m\u001b[0m\n",
      "\u001b[0;32mC:\\ProgramData\\Anaconda3\\lib\\http\\client.py\u001b[0m in \u001b[0;36msend\u001b[0;34m(self, data)\u001b[0m\n\u001b[1;32m    962\u001b[0m         \u001b[1;32mif\u001b[0m \u001b[0mself\u001b[0m\u001b[1;33m.\u001b[0m\u001b[0msock\u001b[0m \u001b[1;32mis\u001b[0m \u001b[1;32mNone\u001b[0m\u001b[1;33m:\u001b[0m\u001b[1;33m\u001b[0m\u001b[0m\n\u001b[1;32m    963\u001b[0m             \u001b[1;32mif\u001b[0m \u001b[0mself\u001b[0m\u001b[1;33m.\u001b[0m\u001b[0mauto_open\u001b[0m\u001b[1;33m:\u001b[0m\u001b[1;33m\u001b[0m\u001b[0m\n\u001b[0;32m--> 964\u001b[0;31m                 \u001b[0mself\u001b[0m\u001b[1;33m.\u001b[0m\u001b[0mconnect\u001b[0m\u001b[1;33m(\u001b[0m\u001b[1;33m)\u001b[0m\u001b[1;33m\u001b[0m\u001b[0m\n\u001b[0m\u001b[1;32m    965\u001b[0m             \u001b[1;32melse\u001b[0m\u001b[1;33m:\u001b[0m\u001b[1;33m\u001b[0m\u001b[0m\n\u001b[1;32m    966\u001b[0m                 \u001b[1;32mraise\u001b[0m \u001b[0mNotConnected\u001b[0m\u001b[1;33m(\u001b[0m\u001b[1;33m)\u001b[0m\u001b[1;33m\u001b[0m\u001b[0m\n",
      "\u001b[0;32mC:\\ProgramData\\Anaconda3\\lib\\http\\client.py\u001b[0m in \u001b[0;36mconnect\u001b[0;34m(self)\u001b[0m\n\u001b[1;32m    934\u001b[0m         \u001b[1;34m\"\"\"Connect to the host and port specified in __init__.\"\"\"\u001b[0m\u001b[1;33m\u001b[0m\u001b[0m\n\u001b[1;32m    935\u001b[0m         self.sock = self._create_connection(\n\u001b[0;32m--> 936\u001b[0;31m             (self.host,self.port), self.timeout, self.source_address)\n\u001b[0m\u001b[1;32m    937\u001b[0m         \u001b[0mself\u001b[0m\u001b[1;33m.\u001b[0m\u001b[0msock\u001b[0m\u001b[1;33m.\u001b[0m\u001b[0msetsockopt\u001b[0m\u001b[1;33m(\u001b[0m\u001b[0msocket\u001b[0m\u001b[1;33m.\u001b[0m\u001b[0mIPPROTO_TCP\u001b[0m\u001b[1;33m,\u001b[0m \u001b[0msocket\u001b[0m\u001b[1;33m.\u001b[0m\u001b[0mTCP_NODELAY\u001b[0m\u001b[1;33m,\u001b[0m \u001b[1;36m1\u001b[0m\u001b[1;33m)\u001b[0m\u001b[1;33m\u001b[0m\u001b[0m\n\u001b[1;32m    938\u001b[0m \u001b[1;33m\u001b[0m\u001b[0m\n",
      "\u001b[0;32mC:\\ProgramData\\Anaconda3\\lib\\socket.py\u001b[0m in \u001b[0;36mcreate_connection\u001b[0;34m(address, timeout, source_address)\u001b[0m\n\u001b[1;32m    720\u001b[0m \u001b[1;33m\u001b[0m\u001b[0m\n\u001b[1;32m    721\u001b[0m     \u001b[1;32mif\u001b[0m \u001b[0merr\u001b[0m \u001b[1;32mis\u001b[0m \u001b[1;32mnot\u001b[0m \u001b[1;32mNone\u001b[0m\u001b[1;33m:\u001b[0m\u001b[1;33m\u001b[0m\u001b[0m\n\u001b[0;32m--> 722\u001b[0;31m         \u001b[1;32mraise\u001b[0m \u001b[0merr\u001b[0m\u001b[1;33m\u001b[0m\u001b[0m\n\u001b[0m\u001b[1;32m    723\u001b[0m     \u001b[1;32melse\u001b[0m\u001b[1;33m:\u001b[0m\u001b[1;33m\u001b[0m\u001b[0m\n\u001b[1;32m    724\u001b[0m         \u001b[1;32mraise\u001b[0m \u001b[0merror\u001b[0m\u001b[1;33m(\u001b[0m\u001b[1;34m\"getaddrinfo returns an empty list\"\u001b[0m\u001b[1;33m)\u001b[0m\u001b[1;33m\u001b[0m\u001b[0m\n",
      "\u001b[0;32mC:\\ProgramData\\Anaconda3\\lib\\socket.py\u001b[0m in \u001b[0;36mcreate_connection\u001b[0;34m(address, timeout, source_address)\u001b[0m\n\u001b[1;32m    711\u001b[0m             \u001b[1;32mif\u001b[0m \u001b[0msource_address\u001b[0m\u001b[1;33m:\u001b[0m\u001b[1;33m\u001b[0m\u001b[0m\n\u001b[1;32m    712\u001b[0m                 \u001b[0msock\u001b[0m\u001b[1;33m.\u001b[0m\u001b[0mbind\u001b[0m\u001b[1;33m(\u001b[0m\u001b[0msource_address\u001b[0m\u001b[1;33m)\u001b[0m\u001b[1;33m\u001b[0m\u001b[0m\n\u001b[0;32m--> 713\u001b[0;31m             \u001b[0msock\u001b[0m\u001b[1;33m.\u001b[0m\u001b[0mconnect\u001b[0m\u001b[1;33m(\u001b[0m\u001b[0msa\u001b[0m\u001b[1;33m)\u001b[0m\u001b[1;33m\u001b[0m\u001b[0m\n\u001b[0m\u001b[1;32m    714\u001b[0m             \u001b[1;32mreturn\u001b[0m \u001b[0msock\u001b[0m\u001b[1;33m\u001b[0m\u001b[0m\n\u001b[1;32m    715\u001b[0m \u001b[1;33m\u001b[0m\u001b[0m\n",
      "\u001b[0;31mConnectionRefusedError\u001b[0m: [WinError 10061] Aucune connexion n’a pu être établie car l’ordinateur cible l’a expressément refusée"
     ]
    }
   ],
   "source": [
    "html = '<select onchange=\"image1.src = \\'http://localhost:8080\\'+this.value\" style=\"width:200px\"> \\\n",
    "<option value=\"\" selected disabled>...</option>\\\n",
    "{}\\\n",
    "</select>\\\n",
    "<img id=\"image1\" width=\"200\">'\n",
    "options = str(wget('GET','/service/image','',{'Accept' : 'text/html'}), 'utf-8')\n",
    "HTML(html.format(options))"
   ]
  },
  {
   "cell_type": "markdown",
   "metadata": {},
   "source": [
    "## 3. Modification et recalcul de la scène\n",
    "\n",
    "Cette partie était facile, car le code renvoyé par le serveur était du code HTML. Il suffisait donc de le récupérer et de l'intégrer tel quel dans l'interface.\n",
    "\n",
    "Pour modifier une scène, il va falloir récupérer sa description sérialisée au format JSON (cf. TD précédent) et la désérialiser en javascript pour obtenir un objet (en javascript les dictionnaires et les objets sont équivalents).\n",
    "La modification de cet objet pourra ensuite être effectuée (toujours en javascript). Pour l'enregistrer en base de données et générer l'image correspondante il faudra ensuite re-sérialiser l'objet et soumettre la modification au serveur.\n",
    "\n",
    "On se propose dans la suite de créer une interface opérationnelle permettant de modifier la couleur de la source de lumière d'une scène donnée.\n",
    "\n",
    "### 3.1 Mise en place de l'interface\n",
    "\n",
    "Le code HTML est classique. Il comporte une image, trois actionneurs permettant de modifier les trois composantes de couleur, et des zones de texte pour afficher le nom de la couleur et plus tard sa valeur :"
   ]
  },
  {
   "cell_type": "code",
   "execution_count": 8,
   "metadata": {
    "collapsed": false
   },
   "outputs": [
    {
     "data": {
      "text/html": [
       "<img id=\"image2\" style=\"margin-bottom: 1em; width: 200px; height: 150px; border: 1px solid #ccc;\"> <input type=\"range\" id=\"rin\" min=\"0\" max=\"1\" step=\"0.1\" style=\"width:200px; display: inline; position: relative; top: 5px\"> <span style=\"display: inline-block; width: 4em;\">rouge</span><span id=\"rin_value\"></span><br> <input type=\"range\" id=\"gin\" min=\"0\" max=\"1\" step=\"0.1\" style=\"width:200px; display: inline; position: relative; top: 5px\"> <span style=\"display: inline-block; width: 4em;\">vert</span><span id=\"gin_value\"></span><br> <input type=\"range\" id=\"bin\" min=\"0\" max=\"1\" step=\"0.1\" style=\"width:200px; display: inline; position: relative; top: 5px\"> <span style=\"display: inline-block; width: 4em;\">bleu</span><span id=\"bin_value\"></span><br> "
      ],
      "text/plain": [
       "<IPython.core.display.HTML object>"
      ]
     },
     "execution_count": 8,
     "metadata": {},
     "output_type": "execute_result"
    }
   ],
   "source": [
    "img_style = 'style=\"margin-bottom: 1em; width: 200px; height: 150px; border: 1px solid #ccc;\"'\n",
    "input_style = 'style=\"width:200px; display: inline; position: relative; top: 5px\"'\n",
    "span_style = 'style=\"display: inline-block; width: 4em;\"'\n",
    "html = '\\\n",
    "<img id=\"image2\" %ims> \\\n",
    "<input type=\"range\" id=\"rin\" min=\"0\" max=\"1\" step=\"0.1\" %is> <span %ss>rouge</span><span id=\"rin_value\"></span><br> \\\n",
    "<input type=\"range\" id=\"gin\" min=\"0\" max=\"1\" step=\"0.1\" %is> <span %ss>vert</span><span id=\"gin_value\"></span><br> \\\n",
    "<input type=\"range\" id=\"bin\" min=\"0\" max=\"1\" step=\"0.1\" %is> <span %ss>bleu</span><span id=\"bin_value\"></span><br> \\\n",
    "'.replace('%ims',img_style).replace('%is',input_style).replace('%ss',span_style)\n",
    "HTML(html)"
   ]
  },
  {
   "cell_type": "markdown",
   "metadata": {},
   "source": [
    "### 3.2 Chargement de l'image\n",
    "\n",
    "Le chargement de l'image se fait comme précédemment, au détail près que l'on a maintenant nommé la fonction <tt>update_image</tt> permettant d'afficher l'image à l'obtention de la réponse HTTP.\n",
    "\n",
    "Noter également que l'on construit l'URL de l'image à charger en ajoutant une chaîne de requête aléatoire (cf. la ligne javascript avec <tt>Math.random()</tt>), afin d'obliger le navigateur à effectivement recharger l'image à chaque fois que l'on exécute ce code. Sans cette astuce, comme le nom de l'image ne change pas, le navigateur ne la rechargerait pas après qu'elle ait été recalculée."
   ]
  },
  {
   "cell_type": "code",
   "execution_count": 9,
   "metadata": {
    "collapsed": false
   },
   "outputs": [
    {
     "data": {
      "text/html": [
       " <script>   var localhost = \"http://localhost:8080\";   var r = new XMLHttpRequest();   update_image = function() {     data = JSON.parse(this.responseText);     scene = JSON.parse(data.serial);    image2.src = localhost + data.url + \"?\" + Math.random();     rin_value.innerHTML = rin.value = scene.sources[0].color.r.toFixed(1);     gin_value.innerHTML = gin.value = scene.sources[0].color.g.toFixed(1);     bin_value.innerHTML = bin.value = scene.sources[0].color.b.toFixed(1);   };   r.onload = update_image;   r.open(\"GET\",localhost + \"/service/scene/1\",true);   r.send(); </script>"
      ],
      "text/plain": [
       "<IPython.core.display.HTML object>"
      ]
     },
     "execution_count": 9,
     "metadata": {},
     "output_type": "execute_result"
    }
   ],
   "source": [
    "html = ' \\\n",
    "<script> \\\n",
    "  var localhost = \"http://localhost:8080\"; \\\n",
    "  var r = new XMLHttpRequest(); \\\n",
    "  update_image = function() { \\\n",
    "    data = JSON.parse(this.responseText); \\\n",
    "    scene = JSON.parse(data.serial);\\\n",
    "    image2.src = localhost + data.url + \"?\" + Math.random(); \\\n",
    "    rin_value.innerHTML = rin.value = scene.sources[0].color.r.toFixed(1); \\\n",
    "    gin_value.innerHTML = gin.value = scene.sources[0].color.g.toFixed(1); \\\n",
    "    bin_value.innerHTML = bin.value = scene.sources[0].color.b.toFixed(1); \\\n",
    "  }; \\\n",
    "  r.onload = update_image; \\\n",
    "  r.open(\"GET\",localhost + \"/service/scene/1\",true); \\\n",
    "  r.send(); \\\n",
    "</script>'\n",
    "HTML(html)"
   ]
  },
  {
   "cell_type": "markdown",
   "metadata": {},
   "source": [
    "### 3.3 Interactivité et recalcul de l'image\n",
    "\n",
    "L'interactivité se met en place en écrivant un gestionnaire d'événement pour les trois actionneurs. Lors d'un déplacement de l'un des curseurs, le gestionnaire d'événement doit :\n",
    "<ul style=\"margin-top:0\">\n",
    "<li style=\"margin-top:0\">mettre à jour la valeur affichée dans le <tt>span</tt>,\n",
    "<li style=\"margin-top:0\">et soumettre une requête au serveur pour recalculer l'image.\n",
    "</ul>\n",
    "\n",
    "Lorsque l'image aura été recalculée, c'est à dire à l'obtention de la réponse HTTP, il suffira d'appeler la fonction <tt>update_image</tt> :"
   ]
  },
  {
   "cell_type": "code",
   "execution_count": 10,
   "metadata": {
    "collapsed": false
   },
   "outputs": [
    {
     "data": {
      "text/html": [
       " <script>   rin.onchange = bin.onchange = gin.onchange = function() {     scene.sources[0].color.r = parseFloat(rin.value);     scene.sources[0].color.g = parseFloat(gin.value);     scene.sources[0].color.b = parseFloat(bin.value);     body = JSON.stringify({operation: \"update\", serial:JSON.stringify(scene)});     var r = new XMLHttpRequest();     r.onload = update_image;     r.open(\"POST\",localhost + \"/service/scene/1\",true);     r.send(body);     console.log(body);   }; </script> "
      ],
      "text/plain": [
       "<IPython.core.display.HTML object>"
      ]
     },
     "execution_count": 10,
     "metadata": {},
     "output_type": "execute_result"
    }
   ],
   "source": [
    "html = ' \\\n",
    "<script> \\\n",
    "  rin.onchange = bin.onchange = gin.onchange = function() { \\\n",
    "    scene.sources[0].color.r = parseFloat(rin.value); \\\n",
    "    scene.sources[0].color.g = parseFloat(gin.value); \\\n",
    "    scene.sources[0].color.b = parseFloat(bin.value); \\\n",
    "    body = JSON.stringify({operation: \"update\", serial:JSON.stringify(scene)}); \\\n",
    "    var r = new XMLHttpRequest(); \\\n",
    "    r.onload = update_image; \\\n",
    "    r.open(\"POST\",localhost + \"/service/scene/1\",true); \\\n",
    "    r.send(body); \\\n",
    "    console.log(body); \\\n",
    "  }; \\\n",
    "</script> \\\n",
    "'\n",
    "HTML(html)"
   ]
  },
  {
   "cell_type": "markdown",
   "metadata": {},
   "source": [
    "Vérifiez en déplaçant les curseurs, maintenant l'image se met à jour !"
   ]
  },
  {
   "cell_type": "markdown",
   "metadata": {},
   "source": [
    "## 4. Passage en vraie grandeur\n",
    "\n",
    "Si l'écriture d'une interface Web via un notebook Python est possible (nous venons de le démontrer) il n'en reste pas moins que cette approche ne permet pas de développer une application à part entière.\n",
    "\n",
    "Pour cela il va falloir créer un document html avec le code html, css, et javascript mis en oeuvre au long du chapitre 3. ci-dessus. Votre document s'appelera <tt>eclairage.html</tt> et se trouvera dans le répertoire <tt>/client</tt>.\n",
    "\n",
    "__Q5. Développer un document html pour modifier l'éclairage de la scène n°1 :__\n",
    "<div style=\"background-color:#eef;padding:10px;border-radius:3px\">\n",
    "Récupérer et mettre en forme le code présenté ci-dessus pour en faire un document autonome exécutable directement dans un navigateur.\n",
    "<br><br>\n",
    "Si tout se passe bien, il devrait fonctionner à l'adresse <a href=\"http://localhost:8080/eclairage.html\">http://localhost:8080/eclairage.html</a>.\n",
    "</div>\n",
    "\n",
    "__Q6. Développer un document html pour modifier l'éclairage des scènes connues :__\n",
    "<div style=\"background-color:#eef;padding:10px;border-radius:3px\">\n",
    "Après avoir effectué une copie du précédent cette fois-ci nommée <tt>eclairage_scenes.html</tt>,\n",
    "modifier le programme pour récupérer la liste des scènes et pouvoir choisir celle dont on modifie l'éclairage.\n",
    "<br><br>\n",
    "Si tout se passe bien, il devrait fonctionner à l'adresse <a href=\"http://localhost:8080/eclairage_scenes.html\">http://localhost:8080/eclairage_scenes.html</a>.\n",
    "</div>\n"
   ]
  },
  {
   "cell_type": "markdown",
   "metadata": {},
   "source": [
    "<img src=\"eclairage.png\" width=\"300\">\n",
    "<center><a href=\"eclairage.png\">Exemple d'interface</a></center>"
   ]
  },
  {
   "cell_type": "code",
   "execution_count": 9,
   "metadata": {
    "collapsed": true
   },
   "outputs": [],
   "source": [
    "# Initialisation de la base de données\n",
    "import sqlite3\n",
    "conn = sqlite3.connect('rtserver.sqlite')\n",
    "c = conn.cursor()\n",
    "\n",
    "c.execute(\"DROP TABLE IF EXISTS scene\")\n",
    "c.execute(\"CREATE TABLE scene ( \\\n",
    "  id INTEGER PRIMARY KEY, \\\n",
    "  name TEXT UNIQUE NOT NULL, \\\n",
    "  serial TEXT NOT NULL, \\\n",
    "  width INTEGER,  \\\n",
    "  height INTEGER, \\\n",
    "  ptime REAL, \\\n",
    "  filename TEXT )\")\n",
    "\n",
    "plane = [\n",
    "    \"test_checkered_plane\",\n",
    "    '{\"_class_\": \"Scene\", \"name\": \"test_checkered_plane\", \"ambient\": {\"_class_\": \"rgb\", \"r\": 0, \"g\": 0, \"b\": 0}, \\\n",
    "\"max_bounce\": 3, \"faraway\": 1e+39, \"sources\": [{\"_class_\": \"LightSource\", \"position\": {\"_class_\": \"vec3\", \"x\": 0, \\\n",
    "\"y\": 10, \"z\": -5}, \"color\": {\"_class_\": \"rgb\", \"r\": 1, \"g\": 1, \"b\": 1}}], \"objects\": [{\"_class_\": \"CheckeredPlane\", \\\n",
    "\"position\": {\"_class_\": \"vec3\", \"x\": 0, \"y\": -0.5, \"z\": 0}, \"normal\": {\"_class_\": \"vec3\", \"x\": 0.0, \"y\": 1.0, \\\n",
    "\"z\": 0.0}, \"diffuse\": [{\"_class_\": \"rgb\", \"r\": 0.1, \"g\": 0.1, \"b\": 0.1}, {\"_class_\": \"rgb\", \"r\": 0.9, \"g\": 0.9, \\\n",
    "\"b\": 0.9}], \"ambient\": [{\"_class_\": \"rgb\", \"r\": 1.0, \"g\": 1.0, \"b\": 1.0}, {\"_class_\": \"rgb\", \"r\": 1.0, \"g\": 1.0, \\\n",
    "\"b\": 1.0}], \"specular\": [{\"_class_\": \"rgb\", \"r\": 0.5, \"g\": 0.5, \"b\": 0.5}, {\"_class_\": \"rgb\", \"r\": 0.5, \"g\": 0.5, \\\n",
    "\"b\": 0.5}], \"phong\": [70, 70], \"mirror\": [{\"_class_\": \"rgb\", \"r\": 0.5, \"g\": 0.5, \"b\": 0.5}, {\"_class_\": \"rgb\", \\\n",
    "\"r\": 0.5, \"g\": 0.5, \"b\": 0.5}], \"selector\": \\\n",
    "\"def selector(self,M):\\\\n  return ((M.x * 2 - 1000.5).astype(int) % 2) == ((M.z * 0.5 + 1000.5).astype(int) % 2)\"}], \\\n",
    "\"width\": 400, \"height\": 300, \"camera\": {\"_class_\": \"vec3\", \"x\": 0.0, \"y\": 0.1, \"z\": -10.0}}',\n",
    "    400, 300,\n",
    "    0.062,\n",
    "    \"client/images/test_checkered_plane.png\" \n",
    "]\n",
    "cube = [\n",
    "    \"test_cube\",\n",
    "    '{\"_class_\": \"Scene\", \"name\": \"test_cube\", \"ambient\": {\"_class_\": \"rgb\", \"r\": 0, \"g\": 0, \"b\": 0}, \\\n",
    "\"max_bounce\": 3, \"faraway\": 1e+39, \"sources\": [{\"_class_\": \"LightSource\", \"position\": {\"_class_\": \"vec3\", \\\n",
    "\"x\": 0, \"y\": 0, \"z\": -5}, \"color\": {\"_class_\": \"rgb\", \"r\": 1, \"g\": 1, \"b\": 1}}], \"objects\": [{\"_class_\": \\\n",
    "\"Cube\", \"center\": {\"_class_\": \"vec3\", \"x\": 0, \"y\": -0.1, \"z\": 1}, \"U\": {\"_class_\": \"vec3\", \"x\": 0.5000000000000001,\\\n",
    "\"y\": 0.7071067811865476, \"z\": -0.5000000000000001}, \"V\": {\"_class_\": \"vec3\", \"x\": 0.7071067811865476, \"y\": 0.0, \\\n",
    "\"z\": 0.7071067811865476}, \"width\": 0.4, \"diffuse\": [{\"_class_\": \"rgb\", \"r\": 0.5, \"g\": 0, \"b\": 0.5}, {\"_class_\": \"rgb\",\\\n",
    "\"r\": 0.5, \"g\": 0.5, \"b\": 0}, {\"_class_\": \"rgb\", \"r\": 0, \"g\": 0.5, \"b\": 0.5}, {\"_class_\": \"rgb\", \"r\": 0.75, \\\n",
    "\"g\": 0, \"b\": 0}, {\"_class_\": \"rgb\", \"r\": 0, \"g\": 0.75, \"b\": 0}, {\"_class_\": \"rgb\", \"r\": 0, \"g\": 0, \"b\": 0.75}], \\\n",
    "\"ambient\": [{\"_class_\": \"rgb\", \"r\": 1.0, \"g\": 1.0, \"b\": 1.0}, {\"_class_\": \"rgb\", \"r\": 1.0, \"g\": 1.0, \"b\": 1.0}, \\\n",
    "{\"_class_\": \"rgb\", \"r\": 1.0, \"g\": 1.0, \"b\": 1.0}, {\"_class_\": \"rgb\", \"r\": 1.0, \"g\": 1.0, \"b\": 1.0}, {\"_class_\": \\\n",
    "\"rgb\", \"r\": 1.0, \"g\": 1.0, \"b\": 1.0}, {\"_class_\": \"rgb\", \"r\": 1.0, \"g\": 1.0, \"b\": 1.0}], \"specular\": [{\"_class_\": \\\n",
    "\"rgb\", \"r\": 0.5, \"g\": 0.5, \"b\": 0.5}, {\"_class_\": \"rgb\", \"r\": 0.5, \"g\": 0.5, \"b\": 0.5}, {\"_class_\": \"rgb\", \"r\": 0.5, \\\n",
    "\"g\": 0.5, \"b\": 0.5}, {\"_class_\": \"rgb\", \"r\": 0.5, \"g\": 0.5, \"b\": 0.5}, {\"_class_\": \"rgb\", \"r\": 0.5, \"g\": 0.5, \\\n",
    "\"b\": 0.5}, {\"_class_\": \"rgb\", \"r\": 0.5, \"g\": 0.5, \"b\": 0.5}], \"phong\": [140, 140, 140, 140, 140, 140], \"mirror\": \\\n",
    "[{\"_class_\": \"rgb\", \"r\": 0.3, \"g\": 0.3, \"b\": 0.3}, {\"_class_\": \"rgb\", \"r\": 0.3, \"g\": 0.3, \"b\": 0.3}, {\"_class_\": \\\n",
    "\"rgb\", \"r\": 0.3, \"g\": 0.3, \"b\": 0.3}, {\"_class_\": \"rgb\", \"r\": 0.3, \"g\": 0.3, \"b\": 0.3}, {\"_class_\": \"rgb\", \\\n",
    "\"r\": 0.3, \"g\": 0.3, \"b\": 0.3}, {\"_class_\": \"rgb\", \"r\": 0.3, \"g\": 0.3, \"b\": 0.3}]}], \"width\": 400, \"height\": 300, \\\n",
    "\"camera\": {\"_class_\": \"vec3\", \"x\": 0.0, \"y\": 0.1, \"z\": -10.0}}',\n",
    "    400, 300,\n",
    "    0.141,\n",
    "    \"client/images/test_cube.png\"\n",
    "]\n",
    "polygon = [\n",
    "    'test_polygon',\n",
    "    '{\"name\": \"test_polygon\", \"_class_\": \"Scene\", \"sources\": [{\"_class_\": \"LightSource\", \"position\": {\"_class_\": \"vec3\",\\\n",
    "\"x\": 0, \"y\": 10, \"z\": -5}, \"color\": {\"_class_\": \"rgb\", \"r\": 1, \"g\": 1, \"b\": 1}}], \"objects\": [{\"_class_\": \"Polygon\", \"vertices\": [[0, 0], [0, 10], [1, 10], [1, 0]],\\\n",
    "\"position\": {\"_class_\": \"vec3\", \"x\": -0.5, \"y\": -0.5, \"z\": 1}, \"U\": {\"_class_\": \"vec3\", \"x\": 1, \"y\": 0, \"z\": 0}, \"V\":\\\n",
    "{\"_class_\": \"vec3\", \"x\": 0, \"y\": 0, \"z\": 1}, \"ns\": -1, \"diffuse\": 0.5, \"ambient\": 1.0, \"specular\": 0.5, \"phong\": 70,\\\n",
    "\"mirror\": 0.5}], \"camera\": {\"_class_\": \"vec3\", \"x\": 0.0, \"y\": 0.1, \"z\": -10.1}}',\n",
    "    400, 300, \n",
    "    0.034,\n",
    "    'client/images/test_polygon.png'\n",
    "]\n",
    "\n",
    "c.execute(\"INSERT INTO scene VALUES (NULL, ?, ?, ?, ?, ?, ?)\", plane)\n",
    "c.execute(\"INSERT INTO scene VALUES (NULL, ?, ?, ?, ?, ?, ?)\", cube)\n",
    "c.execute(\"INSERT INTO scene VALUES (NULL, ?, ?, ?, ?, ?, ?)\", polygon)\n",
    "conn.commit()"
   ]
  },
  {
   "cell_type": "code",
   "execution_count": 10,
   "metadata": {
    "collapsed": true
   },
   "outputs": [],
   "source": []
  }
 ],
 "metadata": {
  "kernelspec": {
   "display_name": "Python 3",
   "language": "python",
   "name": "python3"
  },
  "language_info": {
   "codemirror_mode": {
    "name": "ipython",
    "version": 3
   },
   "file_extension": ".py",
   "mimetype": "text/x-python",
   "name": "python",
   "nbconvert_exporter": "python",
   "pygments_lexer": "ipython3",
   "version": "3.6.0"
  }
 },
 "nbformat": 4,
 "nbformat_minor": 2
}
