{
 "cells": [
  {
   "cell_type": "markdown",
   "metadata": {},
   "source": [
    "# <center>Informatique tc3 (Projet Web) - TD2</center>"
   ]
  },
  {
   "cell_type": "markdown",
   "metadata": {},
   "source": [
    "## <center style=\"color: #66d\">Base de données SQLite, Firefox et SQLite manager, utilisation via Python</center>"
   ]
  },
  {
   "cell_type": "markdown",
   "metadata": {},
   "source": [
    "### 1. Prise en main d'une base de données SQLite"
   ]
  },
  {
   "cell_type": "markdown",
   "metadata": {},
   "source": [
    "Dans le cadre de ce TD nous utiliserons une base de données et développerons du code Python pour enregistrer des données, les modifier, les relire, et les réutiliser pour obtenir des représentations graphiques.\n",
    "\n",
    "La base de données sera au format SQLite _(fichier .sqlite)._ Toutes les opérations sur une base de données de ce type peuvent être effectuées depuis Python via le module _sqlite3_.\n",
    "\n",
    "Les fichiers qui vous ont été fournis pour ce TD comportent une base de données nommée _raytracing.sqlite_. Pour en observer le contenu il nous faut un outil. Ce logiciel nous permettra également d'interagir avec le contenu de la base <i>(créer, supprimer ou modifier des tables et des enregistrements, effectuer des requêtes SQL...)</i>.\n",
    "<img src=\"FF-SQLite.png\" style=\"float: right; border: 1px solid #CCC; margin-right: 10px\">\n",
    "<p>\n",
    "L'outil retenu s'appelle SQLite Manager et se présente sous la forme d'un add-on pour le navigateur Web Firefox. Firefox possède lui-même l'insigne avantage de pouvoir s'installer aussi bien sous Windows, que Mac ou Linux.\n",
    "\n",
    "\n",
    "__Q1. Installation de Firefox et SQLite manager :__\n",
    "<div style=\"background-color:#eef;padding:10px;border-radius:3px\">\n",
    "Télécharger et installer <a href=\"https://www.mozilla.org/fr/firefox/new/\">Firefox</a> s'il n'est pas déjà sur votre poste, puis installer l'add-on <a href=\"https://addons.mozilla.org/fr/firefox/addon/sqlite-manager/\">SQLite Manager</a> depuis Firefox lui-même.\n",
    "<p>\n",
    "Démarrer SQLite Manager et ouvrir la base de données _raytracer.sqlite_ pour constater l'existence d'une table nommée _scene_.\n",
    "<p>\n",
    "<img src=\"SQLite.png\">\n",
    "</div>"
   ]
  },
  {
   "cell_type": "markdown",
   "metadata": {},
   "source": [
    "### 2. Sérialisation des objets d'une scène de raytracing\n",
    "\n",
    "La table _scene_ a été conçue pour enregistrer les caractéristiques de scènes du type de celles que vous avez créées lors du TD n°1. Elle comporte les champs nécessaires pour :\n",
    "<ul style=\"margin-top:0\">\n",
    "<li style=\"margin-top:0\"> donner un identifiant unique à chacune des scènes enregistrées, sous forme d'un entier _id,_\n",
    "<li style=\"margin-top:0\"> nommer la scène, via le champ _name,_\n",
    "<li style=\"margin-top:0\"> indiquer les dimensions de l'image grâce à des entiers _width_ et _height,_\n",
    "<li style=\"margin-top:0\"> se souvenir du temps de calcul qui a été nécessaire pour obtenir la scène avec le réel _ptime,_\n",
    "<li style=\"margin-top:0\"> retrouver le fichier grâce à son nom : _filename._\n",
    "</ul>\n",
    "\n",
    "Il y a également un champ textuel nommé _serial_ destiné à donner la description de la scène. Cette description doit comporter tous les éléments permettant de reconstruire une scène identique. Ceci inclut les paramètres de la scène, ainsi que la liste de tous les objets qui la constituent, ainsi que leurs paramètres.\n",
    "\n",
    "La technique permettant d'obtenir une représentation textuelle à partir d'objets en mémoire, s'appelle la __sérialisation__. Nous serons bien entendu également intéressés par l'opération inverse permettant de reconstruire un objet à partir de sa description : la __désérialisation__.\n",
    "\n",
    "Il existe sous Python des modules comme <a href=\"https://docs.python.org/3.6/library/pickle.html\">pickle</a> permettant d'effectuer ces opérations. Malheureusement, ces modules ne sérialisent pas au format texte, mais dans un format binaire non lisible tel quel par des humains (ce n'est pas drôle), et parfois incompatible d'une version de Python à une autre (on ne peut pas désérialiser un objet sérialisé avec une version différente).\n",
    "\n",
    "Pour ces raisons, ainsi que pour des raisons pédagogiques, nous sérialiserons nos objets au format <a href=\"http://www.json.org/\">JSON</a>, implémenté en Python via le module <a href=\"https://docs.python.org/3.6/library/json.html\">json</a>."
   ]
  },
  {
   "cell_type": "code",
   "execution_count": 1,
   "metadata": {
    "collapsed": false
   },
   "outputs": [
    {
     "name": "stdout",
     "output_type": "stream",
     "text": [
      "<class 'str'>\n",
      "{\"a\": 1, \"b\": 2, \"c\": 3}\n"
     ]
    }
   ],
   "source": [
    "import json\n",
    "\n",
    "obj = {\"a\": 1, \"b\": 2, \"c\": 3}\n",
    "serialized = json.dumps(obj)\n",
    "\n",
    "# serialized est une chaîne de caractères :\n",
    "print(type(serialized))\n",
    "\n",
    "# et contient la description de l'objet :\n",
    "print(serialized)"
   ]
  },
  {
   "cell_type": "markdown",
   "metadata": {},
   "source": [
    "### 2.1 Attributs de base\n",
    "\n",
    "Pour sérialiser les attributs, chacune des classes du raytracer sera munie d'une méthode _dict()_ qui renverra un dictionnaire avec la liste des attributs à sérialiser. Le fait de renvoyer un dictionnaire et non une chaîne de caractères résultat de la sérialisation JSON, facilitera la sérialisation d'attributs qui doivent être eux-mêmes sérialisés _(cf. ci-dessous \"2.3 Composition\"),_ ainsi que le chaînage de la sérialisation des classes enfants vers les classes parentes _(cf. 2.4 Héritage.)_"
   ]
  },
  {
   "cell_type": "code",
   "execution_count": 2,
   "metadata": {
    "collapsed": false
   },
   "outputs": [
    {
     "name": "stdout",
     "output_type": "stream",
     "text": [
      "v: {\"x\": 1, \"y\": 2, \"z\": 3}\n"
     ]
    }
   ],
   "source": [
    "class vec3():\n",
    "    def __init__(self, x, y, z):\n",
    "        (self.x, self.y, self.z) = (x, y, z)\n",
    "    \n",
    "    def dict(self):\n",
    "        return self.__dict__\n",
    "    \n",
    "v = vec3(1,2,3)\n",
    "serialized = json.dumps(v.dict())\n",
    "print(\"v: {}\".format(serialized))"
   ]
  },
  {
   "cell_type": "markdown",
   "metadata": {},
   "source": [
    "Ceci dit, cela n'est pas forcément toujours aussi simple, et l'on peut tricher en renommant les attributs :"
   ]
  },
  {
   "cell_type": "code",
   "execution_count": 3,
   "metadata": {
    "collapsed": false
   },
   "outputs": [
    {
     "name": "stdout",
     "output_type": "stream",
     "text": [
      "color: {\"r\": 1.0, \"g\": 0.647, \"b\": 0.0}\n"
     ]
    }
   ],
   "source": [
    "class rgb(vec3):    \n",
    "    def dict(self):\n",
    "        return {\"r\": self.x, \"g\": self.y, \"b\": self.z}\n",
    "    \n",
    "orange = rgb(1.0, 0.647, 0.0)\n",
    "serialized = json.dumps(orange.dict())\n",
    "\n",
    "print(\"color: {}\".format(serialized))"
   ]
  },
  {
   "cell_type": "markdown",
   "metadata": {},
   "source": [
    "### 2.2 Classe des objets\n",
    "\n",
    "Le fait de sérialiser les _objets_ sous forme d'un _dictionnaire_ nous fait perdre une information : le nom de la classe.\n",
    "C'est la raison pour laquelle nous conviendrons d'ajouter un élément au dictionnaire, dont la clé sera nommée <i>_</i>_class_<i>_</i> et dont la valeur correspondra au nom de la classe de l'objet :"
   ]
  },
  {
   "cell_type": "code",
   "execution_count": 11,
   "metadata": {
    "collapsed": false
   },
   "outputs": [
    {
     "name": "stdout",
     "output_type": "stream",
     "text": [
      "color: {\"_class_\": \"rgb\", \"r\": 1.0, \"g\": 0.647, \"b\": 0.0}\n"
     ]
    }
   ],
   "source": [
    "import json\n",
    "class rgb(vec3):\n",
    "    def dict(self):\n",
    "        return {\n",
    "            \"_class_\": self.__class__.__name__,\n",
    "            \"r\": self.x,\n",
    "            \"g\":self.y,\n",
    "            \"b\":self.z\n",
    "        }\n",
    "\n",
    "orange = rgb(1.0, 0.647, 0.0)\n",
    "serialized = json.dumps(orange.dict())\n",
    "\n",
    "print(\"color: {}\".format(serialized))"
   ]
  },
  {
   "cell_type": "markdown",
   "metadata": {},
   "source": [
    "### 2.3 Composition\n",
    "\n",
    "Dans l'exemple ci-dessous, les attributs _position_ et _color_ de la classe _LightSource_ sont respectivement des objets de la classe _vec3_ et _rgb._\n",
    "\n",
    "Pour obtenir une représentation sérialisée d'une source de lumière, il faut que la méthode _dict()_ de la classe _LightSource_ renvoie un dictionnaire pour ses attributs _position_ et _color_. L'obtention d'un dictionnaire pour ces attributs s'effectuera bien sûr grâce à leur méthode _dict()._ \n",
    "\n",
    "__Q2. Sérialisation d'un objet composé :__\n",
    "<div style=\"background-color:#eef;padding:10px;border-radius:3px\">\n",
    "A partir du fragment ci-dessous, écrire le code de la classe _LightSource_ avec le nécessaire pour en permettre la sérialisation, et ajouter le code permettant de tester le résultat. Penser également à redéfinir la classe _vec3_ pour que la sérialisation obtenue pour l'attribut _position_ comporte bien la clé <i>_</i>_class_<i>_</i>.\n",
    "<p>\n",
    "<pre style=\"background-color:#eef; margin:0\">\n",
    "class LightSource():\n",
    "    def __init__(self,position,color):\n",
    "        self.position = position\n",
    "        self.color = color\n",
    "\n",
    "    def dict(self):\n",
    "        pass\n",
    "\n",
    "source = LightSource( vec3(1,2,3), rgb(1,0.5,0))\n",
    "</pre>\n",
    "</div>"
   ]
  },
  {
   "cell_type": "code",
   "execution_count": 13,
   "metadata": {
    "collapsed": false,
    "util.bundle": "correcteur"
   },
   "outputs": [
    {
     "name": "stdout",
     "output_type": "stream",
     "text": [
      "LightSource: {\"position\": {\"_class_\": \"vec3\", \"x\": 1, \"y\": 2, \"z\": 3}, \"color\": {\"_class_\": \"rgb\", \"r\": 1, \"g\": 0.5, \"b\": 0}}\n"
     ]
    }
   ],
   "source": [
    "import json\n",
    "class vec3():\n",
    "    def __init__(self, x, y, z):\n",
    "        (self.x, self.y, self.z) = (x, y, z)\n",
    "    \n",
    "    def dict(self):\n",
    "        return {\n",
    "            \"_class_\": self.__class__.__name__,\n",
    "            \"x\": self.x,\n",
    "            \"y\": self.y,\n",
    "            \"z\": self.z\n",
    "        }\n",
    "    \n",
    "class LightSource():\n",
    "    def __init__(self,position,color):\n",
    "        self.position = position\n",
    "        self.color = color\n",
    "\n",
    "    def dict(self):\n",
    "        return {\"position\" : self.position.dict(), \"color\" : self.color.dict()}\n",
    "    \n",
    "\n",
    "source = LightSource(vec3(1,2,3), rgb(1,0.5,0))\n",
    "\n",
    "serialized = json.dumps(source.dict())\n",
    "\n",
    "print(\"LightSource: {}\".format(serialized))"
   ]
  },
  {
   "cell_type": "markdown",
   "metadata": {},
   "source": [
    "### 2.4 Héritage\n",
    "\n",
    "Afin de faciliter la sérialisation des classes filles, la méthode _dict()_ d'une classe mère admettra un paramètre _other_ permettant d'inclure les attributs de la classe fille :"
   ]
  },
  {
   "cell_type": "code",
   "execution_count": 15,
   "metadata": {
    "collapsed": true
   },
   "outputs": [],
   "source": [
    "class Artifact():\n",
    "    def __init__(self, color, ambient = 1.0, specular = 0.5, phong = 70, mirror = 0.5):\n",
    "        self.color = color\n",
    "        self.ambient = ambient\n",
    "        self.specular = specular\n",
    "        self.phong = phong\n",
    "        self.mirror = mirror\n",
    "        \n",
    "    def dict(self, other={}):\n",
    "        kwargs = ['ambient', 'specular', 'phong', 'mirror']\n",
    "        return {\n",
    "            \"_class_\": self.__class__.__name__,\n",
    "            **other,\n",
    "            \"color\": self.color.dict(),\n",
    "            **{k: getattr(self,k) for k in kwargs}\n",
    "        }\n",
    "\n",
    "class Sphere(Artifact):\n",
    "    def __init__(self, center, r, *args, **kwargs):\n",
    "        Artifact.__init__(self, *args, **kwargs)\n",
    "        self.c = center\n",
    "        self.r = r\n",
    "        \n",
    "    def dict(self):\n",
    "        return Artifact.dict(self, {\n",
    "            \"center\": self.c.dict(),\n",
    "            \"radius\": self.r\n",
    "        })"
   ]
  },
  {
   "cell_type": "markdown",
   "metadata": {},
   "source": [
    "__Q3. Sérialisation de classes filles :__\n",
    "<div style=\"background-color:#eef;padding:10px;border-radius:3px\">\n",
    "&Eacute;crire le code python permettant de tester la sérialisation d'un sphère telle que définie ci-dessus.\n",
    "<br><br>\n",
    "__N.B.__ : il est attendu que le centre de la sphère soit spécifié via un objet de la classe _vec3_, et la couleur d'un artefact via un objet de la classe _rgb._\n",
    "</div>"
   ]
  },
  {
   "cell_type": "code",
   "execution_count": 18,
   "metadata": {
    "collapsed": false,
    "util.bundle": "correcteur"
   },
   "outputs": [
    {
     "name": "stdout",
     "output_type": "stream",
     "text": [
      "Sphere: {\"_class_\": \"Sphere\", \"center\": {\"_class_\": \"vec3\", \"x\": 1, \"y\": 2, \"z\": 3}, \"radius\": 5, \"color\": {\"_class_\": \"rgb\", \"r\": 1, \"g\": 1, \"b\": 1}, \"ambient\": 2, \"specular\": 2, \"phong\": 80, \"mirror\": 0.7}\n"
     ]
    }
   ],
   "source": [
    "import json\n",
    "sphere = Sphere(vec3(1,2,3),5,rgb(1,1,1),ambient=2, specular= 2, phong=80, mirror= 0.7)\n",
    "\n",
    "serialized = json.dumps(sphere.dict())\n",
    "\n",
    "print(\"Sphere: {}\".format(serialized))\n"
   ]
  },
  {
   "cell_type": "markdown",
   "metadata": {},
   "source": [
    "## 3. Désérialisation\n",
    "\n",
    "### 3.1 Désérialisation d'un dictionnaire\n",
    "\n",
    "Le module _json_ fournit la méthode _loads()_ qui effectue l'opération inverse de _dumps()_ :"
   ]
  },
  {
   "cell_type": "code",
   "execution_count": 8,
   "metadata": {
    "collapsed": false
   },
   "outputs": [
    {
     "name": "stdout",
     "output_type": "stream",
     "text": [
      "serialized : <class 'str'> {\"a\": 1, \"b\": 2, \"c\": 3}\n",
      "deserialized : <class 'dict'> {'a': 1, 'b': 2, 'c': 3}\n"
     ]
    }
   ],
   "source": [
    "import json\n",
    "\n",
    "obj = {\"a\": 1, \"b\": 2, \"c\": 3}\n",
    "serialized = json.dumps(obj)\n",
    "print('serialized : {} {}'.format(type(serialized),serialized))\n",
    "\n",
    "obj2 = json.loads(serialized)\n",
    "print('deserialized : {} {}'.format(type(obj2),obj2))"
   ]
  },
  {
   "cell_type": "markdown",
   "metadata": {},
   "source": [
    "### 3.2 Désérialisation d'un objet\n",
    "\n",
    "Pour désérialiser un objet il faut appeler le constructeur de la classe ad'hoc avec la liste des paramètres adéquats. Pour cela, munissons nos classes d'une __méthode de classe__ nommée _fromDict()_ qui prendra un dictionnaire en paramètre et renverra l'objet désérialisé.\n",
    "\n",
    "__N.B.__ Une méthode de classe est indiquée par le décorateur _@classmethod_. Lorsque python appelle une telle méthode, le premier paramètre n'est pas _un objet (i.e. self)_, mais _sa classe_ souvent notée _cls._"
   ]
  },
  {
   "cell_type": "code",
   "execution_count": 9,
   "metadata": {
    "collapsed": false
   },
   "outputs": [
    {
     "name": "stdout",
     "output_type": "stream",
     "text": [
      "serialized : <class 'str'> {\"_class_\": \"vec3\", \"x\": 1, \"y\": 2, \"z\": 3}\n",
      "deserialized : <class '__main__.vec3'> vec3(1,2,3)\n"
     ]
    }
   ],
   "source": [
    "class vec3():\n",
    "    def __init__(self, x, y, z):\n",
    "        (self.x, self.y, self.z) = (x, y, z)\n",
    "    \n",
    "    def dict(self):\n",
    "        return {\n",
    "            \"_class_\": self.__class__.__name__,\n",
    "            **self.__dict__\n",
    "        }\n",
    "    \n",
    "    @classmethod\n",
    "    def fromDict(cls, _dict):\n",
    "        return cls(_dict['x'], _dict['y'], _dict['z'])\n",
    "    \n",
    "    def __str__(self):\n",
    "        return 'vec3({},{},{})'.format(self.x,self.y,self.z)\n",
    "\n",
    "# sérialisation :\n",
    "v = vec3(1,2,3)\n",
    "serialized = json.dumps(v.dict())\n",
    "print('serialized : {} {}'.format(type(serialized),serialized))\n",
    "\n",
    "# désérialisation\n",
    "v2 = vec3.fromDict(json.loads(serialized))\n",
    "print('deserialized : {} {}'.format(type(v2),v2))\n"
   ]
  },
  {
   "cell_type": "markdown",
   "metadata": {},
   "source": [
    "## 4. Sérialisation et désérialisation d'une scène\n",
    "\n",
    "Le module <i>serializable_raytracer</i> joint à ce TD définit les mêmes classes que le module <i>simple_raytracer</i> du TD précédent, mais ajoute les possibilités de sérialisation et de désérialisation décrites ci-dessus. Ainsi, chacune des classes implémente les méthodes _serialize()_ et _deserialize()_ ainsi que _dict()_ et _fromDict()_ qui devraient vous être moins directement utiles, sauf à créer de nouvelles classes.\n",
    "\n",
    "__N.B. Pour les plus assidus __ qui consultent le code source. Les possibilités décrites ci-dessus ont été implémentées à l'aide d'une classe mère nommée _Serializable_ dont héritent tous les autres objets. Cette classe possède des méthodes génériques conçues de manière à éviter au maximum les redondances de code au sein des classes filles.\n",
    "\n",
    "__Q4. Sérialisation d'une scène :__\n",
    "<div style=\"background-color:#eef;padding:10px;border-radius:3px\">\n",
    "Créer une scène à l'aide des classes du module _raytracer,_ puis la sérialiser et afficher le résultat.\n",
    "<br><br>\n",
    "Remarquer l'attribut _selector_ des objets bicolores comme _CheckeredPlane_ ou _CheckeredSPhere_. Quelle est sa raison d'être ?\n",
    "<br>\n",
    "__N.B.__ la réponse se trouve dans l'énoncé du paragraphe 6. du TD 1.\n",
    "</div>\n"
   ]
  },
  {
   "cell_type": "code",
   "execution_count": 19,
   "metadata": {
    "collapsed": false,
    "util.bundle": "correcteur"
   },
   "outputs": [
    {
     "ename": "SyntaxError",
     "evalue": "invalid syntax (<ipython-input-19-2209f0fde5ba>, line 1)",
     "output_type": "error",
     "traceback": [
      "\u001b[0;36m  File \u001b[0;32m\"<ipython-input-19-2209f0fde5ba>\"\u001b[0;36m, line \u001b[0;32m1\u001b[0m\n\u001b[0;31m    a= {\"r\" : 1, {\"g\" : 2 , \"b\" : 3 }}\u001b[0m\n\u001b[0m                                     ^\u001b[0m\n\u001b[0;31mSyntaxError\u001b[0m\u001b[0;31m:\u001b[0m invalid syntax\n"
     ]
    }
   ],
   "source": []
  },
  {
   "cell_type": "markdown",
   "metadata": {},
   "source": [
    "Une fois sérialisée, la scène peut être enregistrée en base de données :"
   ]
  },
  {
   "cell_type": "code",
   "execution_count": 11,
   "metadata": {
    "collapsed": true
   },
   "outputs": [],
   "source": [
    "import sqlite3\n",
    "\n",
    "# ouverture d'une connexion avec la base de données\n",
    "conn = sqlite3.connect('raytracing.sqlite')\n",
    "c = conn.cursor()\n",
    "\n",
    "# liste des valeurs enregistrées, dans l'ordre des champs de la table scene\n",
    "# N.B. on s'attend ici à disposer d'une scène dans la variable \"scene\" \n",
    "data = [\n",
    "    scene.name,\n",
    "    scene.serialize(),\n",
    "    scene.w,\n",
    "    scene.h\n",
    "]\n",
    "\n",
    "# enregistrement des informations par soumission d'une requête SQL INSERT\n",
    "c.execute(\"INSERT INTO scene VALUES (NULL, ?, ?, ?, ?, 0, '')\", data)\n",
    "conn.commit()"
   ]
  },
  {
   "cell_type": "markdown",
   "metadata": {},
   "source": [
    "__Q5. Enregistrement dans la base de données :__\n",
    "<div style=\"background-color:#eef;padding:10px;border-radius:3px\">\n",
    "Effectuer l'enregistrement et vérifier la présence de l'information dans la base de données via _SQLite Manager_ :\n",
    "<img src = \"SQLite_record.png\">\n",
    "<p>\n",
    "Préciser à quoi correspondent les valeurs NULL, 0 et '' dans la commande SQL soumise à la base.\n",
    "</div>"
   ]
  },
  {
   "cell_type": "markdown",
   "metadata": {},
   "source": [
    "__Q6. Lecture en base de données :__\n",
    "<div style=\"background-color:#eef;padding:10px;border-radius:3px\">\n",
    "A l'aide d'une requête SQL <span style=\"font-family: monospace\"><a href=\"https://sqlite.org/lang_select.html\" style=\"text-decoration: none\">SELECT</a></span>, et en vous inspirant du code ci-dessous, récupérer les informations de la scène et afficher le résultat.\n",
    "<p>\n",
    "<pre style=\"background-color:#eef; margin:0\">\n",
    "import sqlite3\n",
    "conn = sqlite3.connect('raytracing.sqlite')\n",
    "c = conn.cursor()\n",
    "\n",
    "c.execute(\"SELECT * FROM scene WHERE id=1\")\n",
    "info = c.fetchone()</pre></div>"
   ]
  },
  {
   "cell_type": "code",
   "execution_count": 12,
   "metadata": {
    "collapsed": false,
    "util.bundle": "correcteur"
   },
   "outputs": [],
   "source": [
    "# votre code ici"
   ]
  },
  {
   "cell_type": "markdown",
   "metadata": {},
   "source": [
    "__Q7. Désérialisation de l'information récupérée et tracé de l'image :__\n",
    "<div style=\"background-color:#eef;padding:10px;border-radius:3px\">\n",
    "Désérialiser la scène lue en base de données et tracer l'image pour vérifier que l'ensemble de la chaîne sérialisation - enregistrement - lecture - désérialisation s'est bien passée.\n",
    "</div>"
   ]
  },
  {
   "cell_type": "code",
   "execution_count": 13,
   "metadata": {
    "collapsed": false,
    "util.bundle": "correcteur"
   },
   "outputs": [],
   "source": [
    "# votre code ici"
   ]
  },
  {
   "cell_type": "markdown",
   "metadata": {
    "collapsed": true
   },
   "source": [
    "<table style=\"border-color:transparent; border-spacing:50px 0; border-collapse:separate\"><tr>\n",
    "<td style=\"border:none\"><img src=\"ref_deserialized_scene.png\" width=\"221\"><br>\n",
    "<center><i>exemple de résultat</i></center>\n",
    "</td>\n",
    "<td style=\"border:none\"><img src=\"deserialized_scene.png\" width=\"221\"><br>\n",
    "<center><i>votre résultat</i></center>\n",
    "</td>\n",
    "</tr><tr>\n",
    "<td style=\"border:none; text-align:center\" colspan=\"2\"><i>question 7. deserialized_scene.png</i></td>\n",
    "</tr></table>"
   ]
  },
  {
   "cell_type": "markdown",
   "metadata": {},
   "source": [
    "__Q8. Mise à jour de l'information en base de données :__\n",
    "<div style=\"background-color:#eef;padding:10px;border-radius:3px\">\n",
    "Maintenant que le temps de calcul et le nom du fichier sont connus, mettre à jour l'enregistrement en base de données\n",
    "grâce à une requête SQL <span style=\"font-family: monospace\"><a href=\"https://sqlite.org/lang_update.html\" style=\"text-decoration: none\">UPDATE</a></span> et vérifier le résultat via _SQLite Manager._\n",
    "<img src=\"SQLite_deserialized.png\">\n",
    "</div>"
   ]
  },
  {
   "cell_type": "code",
   "execution_count": 14,
   "metadata": {
    "collapsed": true,
    "util.bundle": "correcteur"
   },
   "outputs": [],
   "source": [
    "# votre code ici"
   ]
  },
  {
   "cell_type": "markdown",
   "metadata": {},
   "source": [
    "## 5. Couleurs nommées\n",
    "\n",
    "Il est fastidieux d'être systématiquement obligé de spécifier les couleurs à l'aide de triplets _rgb._ Il serait bien plus pratique d'utiliser leur nom.\n",
    "\n",
    "### 5.1 Création d'une table en base de données\n",
    "\n",
    "__Q9. Création d'une table pour les couleurs :__\n",
    "<div style=\"background-color:#eef;padding:10px;border-radius:3px\">\n",
    "\n",
    "Dans la base de donnée, créer une table nommée _color_ à l'aide d'une requête SQL <span style=\"font-family: monospace\"><a href=\"https://www.sqlite.org/lang_createtable.html\" style=\"text-decoration: none\">CREATE TABLE</a></span>.\n",
    "<p>\n",
    "Cette table devra comporter les champs suivants :\n",
    "<ul style=\"margin-top:0\">\n",
    "<li style=\"margin-top:0\"> un identifiant unique nommé _id,_\n",
    "<li style=\"margin-top:0\"> _name,_ pour le nom de la couleur,\n",
    "<li style=\"margin-top:0\"> trois champs respectivement nommés _red, green_ et _blue_ pour la valeur de chacune des composantes.\n",
    "</ul>\n",
    "<p>\n",
    "Une fois la table créée, vérifier à l'aide de _SQLite Manager_ que tout s'est bien passé :\n",
    "<img src=\"SQLite_color.png\">\n",
    "</div>"
   ]
  },
  {
   "cell_type": "code",
   "execution_count": 15,
   "metadata": {
    "collapsed": true,
    "util.bundle": "correcteur"
   },
   "outputs": [],
   "source": [
    "# votre code ici"
   ]
  },
  {
   "cell_type": "markdown",
   "metadata": {},
   "source": [
    "### 5.2 Liste des couleurs nommées\n",
    "\n",
    "__Q10. Remplissage de la table des couleurs :__\n",
    "<div style=\"background-color:#eef;padding:10px;border-radius:3px\">\n",
    "&Agrave; partir du code ci-dessous, remplir la table des couleurs en prenant soin de préciser chacune des composantes à l'aide d'un nombre réel compris entre 0.0 et 1.0, et vérifier le résultat à l'aide de _SQLite Manager_ :\n",
    "<img src=\"SQLite_colors.png\">\n",
    "<br><br>\n",
    "__N.B.__ En cas d'erreur vous pouvez nettoyer la table (i.e. supprimer tout son contenu) via _SQLite Manager_ ou à l'aide de la commande SQL<br>\n",
    "<code style=\"background-color:#eef; margin:0\">DELETE FROM color</code>\n",
    "</div>"
   ]
  },
  {
   "cell_type": "code",
   "execution_count": 16,
   "metadata": {
    "collapsed": true
   },
   "outputs": [],
   "source": [
    "# Liste des couleurs à insérer dans la base\n",
    "\n",
    "(name, r, g, b) = ('name','r','g','b')\n",
    "colors = [\n",
    "    { name:\"aliceblue\", r:240, g:248, b:255 },\n",
    "    { name:\"antiquewhite\", r:250, g:235, b:215 },\n",
    "    { name:\"aqua\", r:0, g:255, b:255 },\n",
    "    { name:\"aquamarine\", r:127, g:255, b:212 },\n",
    "    { name:\"azure\", r:240, g:255, b:255 },\n",
    "    { name:\"beige\", r:245, g:245, b:220 },\n",
    "    { name:\"bisque\", r:255, g:228, b:196 },\n",
    "    { name:\"black\", r:0, g:0, b:0 },\n",
    "    { name:\"blanchedalmond\", r:255, g:235, b:205 },\n",
    "    { name:\"blue\", r:0, g:0, b:255 },\n",
    "    { name:\"blueviolet\", r:138, g:43, b:226 },\n",
    "    { name:\"brown\", r:165, g:42, b:42 },\n",
    "    { name:\"burlywood\", r:222, g:184, b:135 },\n",
    "    { name:\"cadetblue\", r:95, g:158, b:160 },\n",
    "    { name:\"chartreuse\", r:127, g:255, b:0 },\n",
    "    { name:\"chocolate\", r:210, g:105, b:30 },\n",
    "    { name:\"coral\", r:255, g:127, b:80 },\n",
    "    { name:\"cornflowerblue\", r:100, g:149, b:237 },\n",
    "    { name:\"cornsilk\", r:255, g:248, b:220 },\n",
    "    { name:\"crimson\", r:220, g:20, b:60 },\n",
    "    { name:\"cyan\", r:0, g:255, b:255 },\n",
    "    { name:\"darkblue\", r:0, g:0, b:139 },\n",
    "    { name:\"darkcyan\", r:0, g:139, b:139 },\n",
    "    { name:\"darkgoldenrod\", r:184, g:134, b:11 },\n",
    "    { name:\"darkgray\", r:169, g:169, b:169 },\n",
    "    { name:\"darkgreen\", r:0, g:100, b:0 },\n",
    "    { name:\"darkgrey\", r:169, g:169, b:169 },\n",
    "    { name:\"darkkhaki\", r:189, g:183, b:107 },\n",
    "    { name:\"darkmagenta\", r:139, g:0, b:139 },\n",
    "    { name:\"darkolivegreen\", r:85, g:107, b:47 },\n",
    "    { name:\"darkorange\", r:255, g:140, b:0 },\n",
    "    { name:\"darkorchid\", r:153, g:50, b:204 },\n",
    "    { name:\"darkred\", r:139, g:0, b:0 },\n",
    "    { name:\"darksalmon\", r:233, g:150, b:122 },\n",
    "    { name:\"darkseagreen\", r:143, g:188, b:143 },\n",
    "    { name:\"darkslateblue\", r:72, g:61, b:139 },\n",
    "    { name:\"darkslategray\", r:47, g:79, b:79 },\n",
    "    { name:\"darkslategrey\", r:47, g:79, b:79 },\n",
    "    { name:\"darkturquoise\", r:0, g:206, b:209 },\n",
    "    { name:\"darkviolet\", r:148, g:0, b:211 },\n",
    "    { name:\"deeppink\", r:255, g:20, b:147 },\n",
    "    { name:\"deepskyblue\", r:0, g:191, b:255 },\n",
    "    { name:\"dimgray\", r:105, g:105, b:105 },\n",
    "    { name:\"dimgrey\", r:105, g:105, b:105 },\n",
    "    { name:\"dodgerblue\", r:30, g:144, b:255 },\n",
    "    { name:\"firebrick\", r:178, g:34, b:34 },\n",
    "    { name:\"floralwhite\", r:255, g:250, b:240 },\n",
    "    { name:\"forestgreen\", r:34, g:139, b:34 },\n",
    "    { name:\"fuchsia\", r:255, g:0, b:255 },\n",
    "    { name:\"gainsboro\", r:220, g:220, b:220 },\n",
    "    { name:\"ghostwhite\", r:248, g:248, b:255 },\n",
    "    { name:\"gold\", r:255, g:215, b:0 },\n",
    "    { name:\"goldenrod\", r:218, g:165, b:32 },\n",
    "    { name:\"gray\", r:128, g:128, b:128 },\n",
    "    { name:\"grey\", r:128, g:128, b:128 },\n",
    "    { name:\"green\", r:0, g:128, b:0 },\n",
    "    { name:\"greenyellow\", r:173, g:255, b:47 },\n",
    "    { name:\"honeydew\", r:240, g:255, b:240 },\n",
    "    { name:\"hotpink\", r:255, g:105, b:180 },\n",
    "    { name:\"indianred\", r:205, g:92, b:92 },\n",
    "    { name:\"indigo\", r:75, g:0, b:130 },\n",
    "    { name:\"ivory\", r:255, g:255, b:240 },\n",
    "    { name:\"khaki\", r:240, g:230, b:140 },\n",
    "    { name:\"lavender\", r:230, g:230, b:250 },\n",
    "    { name:\"lavenderblush\", r:255, g:240, b:245 },\n",
    "    { name:\"lawngreen\", r:124, g:252, b:0 },\n",
    "    { name:\"lemonchiffon\", r:255, g:250, b:205 },\n",
    "    { name:\"lightblue\", r:173, g:216, b:230 },\n",
    "    { name:\"lightcoral\", r:240, g:128, b:128 },\n",
    "    { name:\"lightcyan\", r:224, g:255, b:255 },\n",
    "    { name:\"lightgoldenrodyellow\", r:250, g:250, b:210 },\n",
    "    { name:\"lightgray\", r:211, g:211, b:211 },\n",
    "    { name:\"lightgreen\", r:144, g:238, b:144 },\n",
    "    { name:\"lightgrey\", r:211, g:211, b:211 },\n",
    "    { name:\"lightpink\", r:255, g:182, b:193 },\n",
    "    { name:\"lightsalmon\", r:255, g:160, b:122 },\n",
    "    { name:\"lightseagreen\", r:32, g:178, b:170 },\n",
    "    { name:\"lightskyblue\", r:135, g:206, b:250 },\n",
    "    { name:\"lightslategray\", r:119, g:136, b:153 },\n",
    "    { name:\"lightslategrey\", r:119, g:136, b:153 },\n",
    "    { name:\"lightsteelblue\", r:176, g:196, b:222 },\n",
    "    { name:\"lightyellow\", r:255, g:255, b:224 },\n",
    "    { name:\"lime\", r:0, g:255, b:0 },\n",
    "    { name:\"limegreen\", r:50, g:205, b:50 },\n",
    "    { name:\"linen\", r:250, g:240, b:230 },\n",
    "    { name:\"magenta\", r:255, g:0, b:255 },\n",
    "    { name:\"maroon\", r:128, g:0, b:0 },\n",
    "    { name:\"mediumaquamarine\", r:102, g:205, b:170 },\n",
    "    { name:\"mediumblue\", r:0, g:0, b:205 },\n",
    "    { name:\"mediumorchid\", r:186, g:85, b:211 },\n",
    "    { name:\"mediumpurple\", r:147, g:112, b:219 },\n",
    "    { name:\"mediumseagreen\", r:60, g:179, b:113 },\n",
    "    { name:\"mediumslateblue\", r:123, g:104, b:238 },\n",
    "    { name:\"mediumspringgreen\", r:0, g:250, b:154 },\n",
    "    { name:\"mediumturquoise\", r:72, g:209, b:204 },\n",
    "    { name:\"mediumvioletred\", r:199, g:21, b:133 },\n",
    "    { name:\"midnightblue\", r:25, g:25, b:112 },\n",
    "    { name:\"mintcream\", r:245, g:255, b:250 },\n",
    "    { name:\"mistyrose\", r:255, g:228, b:225 },\n",
    "    { name:\"moccasin\", r:255, g:228, b:181 },\n",
    "    { name:\"navajowhite\", r:255, g:222, b:173 },\n",
    "    { name:\"navy\", r:0, g:0, b:128 },\n",
    "    { name:\"oldlace\", r:253, g:245, b:230 },\n",
    "    { name:\"olive\", r:128, g:128, b:0 },\n",
    "    { name:\"olivedrab\", r:107, g:142, b:35 },\n",
    "    { name:\"orange\", r:255, g:165, b:0 },\n",
    "    { name:\"orangered\", r:255, g:69, b:0 },\n",
    "    { name:\"orchid\", r:218, g:112, b:214 },\n",
    "    { name:\"palegoldenrod\", r:238, g:232, b:170 },\n",
    "    { name:\"palegreen\", r:152, g:251, b:152 },\n",
    "    { name:\"paleturquoise\", r:175, g:238, b:238 },\n",
    "    { name:\"palevioletred\", r:219, g:112, b:147 },\n",
    "    { name:\"papayawhip\", r:255, g:239, b:213 },\n",
    "    { name:\"peachpuff\", r:255, g:218, b:185 },\n",
    "    { name:\"peru\", r:205, g:133, b:63 },\n",
    "    { name:\"pink\", r:255, g:192, b:203 },\n",
    "    { name:\"plum\", r:221, g:160, b:221 },\n",
    "    { name:\"powderblue\", r:176, g:224, b:230 },\n",
    "    { name:\"purple\", r:128, g:0, b:128 },\n",
    "    { name:\"red\", r:255, g:0, b:0 },\n",
    "    { name:\"rosybrown\", r:188, g:143, b:143 },\n",
    "    { name:\"royalblue\", r:65, g:105, b:225 },\n",
    "    { name:\"saddlebrown\", r:139, g:69, b:19 },\n",
    "    { name:\"salmon\", r:250, g:128, b:114 },\n",
    "    { name:\"sandybrown\", r:244, g:164, b:96 },\n",
    "    { name:\"seagreen\", r:46, g:139, b:87 },\n",
    "    { name:\"seashell\", r:255, g:245, b:238 },\n",
    "    { name:\"sienna\", r:160, g:82, b:45 },\n",
    "    { name:\"silver\", r:192, g:192, b:192 },\n",
    "    { name:\"skyblue\", r:135, g:206, b:235 },\n",
    "    { name:\"slateblue\", r:106, g:90, b:205 },\n",
    "    { name:\"slategray\", r:112, g:128, b:144 },\n",
    "    { name:\"slategrey\", r:112, g:128, b:144 },\n",
    "    { name:\"snow\", r:255, g:250, b:250 },\n",
    "    { name:\"springgreen\", r:0, g:255, b:127 },\n",
    "    { name:\"steelblue\", r:70, g:130, b:180 },\n",
    "    { name:\"tan\", r:210, g:180, b:140 },\n",
    "    { name:\"teal\", r:0, g:128, b:128 },\n",
    "    { name:\"thistle\", r:216, g:191, b:216 },\n",
    "    { name:\"tomato\", r:255, g:99, b:71 },\n",
    "    { name:\"turquoise\", r:64, g:224, b:208 },\n",
    "    { name:\"violet\", r:238, g:130, b:238 },\n",
    "    { name:\"wheat\", r:245, g:222, b:179 },\n",
    "    { name:\"white\", r:255, g:255, b:255 },\n",
    "    { name:\"whitesmoke\", r:245, g:245, b:245 },\n",
    "    { name:\"yellow\", r:255, g:255, b:0 },\n",
    "    { name:\"yellowgreen\", r:154, g:205, b:50 }\n",
    "]"
   ]
  },
  {
   "cell_type": "code",
   "execution_count": 17,
   "metadata": {
    "collapsed": true,
    "util.bundle": "correcteur"
   },
   "outputs": [],
   "source": [
    "# votre code ici"
   ]
  },
  {
   "cell_type": "markdown",
   "metadata": {},
   "source": [
    "### 5.3 Introduction des couleurs dans l'espace global\n",
    "\n",
    "Nous aimerions maintenant pouvoir utiliser une couleur en s'y référant à partir de son nom, plutôt qu'en instanciant à chaque fois un représentant de la classe _rgb_ à partir de ses composantes.\n",
    "\n",
    "Pour cela, python possède une fonction nommée _globals()_ qui renvoie le dictionnaire des variables globales, que l'on peut lire pour y retrouver une valeur, ou compléter pour en créer de nouvelles :"
   ]
  },
  {
   "cell_type": "code",
   "execution_count": 18,
   "metadata": {
    "collapsed": false
   },
   "outputs": [
    {
     "name": "stdout",
     "output_type": "stream",
     "text": [
      "33\n",
      "486\n"
     ]
    }
   ],
   "source": [
    "x = 33\n",
    "glob = globals()\n",
    "print(glob['x'])\n",
    "\n",
    "glob['y'] = 486\n",
    "print(y)"
   ]
  },
  {
   "cell_type": "markdown",
   "metadata": {},
   "source": [
    "__Q11. Couleurs nommées dans l'espace global :__\n",
    "<div style=\"background-color:#eef;padding:10px;border-radius:3px\">\n",
    "&Agrave; partir des considérations ci-dessus, et bien que cela ne soit en général pas considéré comme une bonne pratique de polluer l'espace global avec de nombreuses variables, lire le contenu de la table _color_ et créer une variable pour chacune des couleurs, ainsi qu'un dictionnaire nommé _colors_ permettant d'accéder à l'ensemble d'entre elles.\n",
    "</div>"
   ]
  },
  {
   "cell_type": "code",
   "execution_count": 19,
   "metadata": {
    "collapsed": false,
    "util.bundle": "correcteur"
   },
   "outputs": [],
   "source": [
    "# votre code ici"
   ]
  },
  {
   "cell_type": "markdown",
   "metadata": {},
   "source": [
    "### 5.4 Création d'un module\n",
    "\n",
    "Pour instancier toute ces couleurs, et éviter si possible de polluer l'espace global, le plus simple est de créer un module nommé <i>raytracer_colors.py</i> avec le code qui vient d'être réalisé.\n",
    "\n",
    "__N.B.__ Pour cela, il est bon de savoir que la commande \"<code>from raytracer\\_colors.py import *</code>\" importera __toutes les variables__ définies au niveau global au sein de ce module, sauf celles <b>dont le nom commence par un caractère souligné <span>_</span></b>.\n"
   ]
  },
  {
   "cell_type": "markdown",
   "metadata": {},
   "source": [
    "__Q12. Module raytracer_colors.py :__\n",
    "<div style=\"background-color:#eef;padding:10px;border-radius:3px\">\n",
    "Créer le module <code style=\"background-color:#eef\">raytracer<span>_</span>colors.py</code> en veillant à exporter uniquement les couleurs et le dictionnaire nommé _colors._\n",
    "</div>"
   ]
  },
  {
   "cell_type": "code",
   "execution_count": 20,
   "metadata": {
    "collapsed": true,
    "util.bundle": "correcteur"
   },
   "outputs": [],
   "source": [
    "# votre code ici"
   ]
  },
  {
   "cell_type": "code",
   "execution_count": 21,
   "metadata": {
    "collapsed": false
   },
   "outputs": [
    {
     "name": "stdout",
     "output_type": "stream",
     "text": [
      "Raytracer has 147 colors\n",
      "\n",
      "rgb(0.9765625, 0.5, 0.4453125) rgb(0.49609375, 0.99609375, 0.828125) rgb(0.1328125, 0.54296875, 0.1328125)\n",
      "\n",
      "['aliceblue', 'antiquewhite', 'aqua', 'aquamarine', 'azure', 'beige', 'bisque', 'black', 'blanchedalmond', 'blue', 'blueviolet', 'brown', 'burlywood', 'cadetblue', 'chartreuse', 'chocolate', 'colors', 'coral', 'cornflowerblue', 'cornsilk', 'crimson', 'cyan', 'darkblue', 'darkcyan', 'darkgoldenrod', 'darkgray', 'darkgreen', 'darkgrey', 'darkkhaki', 'darkmagenta', 'darkolivegreen', 'darkorange', 'darkorchid', 'darkred', 'darksalmon', 'darkseagreen', 'darkslateblue', 'darkslategray', 'darkslategrey', 'darkturquoise', 'darkviolet', 'deeppink', 'deepskyblue', 'dimgray', 'dimgrey', 'dodgerblue', 'firebrick', 'floralwhite', 'forestgreen', 'fuchsia', 'gainsboro', 'ghostwhite', 'gold', 'goldenrod', 'gray', 'green', 'greenyellow', 'grey', 'honeydew', 'hotpink', 'indianred', 'indigo', 'ivory', 'khaki', 'lavender', 'lavenderblush', 'lawngreen', 'lemonchiffon', 'lightblue', 'lightcoral', 'lightcyan', 'lightgoldenrodyellow', 'lightgray', 'lightgreen', 'lightgrey', 'lightpink', 'lightsalmon', 'lightseagreen', 'lightskyblue', 'lightslategray', 'lightslategrey', 'lightsteelblue', 'lightyellow', 'lime', 'limegreen', 'linen', 'magenta', 'maroon', 'mediumaquamarine', 'mediumblue', 'mediumorchid', 'mediumpurple', 'mediumseagreen', 'mediumslateblue', 'mediumspringgreen', 'mediumturquoise', 'mediumvioletred', 'midnightblue', 'mintcream', 'mistyrose', 'moccasin', 'navajowhite', 'navy', 'oldlace', 'olive', 'olivedrab', 'orange', 'orangered', 'orchid', 'palegoldenrod', 'palegreen', 'paleturquoise', 'palevioletred', 'papayawhip', 'peachpuff', 'peru', 'pink', 'plum', 'powderblue', 'purple', 'red', 'rosybrown', 'royalblue', 'saddlebrown', 'salmon', 'sandybrown', 'seagreen', 'seashell', 'sienna', 'silver', 'skyblue', 'slateblue', 'slategray', 'slategrey', 'snow', 'springgreen', 'steelblue', 'tan', 'teal', 'thistle', 'tomato', 'turquoise', 'violet', 'wheat', 'white', 'whitesmoke', 'yellow', 'yellowgreen']\n"
     ]
    }
   ],
   "source": [
    "# Dans cet exemple on ne pollue pas l'espace global\n",
    "import raytracer_colors as rtc\n",
    "\n",
    "# Nombre de couleurs dans rtc.colors\n",
    "print('Raytracer has {} colors'.format(len(rtc.colors.keys())))\n",
    "print()\n",
    "\n",
    "# Test de quelques couleurs\n",
    "print(rtc.salmon, rtc.aquamarine, rtc.colors['forestgreen'])\n",
    "print()\n",
    "\n",
    "# Liste des variables exportées par le module\n",
    "print([c for c in dir(rtc) if not c[0:1] == '_'])\n",
    "\n",
    "# Pour importer les couleurs dans l'espace global :\n",
    "from raytracer_colors import *"
   ]
  },
  {
   "cell_type": "markdown",
   "metadata": {},
   "source": [
    "### 5.5 Création d'une scène avec l'ensemble des couleurs\n",
    "\n",
    "__Q13. Visualisation des couleurs :__\n",
    "<div style=\"background-color:#eef;padding:10px;border-radius:3px\">\n",
    "Créer une image illustrant l'ensemble des couleurs nommées.\n",
    "</div>"
   ]
  },
  {
   "cell_type": "code",
   "execution_count": 22,
   "metadata": {
    "collapsed": false,
    "util.bundle": "correcteur"
   },
   "outputs": [],
   "source": [
    "# votre code ici"
   ]
  },
  {
   "cell_type": "markdown",
   "metadata": {},
   "source": [
    "<table style=\"border-color:transparent; border-spacing:50px 0; border-collapse:separate\"><tr>\n",
    "<td style=\"border:none\"><img src=\"ref_all_colors.png\" width=\"221\"><br>\n",
    "<center><i>exemple de résultat</i></center>\n",
    "</td>\n",
    "<td style=\"border:none\"><img src=\"all_colors.png\" width=\"221\"><br>\n",
    "<center><i>votre résultat</i></center>\n",
    "</td>\n",
    "</tr><tr>\n",
    "<td style=\"border:none; text-align:center\" colspan=\"2\"><i>question 13. <a href=\"all_colors.png\">all_colors.png</a></i></td>\n",
    "</tr></table>"
   ]
  },
  {
   "cell_type": "markdown",
   "metadata": {},
   "source": [
    "## 6. Matériaux\n",
    "\n",
    "__Q14. Liste de matériaux :__\n",
    "<div style=\"background-color:#eef;padding:10px;border-radius:3px\">\n",
    "Procédez comme pour les couleurs, à partir de la table des matériaux ci-dessous, <a href=\"http://globe3d.sourceforge.net/g3d_html/gl-materials__ads.htm\">obtenue</a> depuis le site du moteur Globe 3D.\n",
    "<br><br>\n",
    "Pour cela il faut :\n",
    "<ul style=\"margin-top:0\">\n",
    "<li style=\"margin-top:0\"> créer une table nommée _material_ dans la base de donnée, comportant les champs <i>id, name, phong</i>, et les champs pour les trois composantes de <i>ambient, diffuse, specular</i> et _mirror,_\n",
    "<li style=\"margin-top:0\"> alimenter la table à partir de la liste de matériaux ci-dessous, en notant que nous n'utilisons pas l'attribut nommé _emission_ et que l'attribut _shininess_ permet éventuellement de construire nos informations _phong_ et _mirror,_ en adaptant les échelles...\n",
    "<li style=\"margin-top:0\"> écrire un module nommé <code style=\"background-color:#eef\">raytracer_materials</code> permettant d'importer les divers matériaux ainsi qu'un dictionnaire nommé _materials,_\n",
    "<li style=\"margin-top:0\"> concevoir une scène permettant de tester tout cela, et générer l'image correspondante.\n",
    "</ul>\n",
    "</div>"
   ]
  },
  {
   "cell_type": "code",
   "execution_count": 23,
   "metadata": {
    "collapsed": true
   },
   "outputs": [],
   "source": [
    "# Liste de matériaux\n",
    "\n",
    "materials = {\n",
    "  \"Red\"  : {\n",
    "    \"ambient\"  : (0.0, 0.0, 0.0, 1.0),\n",
    "    \"diffuse\"  : (1.0, 0.0, 0.0, 1.0),\n",
    "    \"specular\" : (0.0225, 0.0225, 0.0225, 1.0),\n",
    "    \"emission\" : (0.0, 0.0, 0.0, 1.0),\n",
    "    \"shininess\": 12.8\n",
    "  },\n",
    "\n",
    "  \"Orange\"  : {\n",
    "    \"ambient\"  : (0.0, 0.0, 0.0, 1.0),\n",
    "    \"diffuse\"  : (0.992157, 0.513726, 0.0, 1.0),\n",
    "    \"specular\" : (0.0225, 0.0225, 0.0225, 1.0),\n",
    "    \"emission\" : (0.0, 0.0, 0.0, 1.0),\n",
    "    \"shininess\": 12.8\n",
    "  },\n",
    "\n",
    "  \"Yellow\"  : {\n",
    "    \"ambient\"  : (0.0, 0.0, 0.0, 1.0),\n",
    "    \"diffuse\"  : (1.0, 0.964706, 0.0, 1.0),\n",
    "    \"specular\" : (0.0225, 0.0225, 0.0225, 1.0),\n",
    "    \"emission\" : (0.0, 0.0, 0.0, 1.0),\n",
    "    \"shininess\": 12.8\n",
    "  },\n",
    "\n",
    "  \"Green\"  : {\n",
    "    \"ambient\"  : (0.0, 0.0, 0.0, 1.0),\n",
    "    \"diffuse\"  : (0.0, 1.0, 0.0, 1.0),\n",
    "    \"specular\" : (0.0225, 0.0225, 0.0225, 1.0),\n",
    "    \"emission\" : (0.0, 0.0, 0.0, 1.0),\n",
    "    \"shininess\": 12.8\n",
    "  },\n",
    "\n",
    "  \"Indigo\"  : {\n",
    "    \"ambient\"  : (0.0, 0.0, 0.0, 1.0),\n",
    "    \"diffuse\"  : (0.0980392, 0.0, 0.458824, 1.0),\n",
    "    \"specular\" : (0.0225, 0.0225, 0.0225, 1.0),\n",
    "    \"emission\" : (0.0, 0.0, 0.0, 1.0),\n",
    "    \"shininess\": 12.8\n",
    "  },\n",
    "\n",
    "  \"Blue\"  : {\n",
    "    \"ambient\"  : (0.0, 0.0, 0.0, 1.0),\n",
    "    \"diffuse\"  : (0.0, 0.0, 1.0, 1.0),\n",
    "    \"specular\" : (0.0225, 0.0225, 0.0225, 1.0),\n",
    "    \"emission\" : (0.0, 0.0, 0.0, 1.0),\n",
    "    \"shininess\": 12.8\n",
    "  },\n",
    "\n",
    "  \"Violet\"  : {\n",
    "    \"ambient\"  : (0.0, 0.0, 0.0, 1.0),\n",
    "    \"diffuse\"  : (0.635294, 0.0, 1.0, 1.0),\n",
    "    \"specular\" : (0.0225, 0.0225, 0.0225, 1.0),\n",
    "    \"emission\" : (0.0, 0.0, 0.0, 1.0),\n",
    "    \"shininess\": 12.8\n",
    "  },\n",
    "\n",
    "  \"White\"  : {\n",
    "    \"ambient\"  : (0.0, 0.0, 0.0, 1.0),\n",
    "    \"diffuse\"  : (0.992157, 0.992157, 0.992157, 1.0),\n",
    "    \"specular\" : (0.0225, 0.0225, 0.0225, 1.0),\n",
    "    \"emission\" : (0.0, 0.0, 0.0, 1.0),\n",
    "    \"shininess\": 12.8\n",
    "  },\n",
    "\n",
    "  \"Black\"  : {\n",
    "    \"ambient\"  : (0.0, 0.0, 0.0, 1.0),\n",
    "    \"diffuse\"  : (0.0, 0.0, 0.0, 1.0),\n",
    "    \"specular\" : (0.0225, 0.0225, 0.0225, 1.0),\n",
    "    \"emission\" : (0.0, 0.0, 0.0, 1.0),\n",
    "    \"shininess\": 12.8\n",
    "  },\n",
    "\n",
    "  \"Medium_Gray\"  : {\n",
    "    \"ambient\"  : (0.0, 0.0, 0.0, 1.0),\n",
    "    \"diffuse\"  : (0.454902, 0.454902, 0.454902, 1.0),\n",
    "    \"specular\" : (0.0225, 0.0225, 0.0225, 1.0),\n",
    "    \"emission\" : (0.0, 0.0, 0.0, 1.0),\n",
    "    \"shininess\": 12.8\n",
    "  },\n",
    "\n",
    "  \"Light_Gray\"  : {\n",
    "    \"ambient\"  : (0.0, 0.0, 0.0, 1.0),\n",
    "    \"diffuse\"  : (0.682353, 0.682353, 0.682353, 1.0),\n",
    "    \"specular\" : (0.0225, 0.0225, 0.0225, 1.0),\n",
    "    \"emission\" : (0.0, 0.0, 0.0, 1.0),\n",
    "    \"shininess\": 12.8\n",
    "  },\n",
    "\n",
    "  \"Glass\"  : {\n",
    "              \"ambient\"  : (0.0, 0.0, 0.0, 1.0),\n",
    "              \"diffuse\"  : (0.588235, 0.670588, 0.729412, 1.0),\n",
    "              \"specular\" : (0.9, 0.9, 0.9, 1.0),\n",
    "              \"emission\" : (0.0, 0.0, 0.0, 1.0),\n",
    "              \"shininess\": 96.0\n",
    "            },\n",
    "\n",
    "  \"Brass\"   : {\n",
    "            \"ambient\":        (0.329412, 0.223529, 0.027451, 1.0),\n",
    "            \"diffuse\":        (0.780392, 0.568627, 0.113725, 1.0),\n",
    "            \"specular\":       (0.992157, 0.941176, 0.807843, 1.0),\n",
    "            \"emission\":       (0.0,0.0,0.0,0.0),\n",
    "            \"shininess\":      27.8974\n",
    "           },\n",
    "\n",
    "  \"Bronze\"   : {\n",
    "            \"ambient\":        (0.2125, 0.1275, 0.054, 1.0),\n",
    "            \"diffuse\":        (0.714, 0.4284, 0.18144, 1.0),\n",
    "            \"specular\":       (0.393548, 0.271906, 0.166721, 1.0),\n",
    "            \"emission\":       (0.0,0.0,0.0,0.0),\n",
    "            \"shininess\":      25.6\n",
    "          },\n",
    "\n",
    "  \"Polished_Bronze\"   : {\n",
    "            \"ambient\":        (0.25, 0.148, 0.06475, 1.0),\n",
    "            \"diffuse\":        (0.4, 0.2368, 0.1036, 1.0),\n",
    "            \"specular\":       (0.774597, 0.458561, 0.200621, 1.0),\n",
    "            \"emission\":       (0.0,0.0,0.0,0.0),\n",
    "            \"shininess\":      76.8\n",
    "          },\n",
    "\n",
    "  \"Chrome\"   : {\n",
    "            \"ambient\":        (0.25, 0.25, 0.25, 1.0),\n",
    "            \"diffuse\":        (0.4, 0.4, 0.4, 1.0),\n",
    "            \"specular\":       (0.774597, 0.774597, 0.774597, 1.0),\n",
    "            \"emission\":       (0.0,0.0,0.0,0.0),\n",
    "            \"shininess\":      76.8\n",
    "          },\n",
    "\n",
    "  \"Copper\"   : {\n",
    "            \"ambient\":        (0.19125, 0.0735, 0.0225, 1.0),\n",
    "            \"diffuse\":        (0.7038, 0.27048, 0.0828, 1.0),\n",
    "            \"specular\":       (0.256777, 0.137622, 0.086014, 1.0),\n",
    "            \"emission\":       (0.0,0.0,0.0,0.0),\n",
    "            \"shininess\":      12.8\n",
    "          },\n",
    "\n",
    "  \"Polished_Copper\"   : {\n",
    "            \"ambient\":        (0.2295, 0.08825, 0.0275, 1.0),\n",
    "            \"diffuse\":        (0.5508, 0.2118, 0.066, 1.0),\n",
    "            \"specular\":       (0.580594, 0.223257, 0.0695701, 1.0),\n",
    "            \"emission\":       (0.0,0.0,0.0,0.0),\n",
    "            \"shininess\":      51.2\n",
    "          },\n",
    "\n",
    "  \"Gold\"   : {\n",
    "            \"ambient\":        (0.24725, 0.1995, 0.0745, 1.0),\n",
    "            \"diffuse\":        (0.75164, 0.60648, 0.22648, 1.0),\n",
    "            \"specular\":       (0.628281, 0.555802, 0.366065, 1.0),\n",
    "            \"emission\":       (0.0,0.0,0.0,0.0),\n",
    "            \"shininess\":      51.2\n",
    "          },\n",
    "\n",
    "  \"Polished_Gold\"   : {\n",
    "            \"ambient\":        (0.24725, 0.2245, 0.0645, 1.0),\n",
    "            \"diffuse\":        (0.34615, 0.3143, 0.0903, 1.0),\n",
    "            \"specular\":       (0.797357, 0.723991, 0.208006, 1.0),\n",
    "            \"emission\":       (0.0,0.0,0.0,0.0),\n",
    "            \"shininess\":      83.2\n",
    "          },\n",
    "\n",
    "  \"Pewter\"   : {\n",
    "            \"ambient\":        (0.105882, 0.058824, 0.113725, 1.0),\n",
    "            \"diffuse\":        (0.427451, 0.470588, 0.541176, 1.0),\n",
    "            \"specular\":       (0.333333, 0.333333, 0.521569, 1.0),\n",
    "            \"emission\":       (0.0,0.0,0.0,0.0),\n",
    "            \"shininess\":      9.84615\n",
    "          },\n",
    "\n",
    "  \"Silver\"   : {\n",
    "            \"ambient\":        (0.19225, 0.19225, 0.19225, 1.0),\n",
    "            \"diffuse\":        (0.50754, 0.50754, 0.50754, 1.0),\n",
    "            \"specular\":       (0.508273, 0.508273, 0.508273, 1.0),\n",
    "            \"emission\":       (0.0,0.0,0.0,0.0),\n",
    "            \"shininess\":      51.2\n",
    "          },\n",
    "\n",
    "  \"Polished_Silver\"   : {\n",
    "            \"ambient\":        (0.23125, 0.23125, 0.23125, 1.0),\n",
    "            \"diffuse\":        (0.2775, 0.2775, 0.2775, 1.0),\n",
    "            \"specular\":       (0.773911, 0.773911, 0.773911, 1.0),\n",
    "            \"emission\":       (0.0,0.0,0.0,0.0),\n",
    "            \"shininess\":      89.6\n",
    "          },\n",
    "\n",
    "  \"Emerald\"   : {\n",
    "            \"ambient\":        (0.0215, 0.1745, 0.0215, 0.55),\n",
    "            \"diffuse\":        (0.07568, 0.61424, 0.07568, 0.55),\n",
    "            \"specular\":       (0.633, 0.727811, 0.633, 0.55),\n",
    "            \"emission\":       (0.0,0.0,0.0,0.0),\n",
    "            \"shininess\":      76.8\n",
    "          },\n",
    "\n",
    "  \"Jade\"   : {\n",
    "            \"ambient\":        (0.135, 0.2225, 0.1575, 0.95),\n",
    "            \"diffuse\":        (0.54, 0.89, 0.63, 0.95),\n",
    "            \"specular\":       (0.316228, 0.316228, 0.316228, 0.95),\n",
    "            \"emission\":       (0.0,0.0,0.0,0.0),\n",
    "            \"shininess\":      12.8\n",
    "          },\n",
    "\n",
    "  \"Obsidian\"   : {\n",
    "            \"ambient\":        (0.05375, 0.05, 0.06625, 0.82),\n",
    "            \"diffuse\":        (0.18275, 0.17, 0.22525, 0.82),\n",
    "            \"specular\":       (0.332741, 0.328634, 0.346435, 0.82),\n",
    "            \"emission\":       (0.0,0.0,0.0,0.0),\n",
    "            \"shininess\":      38.4\n",
    "          },\n",
    "\n",
    "  \"Pearl\"   : {\n",
    "            \"ambient\":        (0.25, 0.20725, 0.20725, 0.922),\n",
    "            \"diffuse\":        (1.0, 0.829, 0.829, 0.922),\n",
    "            \"specular\":       (0.296648, 0.296648, 0.296648, 0.922),\n",
    "            \"emission\":       (0.0,0.0,0.0,0.0),\n",
    "            \"shininess\":      11.264\n",
    "          },\n",
    "\n",
    "  \"Ruby\"   : {\n",
    "            \"ambient\":        (0.1745, 0.01175, 0.01175, 0.55),\n",
    "            \"diffuse\":        (0.61424, 0.04136, 0.04136, 0.55),\n",
    "            \"specular\":       (0.727811, 0.626959, 0.626959, 0.55),\n",
    "            \"emission\":       (0.0,0.0,0.0,0.0),\n",
    "            \"shininess\":      76.8\n",
    "          },\n",
    "\n",
    "  \"Turquoise\"   : {\n",
    "            \"ambient\":        (0.1, 0.18725, 0.1745, 0.8),\n",
    "            \"diffuse\":        (0.396, 0.74151, 0.69102, 0.8),\n",
    "            \"specular\":       (0.297254, 0.30829, 0.306678, 0.8),\n",
    "            \"emission\":       (0.0,0.0,0.0,0.0),\n",
    "            \"shininess\":      12.8\n",
    "          },\n",
    "\n",
    "  \"Black_Plastic\"   : {\n",
    "            \"ambient\":        (0.0, 0.0, 0.0, 1.0),\n",
    "            \"diffuse\":        (0.01, 0.01, 0.01, 1.0),\n",
    "            \"specular\":       (0.50, 0.50, 0.50, 1.0),\n",
    "            \"emission\":       (0.0,0.0,0.0,0.0),\n",
    "            \"shininess\":      32.0\n",
    "          },\n",
    "\n",
    "  \"Black_Rubber\"   : {\n",
    "            \"ambient\":        (0.02, 0.02, 0.02, 1.0),\n",
    "            \"diffuse\":        (0.01, 0.01, 0.01, 1.0),\n",
    "            \"specular\":       (0.4, 0.4, 0.4, 1.0),\n",
    "            \"emission\":       (0.0,0.0,0.0,0.0),\n",
    "            \"shininess\":      10.0\n",
    "          },\n",
    "\n",
    "  \"Defaults\"   : {\n",
    "            \"ambient\":        (0.2, 0.2, 0.2, 1.0),\n",
    "            \"diffuse\":        (0.8, 0.8, 0.8, 1.0),\n",
    "            \"specular\":       (0.0, 0.0, 0.0, 1.0),\n",
    "            \"emission\":       (0.0, 0.0, 0.0, 1.0),\n",
    "            \"shininess\":       25.6\n",
    "          }\n",
    "}"
   ]
  },
  {
   "cell_type": "code",
   "execution_count": 24,
   "metadata": {
    "collapsed": false,
    "util.bundle": "correcteur"
   },
   "outputs": [],
   "source": [
    "# votre code ici"
   ]
  },
  {
   "cell_type": "code",
   "execution_count": 25,
   "metadata": {
    "collapsed": true,
    "util.bundle": "correcteur"
   },
   "outputs": [],
   "source": [
    "# votre code ici"
   ]
  },
  {
   "cell_type": "code",
   "execution_count": 26,
   "metadata": {
    "collapsed": false,
    "util.bundle": "correcteur"
   },
   "outputs": [],
   "source": [
    "# votre code ici"
   ]
  },
  {
   "cell_type": "markdown",
   "metadata": {},
   "source": [
    "<table style=\"border-color:transparent; border-spacing:50px 0; border-collapse:separate\"><tr>\n",
    "<td style=\"border:none\"><img src=\"ref_all_materials.png\" width=\"221\"><br>\n",
    "<center><i>exemple de résultat</i></center>\n",
    "</td>\n",
    "<td style=\"border:none\"><img src=\"all_materials.png\" width=\"221\"><br>\n",
    "<center><i>votre résultat</i></center>\n",
    "</td>\n",
    "</tr><tr>\n",
    "<td style=\"border:none; text-align:center\" colspan=\"2\"><i>question 14. <a href=\"all_materials.png\">all_materials.png</a></i></td>\n",
    "</tr></table>"
   ]
  },
  {
   "cell_type": "code",
   "execution_count": 27,
   "metadata": {
    "collapsed": true
   },
   "outputs": [],
   "source": [
    "import sqlite3\n",
    "conn = sqlite3.connect('raytracing.sqlite')\n",
    "c = conn.cursor()\n",
    "\n",
    "c.execute(\"DROP TABLE IF EXISTS color\")\n",
    "c.execute(\"DROP TABLE IF EXISTS material\")\n",
    "c.execute(\"DELETE FROM scene\")\n",
    "conn.commit()"
   ]
  },
  {
   "cell_type": "code",
   "execution_count": 28,
   "metadata": {
    "collapsed": true
   },
   "outputs": [],
   "source": []
  }
 ],
 "metadata": {
  "kernelspec": {
   "display_name": "Python 3",
   "language": "python",
   "name": "python3"
  },
  "language_info": {
   "codemirror_mode": {
    "name": "ipython",
    "version": 3
   },
   "file_extension": ".py",
   "mimetype": "text/x-python",
   "name": "python",
   "nbconvert_exporter": "python",
   "pygments_lexer": "ipython3",
   "version": "3.6.0"
  }
 },
 "nbformat": 4,
 "nbformat_minor": 0
}
