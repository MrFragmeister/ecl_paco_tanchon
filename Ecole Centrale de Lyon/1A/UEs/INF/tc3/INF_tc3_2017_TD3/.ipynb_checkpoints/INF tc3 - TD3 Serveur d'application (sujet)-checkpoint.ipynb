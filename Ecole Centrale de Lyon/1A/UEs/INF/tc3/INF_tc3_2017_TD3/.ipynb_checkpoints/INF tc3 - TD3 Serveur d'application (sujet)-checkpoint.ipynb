{
 "cells": [
  {
   "cell_type": "markdown",
   "metadata": {},
   "source": [
    "# <center>Informatique tc3 (Projet Web) - TD2</center>"
   ]
  },
  {
   "cell_type": "markdown",
   "metadata": {},
   "source": [
    "## <center style=\"color: #66d\">Mise en place d'un serveur d'application en Python</center>"
   ]
  },
  {
   "cell_type": "markdown",
   "metadata": {},
   "source": [
    "### 1. Préambule"
   ]
  },
  {
   "cell_type": "markdown",
   "metadata": {},
   "source": [
    "### a) Modalités pratiques"
   ]
  },
  {
   "cell_type": "markdown",
   "metadata": {},
   "source": [
    "Un serveur est un processus qui tourne indéfiniment en l'attente de requêtes HTTP auxquelles répondre. Pour cette raison, il n'est pas pratique de développer des programmes serveurs dans une cellule de notebook.\n",
    "En effet, les cellules sont exécutées une à une par un même processus <i>(le kernel IPython)</i>. Si donc on démarre dans une cellule un serveur qui boucle indéfiniment, les cellules suivantes ne seront jamais exécutées...\n",
    "<br><br>\n",
    "<div style=\"background-color:#fee;padding:10px;border-radius:3px\">\n",
    "Pour cette raison, le serveur développé dans le cadre de ce TD fait l'objet d'un fichier individuel.<br>\n",
    "Ce serveur devra être démarré et arrêté manuellement via la ligne de commandes dans un terminal, ou à la rigueur depuis un environnement de développement comme IDLE ou Spyder. Attention dans ce dernier cas à redémarrer le noyau python avant chaque redémarrage du serveur afin de libérer le port utilisé.\n",
    "</div>"
   ]
  },
  {
   "cell_type": "markdown",
   "metadata": {},
   "source": [
    "### b) Travail à réaliser\n",
    "\n",
    "Le but de ce TD est de développer le code d'un serveur qui constituera une base de départ crédible pour celui de l'application que vous avez à réaliser en projet. On s'appuiera pour cela sur le serveur <code>simple_server.py</code> fourni pour ce TD que l'on fera évoluer de proche en proche."
   ]
  },
  {
   "cell_type": "markdown",
   "metadata": {},
   "source": [
    "<div style=\"background-color:#fee;padding:10px;border-radius:3px\">\n",
    "<b>N.B.</b> Il est supposé dans la suite que le serveur utilisera le port <tt>8080</tt>.\n",
    "Le texte des questions et les exemples de code de ce document font donc systématiquement appel à ce numéro de port. Si pour une raison ou pour une autre le port <tt>8080</tt> ne convient pas sur votre machine, il sera pertinent de corriger le code et le texte du présent document au fur et à mesure de l'avancement de ce TD pour correspondre à votre cas particulier."
   ]
  },
  {
   "cell_type": "markdown",
   "metadata": {},
   "source": [
    "### 2. Serveur de pages statiques"
   ]
  },
  {
   "cell_type": "markdown",
   "metadata": {},
   "source": [
    "__Q1. Mettre en service le serveur de pages statiques :__\n",
    "<div style=\"background-color:#eef;padding:10px;border-radius:3px\">\n",
    "Démarrer <tt>simple_server.py</tt> le serveur fourni pour ce TD.\n",
    "Ce serveur attend des requêtes GET sur le port 8080 et permet de délivrer les documents situés dans le sous-répertoire nommé <tt>client</tt>.\n",
    "<p>\n",
    "Si la page <a href=\"http://localhost:8080/welcome.html\" target=\"other\"><tt>welcome.html</tt></a> s'affiche correctement, c'est que votre serveur a bien été démarré et fonctionne conformément aux attentes.\n",
    "<p>\n",
    "__N.B.__ Ce serveur peut délivrer tous types de documents, entre autres des <a href=\"http://localhost:8080/test_cube.png\">images</a>.\n",
    "</div>"
   ]
  },
  {
   "cell_type": "markdown",
   "metadata": {
    "collapsed": true
   },
   "source": [
    "__Q2. Envoyer des requêtes depuis du code python :__\n",
    "<div style=\"background-color:#eef;padding:10px;border-radius:3px\">\n",
    "Comme il est possible de développer un serveur en python, il est envisageable de même de développer un client.\n",
    "<br><br>\n",
    "Le code ci-dessous est celui d'une fonction qui effectue une requête vers <tt>localhost:8080</tt>.<br>\n",
    "En utilisant cette fonction, afficher le code source de la page <tt>welcome.html</tt>.\n",
    "</div>"
   ]
  },
  {
   "cell_type": "code",
   "execution_count": 1,
   "metadata": {
    "collapsed": true
   },
   "outputs": [],
   "source": [
    "import http.client\n",
    "\n",
    "def request(method,url,body='',headers={}):\n",
    "    conn = http.client.HTTPConnection('localhost:8080')\n",
    "    conn.request(method,url,body,headers)\n",
    "    response = conn.getresponse()\n",
    "    if not response.status == 200:\n",
    "        print(\"{} - {}\".format(response.status,response.reason))\n",
    "    else :\n",
    "        print(response.read())"
   ]
  },
  {
   "cell_type": "code",
   "execution_count": 9,
   "metadata": {
    "collapsed": false,
    "util.bundle": "correcteur"
   },
   "outputs": [
    {
     "name": "stdout",
     "output_type": "stream",
     "text": [
      "b'<!DOCTYPE html>\\r\\n<title>Welcome</title>\\r\\n<h2 style=\"color:#484\">Bravo !</h2>\\r\\n\\r\\n<p>\\r\\nVous voyez actuellement le contenu du fichier <tt>/client/welcome.html</tt>.<br>\\r\\nSi le contenu de la barre d\\'adresse du navigateur est\\r\\n<tt>http://localhost:8080/welcome.html</tt><br>\\r\\n c\\'est que votre serveur <tt>simple_server.py</tt>\\r\\nfonctionne correctement...\\r\\n'\n"
     ]
    }
   ],
   "source": [
    "request('GET','/welcome.html')"
   ]
  },
  {
   "cell_type": "markdown",
   "metadata": {},
   "source": [
    "<div style=\"background-color:#efe;padding:10px;border-radius:3px\">\n",
    "__N.B.__ Cette fonction nous servira tout au long de ce TD pour tester le serveur en cours de développement.\n",
    "</div>"
   ]
  },
  {
   "cell_type": "markdown",
   "metadata": {},
   "source": [
    "### 2. Serveur d'application\n",
    "\n",
    "Le travail d'un _serveur Web_ consiste principalement à délivrer des pages html et d'autres documents statiques (images, fichiers CSS, javascript, ...). Dans ce cas, l'URL de la requête sert à indiquer la localisation sur le disque du document demandé.\n",
    "\n",
    "Dans le cas d'un _serveur d'application_, l'URL sert à indiquer la _fonctionnalité_ désirée. L'opération qui consiste à associer une adresse donnée à la fonctionnalité qui lui correspond est appelée le _routage_. On désire faire évoluer le serveur pour mettre en place le routage suivant :\n",
    "\n",
    "<pre>\n",
    "/service/* - adresses réservées au serveur d'application\n",
    "/*         - toutes les autres adresses sont soumises au serveur de documents statiques\n",
    "</pre>\n",
    "\n",
    "#### 2.1. Récupération des paramètres de l'URL\n",
    "\n",
    "__Q3. Analyser l'URL :__\n",
    "<div style=\"background-color:#eef;padding:10px;border-radius:3px\">\n",
    "Afin de faciliter l'analyse de l'URL de la requête, ajouter au serveur la méthode <tt>init_params</tt> dont le code est fourni ci-dessous.\n",
    "</div>"
   ]
  },
  {
   "cell_type": "code",
   "execution_count": 3,
   "metadata": {
    "collapsed": true
   },
   "outputs": [],
   "source": [
    "# on analyse la requête pour récupérer les paramètres\n",
    "def init_params(self):\n",
    "    \n",
    "    # analyse de l'adresse\n",
    "    info = urlparse(unquote_plus(self.path))\n",
    "    self.path_info = info.path.split('/')[1:]\n",
    "    self.query_string = info.query\n",
    "    self.params = parse_qs(info.query)"
   ]
  },
  {
   "cell_type": "markdown",
   "metadata": {},
   "source": [
    "__N.B.__  Les fonctions <tt>urlparse, unquote_plus, parse_qs</tt> ont été importées en tête du fichier <tt>simple_server.py</tt>. En cas de questionnement sur leur fonctionnalités, ne pas hésiter à consulter leur documentation disponible en ligne ;-)\n",
    "\n",
    "#### 2.2 Réponse au format JSON\n",
    "\n",
    "Un _serveur Web_ renvoie des documents au format HTML (ou CSS, javascript, images... ) destinés à être présentés à des humains. A contrario, un _serveur d'application_ renverra des données formattées pour être aisément consommées par un programme. Le format choisi dans le cadre de ce TD et dans le cadre de votre projet sera le format JSON.\n",
    "\n",
    "__Q4. &Eacute;mettre des réponses au format JSON :__\n",
    "<div style=\"background-color:#eef;padding:10px;border-radius:3px\">\n",
    "Afin de rendre le serveur capable de répondre avec des données formattées en JSON, le compléter avec les deux méthodes ci-dessous :\n",
    "</div>"
   ]
  },
  {
   "cell_type": "code",
   "execution_count": 4,
   "metadata": {
    "collapsed": true
   },
   "outputs": [],
   "source": [
    "# on envoie un contenu encodé en json\n",
    "def send_json(self,data,headers=[]):\n",
    "    body = bytes(json.dumps(data),'utf-8')\n",
    "    headers.append(('Content-Type','application/json'))\n",
    "    self.send_utf8(body,headers)\n",
    "\n",
    "def send_utf8(self,encoded,headers=[]):\n",
    "    self.send_response(200)\n",
    "    self.send_header('Content-Length',int(len(encoded)))\n",
    "    [self.send_header(*t) for t in headers]\n",
    "    self.end_headers()\n",
    "    self.wfile.write(encoded)"
   ]
  },
  {
   "cell_type": "markdown",
   "metadata": {},
   "source": [
    "#### 2.3 Routage\n",
    "\n",
    "__Q5. Implémenter des routes :__\n",
    "<div style=\"background-color:#eef;padding:10px;border-radius:3px\">\n",
    "Modifier la méthode <tt>do_GET</tt> du serveur en faisant appel à la méthode <tt>init_params</tt>, puis\n",
    "en analysant le chemin de la requête conservé dans la variable <tt>self.path_info</tt> pour\n",
    "répondre au cahier des charges suivant :\n",
    "<pre style=\"background-color:#eef;margin:0.5em 0\">\n",
    "/service    - répondre avec le code d'erreur 400 - Bad Request\n",
    "/service/   - répondre avec le code d'erreur 404 - Not Found\n",
    "/service/Q5 - répondre avec la structure JSON suivante :\n",
    "    {\n",
    "        \"contexte\":    \"TD n°3\",\n",
    "        \"question\":    5,\n",
    "        \"sujet\":       \"Implémenter des routes\",\n",
    "        \"commentaire\": \"Ca marche !\"\n",
    "    }\n",
    "/service/\\*  - répondre avec le code d'erreur 404 - Not Found\n",
    "/*          - soumettre toutes les autres adresses au serveur de documents statiques\n",
    "</pre>\n",
    "L'envoi d'une réponse formattée en JSON se fera grâce à la méthode <tt>send_json</tt>.\n",
    "<br><br>\n",
    "Une fois les modifications effectuées, arrêter puis redémarrer le serveur, avant de tester son fonctionnement en exécutant la cellule suivante :\n",
    "</div>"
   ]
  },
  {
   "cell_type": "code",
   "execution_count": 10,
   "metadata": {
    "collapsed": false
   },
   "outputs": [
    {
     "name": "stdout",
     "output_type": "stream",
     "text": [
      "400 - Bad Request\n",
      "\n",
      "404 - File not found\n",
      "\n",
      "b'{\"contexte\": \"TD n\\\\u00b03\", \"question\": 5, \"sujet\": \"Impl\\\\u00e9menter des routes\", \"commentaire\": \"Ca marche !\"}'\n",
      "\n",
      "404 - File not found\n",
      "\n",
      "b'<!DOCTYPE html>\\r\\n<title>Welcome</title>\\r\\n<h2 style=\"color:#484\">Bravo !</h2>\\r\\n\\r\\n<p>\\r\\nVous voyez actuellement le contenu du fichier <tt>/client/welcome.html</tt>.<br>\\r\\nSi le contenu de la barre d\\'adresse du navigateur est\\r\\n<tt>http://localhost:8080/welcome.html</tt><br>\\r\\n c\\'est que votre serveur <tt>simple_server.py</tt>\\r\\nfonctionne correctement...\\r\\n'\n",
      "\n"
     ]
    }
   ],
   "source": [
    "#400 - Bad request\n",
    "request('GET','/service')\n",
    "print()\n",
    "\n",
    "# 404 - Not found\n",
    "request('GET','/service/')\n",
    "print()\n",
    "\n",
    "# On s'attend à une réponse au format JSON\n",
    "request('GET','/service/Q5')\n",
    "print()\n",
    "\n",
    "# 404 - Not found\n",
    "request('GET','/service/tagada')\n",
    "print()\n",
    "\n",
    "# Code source du document welcome.html\n",
    "request('GET','/welcome.html')\n",
    "print()"
   ]
  },
  {
   "cell_type": "markdown",
   "metadata": {},
   "source": [
    "__Q6. Améliorer l'affichage obtenu :__ (pour les puristes)\n",
    "<div style=\"background-color:#eef;padding:10px;border-radius:3px\">\n",
    "Modifier la fonction <tt>request</tt> pour afficher les réponses formattées en JSON de manière plus lisible, et tester le résultat.\n",
    "</div>"
   ]
  },
  {
   "cell_type": "code",
   "execution_count": 11,
   "metadata": {
    "collapsed": false,
    "util.bundle": "correcteur"
   },
   "outputs": [
    {
     "ename": "SyntaxError",
     "evalue": "EOL while scanning string literal (<ipython-input-11-e41bc6316b21>, line 8)",
     "output_type": "error",
     "traceback": [
      "\u001b[0;36m  File \u001b[0;32m\"<ipython-input-11-e41bc6316b21>\"\u001b[0;36m, line \u001b[0;32m8\u001b[0m\n\u001b[0;31m    print(\"{}.format(response.read())\u001b[0m\n\u001b[0m                                     ^\u001b[0m\n\u001b[0;31mSyntaxError\u001b[0m\u001b[0;31m:\u001b[0m EOL while scanning string literal\n"
     ]
    }
   ],
   "source": [
    "def request(method,url,body='',headers={}):\n",
    "    conn = http.client.HTTPConnection('localhost:8080')\n",
    "    conn.request(method,url,body,headers)\n",
    "    response = conn.getresponse()\n",
    "    if not response.status == 200:\n",
    "        print(\"{} - {}\".format(response.status,response.reason))\n",
    "    else :\n",
    "        print(\"{}\".format(response.read())\n",
    "              \n",
    "# On s'attend à une réponse au format JSON\n",
    "request('GET','/service/Q5')\n",
    "print()"
   ]
  },
  {
   "cell_type": "markdown",
   "metadata": {},
   "source": [
    "### 3. Création, lecture, modification et suppression de scène\n",
    "\n",
    "On désire maintenant interfacer le serveur à la base de données <tt>rtserver.sqlite</tt> fournie pour ce TD et conforme à celle développée lors du TD précédent. Toutes considérations de sécurité mises à part, le serveur devra permettre la création, la lecture, la modification et la suppression de scènes.\n",
    "\n",
    "&Agrave; part la lecture qui s'effectuera grâce à la méthode <tt>HTTP GET</tt>, toutes les autres opérations utiliseront la méthode <tt>POST</tt>. Dans ce dernier cas, la requête comportera un corps au format JSON. Toutes les informations renvoyées au client seront elles aussi au format JSON."
   ]
  },
  {
   "cell_type": "markdown",
   "metadata": {},
   "source": [
    "#### 3.1 Lecture de la liste des scènes\n",
    "\n",
    "Pour permettre au serveur d'effectuer des requêtes en base de données :\n",
    "<ul style=\"margin-top:0\">\n",
    "<li style=\"margin-top:0\">on pensera à importer sqlite3 _(a priori c'est fait)_,\n",
    "<li style=\"margin-top:0\">on ouvrira une connexion avec la base de données unique pour la durée de vie du serveur _(au niveau des dernières lignes du fichier)_\n",
    "</ul>\n",
    "\n",
    "puis, pour chaque requête HTTP effectuant un accès à la base de données :\n",
    "<ul style=\"margin-top:0\">\n",
    "<li style=\"margin-top:0\">on créera un curseur,\n",
    "<li style=\"margin-top:0\">on refermera le curseur en appelant <tt>cursor.close()</tt>,\n",
    "<li style=\"margin-top:0\">on pensera à enregistrer les modifications en appellant la méthode <tt>conn.commit()</tt>.\n",
    "</ul>\n",
    "\n",
    "__Q7. Récupérer la liste des scènes :__\n",
    "<div style=\"background-color:#eef;padding:10px;border-radius:3px\">\n",
    "Modifier le serveur pour renvoyer la liste des scènes suite à la requête : <tt>GET /service/scene</tt>.<br>\n",
    "Pour une construction générique de la réponse JSON, il sera judicieux d'utiliser l'attribut\n",
    "<a href=\"https://docs.python.org/2/library/sqlite3.html#sqlite3.Cursor.description\">Cursor.description</a>\n",
    "qui donne la liste des champs du résultat de la requête SQL.\n",
    "<br><br>\n",
    "Une fois les modifications effectuées, arrêter puis redémarrer le serveur, avant de tester son fonctionnement en exécutant la cellule suivante (on s'attend à obtenir une liste de deux scènes) :\n",
    "</div>"
   ]
  },
  {
   "cell_type": "code",
   "execution_count": 7,
   "metadata": {
    "collapsed": false
   },
   "outputs": [
    {
     "name": "stdout",
     "output_type": "stream",
     "text": [
      "[{'id': 1, 'name': 'test_checkered_plane', 'serial': '{\"_class_\": \"Scene\", \"name\": \"test_checkered_plane\", \"ambient\": {\"_class_\": \"rgb\", \"r\": 0, \"g\": 0, \"b\": 0}, \"max_bounce\": 3, \"faraway\": 1e+39, \"sources\": [{\"_class_\": \"LightSource\", \"position\": {\"_class_\": \"vec3\", \"x\": 0, \"y\": 10, \"z\": -5}, \"color\": {\"_class_\": \"rgb\", \"r\": 1, \"g\": 1, \"b\": 1}}], \"objects\": [{\"_class_\": \"CheckeredPlane\", \"position\": {\"_class_\": \"vec3\", \"x\": 0, \"y\": -0.5, \"z\": 0}, \"normal\": {\"_class_\": \"vec3\", \"x\": 0.0, \"y\": 1.0, \"z\": 0.0}, \"diffuse\": [{\"_class_\": \"rgb\", \"r\": 0.1, \"g\": 0.1, \"b\": 0.1}, {\"_class_\": \"rgb\", \"r\": 0.9, \"g\": 0.9, \"b\": 0.9}], \"ambient\": [{\"_class_\": \"rgb\", \"r\": 1.0, \"g\": 1.0, \"b\": 1.0}, {\"_class_\": \"rgb\", \"r\": 1.0, \"g\": 1.0, \"b\": 1.0}], \"specular\": [{\"_class_\": \"rgb\", \"r\": 0.5, \"g\": 0.5, \"b\": 0.5}, {\"_class_\": \"rgb\", \"r\": 0.5, \"g\": 0.5, \"b\": 0.5}], \"phong\": [70, 70], \"mirror\": [{\"_class_\": \"rgb\", \"r\": 0.5, \"g\": 0.5, \"b\": 0.5}, {\"_class_\": \"rgb\", \"r\": 0.5, \"g\": 0.5, \"b\": 0.5}], \"selector\": \"def selector(self,M):\\\\n  return ((M.x * 2 - 1000.5).astype(int) % 2) == ((M.z * 0.5 + 1000.5).astype(int) % 2)\"}], \"width\": 400, \"height\": 300, \"camera\": {\"_class_\": \"vec3\", \"x\": 0.0, \"y\": 0.1, \"z\": -10.0}}', 'width': 400, 'height': 300, 'ptime': 0.062, 'filename': 'client/images/test_checkered_plane.png'}, {'id': 2, 'name': 'test_cube', 'serial': '{\"_class_\": \"Scene\", \"name\": \"test_cube\", \"ambient\": {\"_class_\": \"rgb\", \"r\": 0.5, \"g\": 0.5, \"b\": 0.5}, \"max_bounce\": 3, \"faraway\": 1e+39, \"sources\": [{\"_class_\": \"LightSource\", \"position\": {\"_class_\": \"vec3\", \"x\": 0, \"y\": 10, \"z\": -5}, \"color\": {\"_class_\": \"rgb\", \"r\": 1, \"g\": 1, \"b\": 1}}], \"objects\": [{\"_class_\": \"Cube\", \"center\": {\"_class_\": \"vec3\", \"x\": 0, \"y\": -0.1, \"z\": 1}, \"U\": {\"_class_\": \"vec3\", \"x\": 0.5000000000000001,\"y\": 0.7071067811865476, \"z\": -0.5000000000000001}, \"V\": {\"_class_\": \"vec3\", \"x\": 0.7071067811865476, \"y\": 0.0, \"z\": 0.7071067811865476}, \"width\": 0.4, \"diffuse\": [{\"_class_\": \"rgb\", \"r\": 0.5, \"g\": 0, \"b\": 0.5}, {\"_class_\": \"rgb\",\"r\": 0.5, \"g\": 0.5, \"b\": 0}, {\"_class_\": \"rgb\", \"r\": 0, \"g\": 0.5, \"b\": 0.5}, {\"_class_\": \"rgb\", \"r\": 0.75, \"g\": 0, \"b\": 0}, {\"_class_\": \"rgb\", \"r\": 0, \"g\": 0.75, \"b\": 0}, {\"_class_\": \"rgb\", \"r\": 0, \"g\": 0, \"b\": 0.75}], \"ambient\": [{\"_class_\": \"rgb\", \"r\": 1.0, \"g\": 1.0, \"b\": 1.0}, {\"_class_\": \"rgb\", \"r\": 1.0, \"g\": 1.0, \"b\": 1.0}, {\"_class_\": \"rgb\", \"r\": 1.0, \"g\": 1.0, \"b\": 1.0}, {\"_class_\": \"rgb\", \"r\": 1.0, \"g\": 1.0, \"b\": 1.0}, {\"_class_\": \"rgb\", \"r\": 1.0, \"g\": 1.0, \"b\": 1.0}, {\"_class_\": \"rgb\", \"r\": 1.0, \"g\": 1.0, \"b\": 1.0}], \"specular\": [{\"_class_\": \"rgb\", \"r\": 0.5, \"g\": 0.5, \"b\": 0.5}, {\"_class_\": \"rgb\", \"r\": 0.5, \"g\": 0.5, \"b\": 0.5}, {\"_class_\": \"rgb\", \"r\": 0.5, \"g\": 0.5, \"b\": 0.5}, {\"_class_\": \"rgb\", \"r\": 0.5, \"g\": 0.5, \"b\": 0.5}, {\"_class_\": \"rgb\", \"r\": 0.5, \"g\": 0.5, \"b\": 0.5}, {\"_class_\": \"rgb\", \"r\": 0.5, \"g\": 0.5, \"b\": 0.5}], \"phong\": [140, 140, 140, 140, 140, 140], \"mirror\": [{\"_class_\": \"rgb\", \"r\": 0.3, \"g\": 0.3, \"b\": 0.3}, {\"_class_\": \"rgb\", \"r\": 0.3, \"g\": 0.3, \"b\": 0.3}, {\"_class_\": \"rgb\", \"r\": 0.3, \"g\": 0.3, \"b\": 0.3}, {\"_class_\": \"rgb\", \"r\": 0.3, \"g\": 0.3, \"b\": 0.3}, {\"_class_\": \"rgb\", \"r\": 0.3, \"g\": 0.3, \"b\": 0.3}, {\"_class_\": \"rgb\", \"r\": 0.3, \"g\": 0.3, \"b\": 0.3}]}], \"width\": 400, \"height\": 300, \"camera\": {\"_class_\": \"vec3\", \"x\": 0.0, \"y\": 0.1, \"z\": -10.0}}', 'width': 400, 'height': 300, 'ptime': 0.141, 'filename': 'client/images/test_cube.png'}]\n"
     ]
    }
   ],
   "source": [
    "# liste des scènes\n",
    "# cf. SQLite Manager pour vérifier la pertinence de la réponse obtenue\n",
    "request('GET','/service/scene')"
   ]
  },
  {
   "cell_type": "markdown",
   "metadata": {},
   "source": [
    "#### 3.2 Lecture d'une scène donnée\n",
    "\n",
    "__Q8. Récupérer une scène :__\n",
    "<div style=\"background-color:#eef;padding:10px;border-radius:3px\">\n",
    "Modifier le serveur pour renvoyer la scène demandée suite à une requête du type : <tt>GET /service/scene/%id</tt>,<br>\n",
    "où <tt>%id</tt> représente soit l'identifiant soit le nom de la scène.<br><br>\n",
    "Une fois les modifications effectuées, arrêter puis redémarrer le serveur, avant de tester son fonctionnement en exécutant la cellule suivante :\n",
    "</div>"
   ]
  },
  {
   "cell_type": "code",
   "execution_count": 8,
   "metadata": {
    "collapsed": false
   },
   "outputs": [
    {
     "name": "stdout",
     "output_type": "stream",
     "text": [
      "{'id': 1, 'name': 'test_checkered_plane', 'serial': '{\"_class_\": \"Scene\", \"name\": \"test_checkered_plane\", \"ambient\": {\"_class_\": \"rgb\", \"r\": 0, \"g\": 0, \"b\": 0}, \"max_bounce\": 3, \"faraway\": 1e+39, \"sources\": [{\"_class_\": \"LightSource\", \"position\": {\"_class_\": \"vec3\", \"x\": 0, \"y\": 10, \"z\": -5}, \"color\": {\"_class_\": \"rgb\", \"r\": 1, \"g\": 1, \"b\": 1}}], \"objects\": [{\"_class_\": \"CheckeredPlane\", \"position\": {\"_class_\": \"vec3\", \"x\": 0, \"y\": -0.5, \"z\": 0}, \"normal\": {\"_class_\": \"vec3\", \"x\": 0.0, \"y\": 1.0, \"z\": 0.0}, \"diffuse\": [{\"_class_\": \"rgb\", \"r\": 0.1, \"g\": 0.1, \"b\": 0.1}, {\"_class_\": \"rgb\", \"r\": 0.9, \"g\": 0.9, \"b\": 0.9}], \"ambient\": [{\"_class_\": \"rgb\", \"r\": 1.0, \"g\": 1.0, \"b\": 1.0}, {\"_class_\": \"rgb\", \"r\": 1.0, \"g\": 1.0, \"b\": 1.0}], \"specular\": [{\"_class_\": \"rgb\", \"r\": 0.5, \"g\": 0.5, \"b\": 0.5}, {\"_class_\": \"rgb\", \"r\": 0.5, \"g\": 0.5, \"b\": 0.5}], \"phong\": [70, 70], \"mirror\": [{\"_class_\": \"rgb\", \"r\": 0.5, \"g\": 0.5, \"b\": 0.5}, {\"_class_\": \"rgb\", \"r\": 0.5, \"g\": 0.5, \"b\": 0.5}], \"selector\": \"def selector(self,M):\\\\n  return ((M.x * 2 - 1000.5).astype(int) % 2) == ((M.z * 0.5 + 1000.5).astype(int) % 2)\"}], \"width\": 400, \"height\": 300, \"camera\": {\"_class_\": \"vec3\", \"x\": 0.0, \"y\": 0.1, \"z\": -10.0}}', 'width': 400, 'height': 300, 'ptime': 0.062, 'filename': 'client/images/test_checkered_plane.png'}\n",
      "\n",
      "{'id': 2, 'name': 'test_cube', 'serial': '{\"_class_\": \"Scene\", \"name\": \"test_cube\", \"ambient\": {\"_class_\": \"rgb\", \"r\": 0.5, \"g\": 0.5, \"b\": 0.5}, \"max_bounce\": 3, \"faraway\": 1e+39, \"sources\": [{\"_class_\": \"LightSource\", \"position\": {\"_class_\": \"vec3\", \"x\": 0, \"y\": 10, \"z\": -5}, \"color\": {\"_class_\": \"rgb\", \"r\": 1, \"g\": 1, \"b\": 1}}], \"objects\": [{\"_class_\": \"Cube\", \"center\": {\"_class_\": \"vec3\", \"x\": 0, \"y\": -0.1, \"z\": 1}, \"U\": {\"_class_\": \"vec3\", \"x\": 0.5000000000000001,\"y\": 0.7071067811865476, \"z\": -0.5000000000000001}, \"V\": {\"_class_\": \"vec3\", \"x\": 0.7071067811865476, \"y\": 0.0, \"z\": 0.7071067811865476}, \"width\": 0.4, \"diffuse\": [{\"_class_\": \"rgb\", \"r\": 0.5, \"g\": 0, \"b\": 0.5}, {\"_class_\": \"rgb\",\"r\": 0.5, \"g\": 0.5, \"b\": 0}, {\"_class_\": \"rgb\", \"r\": 0, \"g\": 0.5, \"b\": 0.5}, {\"_class_\": \"rgb\", \"r\": 0.75, \"g\": 0, \"b\": 0}, {\"_class_\": \"rgb\", \"r\": 0, \"g\": 0.75, \"b\": 0}, {\"_class_\": \"rgb\", \"r\": 0, \"g\": 0, \"b\": 0.75}], \"ambient\": [{\"_class_\": \"rgb\", \"r\": 1.0, \"g\": 1.0, \"b\": 1.0}, {\"_class_\": \"rgb\", \"r\": 1.0, \"g\": 1.0, \"b\": 1.0}, {\"_class_\": \"rgb\", \"r\": 1.0, \"g\": 1.0, \"b\": 1.0}, {\"_class_\": \"rgb\", \"r\": 1.0, \"g\": 1.0, \"b\": 1.0}, {\"_class_\": \"rgb\", \"r\": 1.0, \"g\": 1.0, \"b\": 1.0}, {\"_class_\": \"rgb\", \"r\": 1.0, \"g\": 1.0, \"b\": 1.0}], \"specular\": [{\"_class_\": \"rgb\", \"r\": 0.5, \"g\": 0.5, \"b\": 0.5}, {\"_class_\": \"rgb\", \"r\": 0.5, \"g\": 0.5, \"b\": 0.5}, {\"_class_\": \"rgb\", \"r\": 0.5, \"g\": 0.5, \"b\": 0.5}, {\"_class_\": \"rgb\", \"r\": 0.5, \"g\": 0.5, \"b\": 0.5}, {\"_class_\": \"rgb\", \"r\": 0.5, \"g\": 0.5, \"b\": 0.5}, {\"_class_\": \"rgb\", \"r\": 0.5, \"g\": 0.5, \"b\": 0.5}], \"phong\": [140, 140, 140, 140, 140, 140], \"mirror\": [{\"_class_\": \"rgb\", \"r\": 0.3, \"g\": 0.3, \"b\": 0.3}, {\"_class_\": \"rgb\", \"r\": 0.3, \"g\": 0.3, \"b\": 0.3}, {\"_class_\": \"rgb\", \"r\": 0.3, \"g\": 0.3, \"b\": 0.3}, {\"_class_\": \"rgb\", \"r\": 0.3, \"g\": 0.3, \"b\": 0.3}, {\"_class_\": \"rgb\", \"r\": 0.3, \"g\": 0.3, \"b\": 0.3}, {\"_class_\": \"rgb\", \"r\": 0.3, \"g\": 0.3, \"b\": 0.3}]}], \"width\": 400, \"height\": 300, \"camera\": {\"_class_\": \"vec3\", \"x\": 0.0, \"y\": 0.1, \"z\": -10.0}}', 'width': 400, 'height': 300, 'ptime': 0.141, 'filename': 'client/images/test_cube.png'}\n",
      "\n",
      "404 - No such scene\n"
     ]
    }
   ],
   "source": [
    "# Récupération d'une scène via son id\n",
    "request('GET','/service/scene/1')\n",
    "print()\n",
    "\n",
    "# Récupération via son nom\n",
    "request('GET','/service/scene/test_cube')\n",
    "print()\n",
    "\n",
    "# Tentative de récupération d'une scène inexistante\n",
    "request('GET','/service/scene/99')"
   ]
  },
  {
   "cell_type": "markdown",
   "metadata": {},
   "source": [
    "#### 3.3 Enregistrement d'une scène\n",
    "\n",
    "Toutes les routes développées dans la suite nécessiteront une requête <tt>HTTP POST</tt>. Ce type de requête comporte un corps, c'est-à-dire qu'elles permettent l'envoi d'informations qui ne se situent pas uniquement dans l'URL (moyen utilisé ci-dessus pour transmettre l'identifiant ou le nom de la scène via une requête <tt>HTTP GET</tt>).\n",
    "\n",
    "__Q9. Récupérer le corps de la requête :__\n",
    "<div style=\"background-color:#eef;padding:10px;border-radius:3px\">\n",
    "Modifier la méthode <tt>init_params</tt> du serveur en ajoutant le code ci-dessous, afin de récupérer correctement le corps de la requête :\n",
    "</div>"
   ]
  },
  {
   "cell_type": "code",
   "execution_count": 9,
   "metadata": {
    "collapsed": true
   },
   "outputs": [],
   "source": [
    "def init_params(self):\n",
    "\n",
    "    ...\n",
    "    \n",
    "    # récupération du corps\n",
    "    length = self.headers.get('Content-Length')\n",
    "    ctype = self.headers.get('Content-Type')\n",
    "    if length:\n",
    "        self.body = str(self.rfile.read(int(length)),'utf-8')\n",
    "        if ctype == 'application/json' : \n",
    "            self.params.update(json.loads(self.body))\n",
    "    else:\n",
    "        self.body = ''"
   ]
  },
  {
   "cell_type": "markdown",
   "metadata": {},
   "source": [
    "__Q10. Sauvegarder une scène :__\n",
    "<div style=\"background-color:#eef;padding:10px;border-radius:3px\">\n",
    "Développer la méthode <tt>do_POST</tt> du serveur de manière à permettre l'enregistrement d'une scène dans la base de donnée, suite à une requête :<br>\n",
    "<tt>POST /service/scene</tt><br>\n",
    "&nbsp;  <tt>{ name, serial, width?, height?, ptime?, filename? }</tt><br>\n",
    "<br>\n",
    "Les informations mentionnées seront formattées en JSON et transmises via le corps de la requête. Le comportement attendu est le suivant :\n",
    "<ul style=\"margin-top:0\">\n",
    "<li style=\"margin-top:0\">les champs <tt>name</tt> et <tt>serial</tt> sont obligatoires &ndash; leur absence provoquera une réponse <tt>400 - Bad Request</tt>,\n",
    "<li style=\"margin-top:0\">la réponse renverra la scène avec son identifiant à jour si la scène a été correctement créée.\n",
    "</ul>\n",
    "\n",
    "Implémenter les modifications demandées, puis redémarrer le serveur pour tester son fonctionnement en exécutant la cellule suivante :"
   ]
  },
  {
   "cell_type": "code",
   "execution_count": 10,
   "metadata": {
    "collapsed": false
   },
   "outputs": [
    {
     "name": "stdout",
     "output_type": "stream",
     "text": [
      "400 - Bad Request\n",
      "\n",
      "400 - Bad Request\n",
      "\n",
      "{'id': 3, 'name': 'test_polygon', 'serial': '{\"name\": \"test_polygon\", \"_class_\": \"Scene\", \"sources\": [{\"_class_\": \"LightSource\", \"position\": {\"_class_\": \"vec3\", \"x\": 0, \"y\": 10, \"z\": -5}, \"color\": 1}], \"objects\": [{\"_class_\": \"Polygon\", \"vertices\": [[0, 0], [0, 10], [1, 10], [1, 0]], \"position\": {\"_class_\": \"vec3\", \"x\": -0.5, \"y\": -0.5, \"z\": 1}, \"U\": {\"_class_\": \"vec3\", \"x\": 1, \"y\": 0, \"z\": 0}, \"V\": {\"_class_\": \"vec3\", \"x\": 0, \"y\": 0, \"z\": 1}, \"ns\": -1, \"diffuse\": 0.5, \"ambient\": 1.0, \"specular\": 0.5, \"phong\": 70, \"mirror\": 0.5}], \"camera\": {\"_class_\": \"vec3\", \"x\": 0.0, \"y\": 0.1, \"z\": -10.0}}', 'width': 400, 'height': 300, 'ptime': 0.046825839545015666, 'filename': 'client/images/test_polygon.png'}\n"
     ]
    }
   ],
   "source": [
    "# description d'une scène avec un polygone\n",
    "polygon_scene = {\n",
    "    'name': 'test_polygon',\n",
    "    '_class_': 'Scene',\n",
    "    'sources': [{\n",
    "        '_class_': 'LightSource',\n",
    "        'position': {\"_class_\": \"vec3\", \"x\": 0, \"y\": 10, \"z\": -5},\n",
    "        'color': 1\n",
    "    }],\n",
    "    \"objects\": [{\n",
    "        \"_class_\": \"Polygon\",\n",
    "        \"vertices\": [[0, 0], [0, 10], [1, 10], [1, 0]],\n",
    "        \"position\": {\"_class_\": \"vec3\", \"x\": -0.5, \"y\": -0.5, \"z\": 1},\n",
    "        \"U\": {\"_class_\": \"vec3\", \"x\": 1, \"y\": 0, \"z\": 0},\n",
    "        \"V\": {\"_class_\": \"vec3\", \"x\": 0, \"y\": 0, \"z\": 1},\n",
    "        \"ns\": -1,\n",
    "        \"diffuse\": 0.5, \"ambient\": 1.0, \"specular\": 0.5, \"phong\": 70, \"mirror\": 0.5\n",
    "    }],\n",
    "    'camera': {\"_class_\": \"vec3\", \"x\": 0.0, \"y\": 0.1, \"z\": -10.0}\n",
    "}\n",
    "\n",
    "# Tentative de création d'une scène sans nom\n",
    "data_without_name = {\n",
    "    'serial': json.dumps(polygon_scene)\n",
    "}\n",
    "request('POST','/service/scene',json.dumps(data_without_name),{'Content-Type': 'application/json'})\n",
    "print()\n",
    "\n",
    "# Tentative de création d'une scène sans description\n",
    "data_without_serial = {\n",
    "    'name': 'test_polygon',\n",
    "}\n",
    "request('POST','/service/scene',json.dumps(data_without_serial),{'Content-Type': 'application/json'})\n",
    "print()\n",
    "\n",
    "# Création de la scène avec un polygone\n",
    "polygon_data = {\n",
    "    'name': 'test_polygon',\n",
    "    'serial': json.dumps(polygon_scene),\n",
    "    'width': 400,\n",
    "    'height': 300\n",
    "}\n",
    "request('POST','/service/scene',json.dumps(polygon_data),{'Content-Type': 'application/json'})"
   ]
  },
  {
   "cell_type": "markdown",
   "metadata": {},
   "source": [
    "On peut remarquer en consultant ces informations via _SQLite Manager_ que la base de donnée assure l'unicité du nom de la scène grâce à la manière dont le champ <tt>name</tt> a été décrit dans la directive <tt>CREATE TABLE</tt> :\n",
    "<pre style=\"margin-left:0\">\n",
    "CREATE TABLE scene (\n",
    "   id INTEGER PRIMARY KEY,\n",
    "   name TEXT UNIQUE NOT NULL,\n",
    "   ...\n",
    ")</pre>\n",
    "\n",
    "A partir de là, toute tentative de modification de la base tendant à créer un doublon donnera lieu à une erreur python qu'il faut traiter.\n",
    "\n",
    "__Q11. Gérer les erreurs :__\n",
    "<div style=\"background-color:#eef;padding:10px;border-radius:3px\">\n",
    "Modifier le serveur pour renvoyer une erreur <tt>400 - Duplicate Name</tt> s'il existe déjà une scène portant le nom proposé.\n",
    "<br><br>\n",
    "Après avoir redémarré le serveur, tester ce fonctionnement en exécutant la cellule suivante éventuellement plusieurs fois consécutives :\n",
    "</div>"
   ]
  },
  {
   "cell_type": "code",
   "execution_count": 11,
   "metadata": {
    "collapsed": false
   },
   "outputs": [
    {
     "name": "stdout",
     "output_type": "stream",
     "text": [
      "400 - UNIQUE constraint failed: scene.name\n"
     ]
    }
   ],
   "source": [
    "# Tentative de création d'une scène déjà existante\n",
    "request('POST','/service/scene',json.dumps(polygon_data),{'Content-Type': 'application/json'})"
   ]
  },
  {
   "cell_type": "markdown",
   "metadata": {},
   "source": [
    "#### 3.4 Suppression d'une scène¶\n",
    "\n",
    "__Q12. Supprimer une scène :__\n",
    "<div style=\"background-color:#eef;padding:10px;border-radius:3px\">\n",
    "Implémenter la suppression d'une scène en base de données, suite à une requête :<br>\n",
    "<tt>POST /service/scene/%id</tt><br>\n",
    "où <tt>%id</tt> représente soit l'identifiant soit le nom de la scène, requête avec un corps :<br>\n",
    "<tt>{ operation: \"delete\" }</tt><br>\n",
    "<br>\n",
    "Si la scène indiquée existe dans la base, elle est supprimée et on renvoie le message JSON <tt>{\"status\": \"ok\"}</tt>.<br>\n",
    "Si elle n'existe pas on renvoie une erreur 404.\n",
    "<br><br>\n",
    "Une fois ce fonctionnement implémenté, arrêter puis redémarrer le serveur, avant de tester son fonctionnement en exécutant la cellule suivante :\n",
    "</div>"
   ]
  },
  {
   "cell_type": "code",
   "execution_count": 12,
   "metadata": {
    "collapsed": false
   },
   "outputs": [
    {
     "name": "stdout",
     "output_type": "stream",
     "text": [
      "{'status': 'ok'}\n",
      "\n",
      "500 - Could not delete scene\n"
     ]
    }
   ],
   "source": [
    "# Suppression de la scène test_polygon\n",
    "body = json.dumps({'operation': 'delete'})\n",
    "headers = {'Content-Type': 'application/json'}\n",
    "request('POST','/service/scene/test_polygon',body,headers)\n",
    "print()\n",
    "\n",
    "# Tentative de seconde suppression\n",
    "request('POST','/service/scene/test_polygon',body,headers)"
   ]
  },
  {
   "cell_type": "markdown",
   "metadata": {},
   "source": [
    "#### 3.5 Mise à jour d'une scène¶\n",
    "\n",
    "__Q13. Modifier une scène :__\n",
    "<div style=\"background-color:#eef;padding:10px;border-radius:3px\">\n",
    "Implémenter la modification d'une scène existante. La modification sera effectuée à l'aide d'une requête HTTP :<br>\n",
    "<tt>POST /service/scene/%id</tt><br>\n",
    "où <tt>%id</tt> représente soit l'identifiant soit le nom de la scène. La requête possèdera un corps :<br>\n",
    "<tt>{ operation: \"update\", serial?, width?, height?, ptime?, filename? }</tt><br>\n",
    "<br>\n",
    "__N.B.__ La notation utilisée ci-dessus utilise le \"?\" pour indiquer un champ optionnel.\n",
    "<br><br>\n",
    "Si la scène demandée existe dans la base, les champs indiqués sont modifiés et on renvoie la scène avec l'ensemble des champs à jour. Si elle n'existe pas on renvoie une erreur 404. Si la requête comporte uniquement le champ <tt>operation</tt> on renvoie un code 400.\n",
    "<br><br>\n",
    "Une fois ce fonctionnement implémenté, arrêter puis redémarrer le serveur, avant de tester son fonctionnement en exécutant la cellule ci-dessous :\n",
    "</div>"
   ]
  },
  {
   "cell_type": "code",
   "execution_count": 13,
   "metadata": {
    "collapsed": false
   },
   "outputs": [
    {
     "name": "stdout",
     "output_type": "stream",
     "text": [
      "{'id': 3, 'name': 'test_polygon', 'serial': '{\"name\": \"test_polygon\", \"_class_\": \"Scene\", \"sources\": [{\"_class_\": \"LightSource\", \"position\": {\"_class_\": \"vec3\", \"x\": 0, \"y\": 10, \"z\": -5}, \"color\": 1}], \"objects\": [{\"_class_\": \"Polygon\", \"vertices\": [[0, 0], [0, 10], [1, 10], [1, 0]], \"position\": {\"_class_\": \"vec3\", \"x\": -0.5, \"y\": -0.5, \"z\": 1}, \"U\": {\"_class_\": \"vec3\", \"x\": 1, \"y\": 0, \"z\": 0}, \"V\": {\"_class_\": \"vec3\", \"x\": 0, \"y\": 0, \"z\": 1}, \"ns\": -1, \"diffuse\": 0.5, \"ambient\": 1.0, \"specular\": 0.5, \"phong\": 70, \"mirror\": 0.5}], \"camera\": {\"_class_\": \"vec3\", \"x\": 0.0, \"y\": 0.1, \"z\": -10.0}}', 'width': 400, 'height': 300, 'ptime': 0.03558081139293989, 'filename': 'client/images/test_polygon.png'}\n",
      "\n",
      "{'id': 3, 'name': 'test_polygon', 'serial': '{\"name\": \"test_polygon\", \"_class_\": \"Scene\", \"sources\": [{\"_class_\": \"LightSource\", \"position\": {\"_class_\": \"vec3\", \"x\": 0, \"y\": 10, \"z\": -5}, \"color\": 1}], \"objects\": [{\"_class_\": \"Polygon\", \"vertices\": [[0, 0], [0, 10], [1, 10], [1, 0]], \"position\": {\"_class_\": \"vec3\", \"x\": -0.5, \"y\": -0.5, \"z\": 1}, \"U\": {\"_class_\": \"vec3\", \"x\": 1, \"y\": 0, \"z\": 0}, \"V\": {\"_class_\": \"vec3\", \"x\": 0, \"y\": 0, \"z\": 1}, \"ns\": -1, \"diffuse\": 0.5, \"ambient\": 1.0, \"specular\": 0.5, \"phong\": 70, \"mirror\": 0.5}], \"camera\": {\"_class_\": \"vec3\", \"x\": 0.0, \"y\": 0.1, \"z\": -10.0}}', 'width': 400, 'height': 300, 'ptime': 0.034, 'filename': 'client/images/test_polygon.png'}\n",
      "\n",
      "{'id': 3, 'name': 'test_polygon', 'serial': '{\"name\": \"test_polygon\", \"_class_\": \"Scene\", \"sources\": [{\"_class_\": \"LightSource\", \"position\": {\"_class_\": \"vec3\", \"x\": 0, \"y\": 10, \"z\": -5}, \"color\": 1}], \"objects\": [{\"_class_\": \"Polygon\", \"vertices\": [[0, 0], [0, 10], [1, 10], [1, 0]], \"position\": {\"_class_\": \"vec3\", \"x\": -0.5, \"y\": -0.5, \"z\": 1}, \"U\": {\"_class_\": \"vec3\", \"x\": 1, \"y\": 0, \"z\": 0}, \"V\": {\"_class_\": \"vec3\", \"x\": 0, \"y\": 0, \"z\": 1}, \"ns\": -1, \"diffuse\": 0.5, \"ambient\": 1.0, \"specular\": 0.5, \"phong\": 70, \"mirror\": 0.5}], \"camera\": {\"_class_\": \"vec3\", \"x\": 0.0, \"y\": 0.1, \"z\": -10.0}}', 'width': 400, 'height': 300, 'ptime': 0.034, 'filename': 'client/images/test_polygon_2.png'}\n",
      "\n",
      "400 - Missing Fields\n",
      "\n",
      "404 - Not Found\n"
     ]
    }
   ],
   "source": [
    "headers = {'Content-Type': 'application/json'}\n",
    "\n",
    "# Re-création de la scène avec un polygone\n",
    "request('POST','/service/scene',json.dumps(polygon_data),headers)\n",
    "print()\n",
    "\n",
    "# Mise à jour via le nom de la scène\n",
    "update_ptime = {\n",
    "    'operation' : 'update',\n",
    "    'ptime': 0.034\n",
    "}\n",
    "request('POST','/service/scene/test_polygon',json.dumps(update_ptime),headers)\n",
    "print()\n",
    "\n",
    "# Mise à jour via l'id\n",
    "update_filename = {\n",
    "    'operation' : 'update',\n",
    "    'filename': 'client/images/test_polygon_2.png'\n",
    "}\n",
    "request('POST','/service/scene/3',json.dumps(update_filename),headers)\n",
    "print()\n",
    "\n",
    "# Tentative de mise à jour sans champs de mise à jour\n",
    "no_fields = {\n",
    "    'operation' : 'update',    \n",
    "}\n",
    "request('POST','/service/scene/3',json.dumps(no_fields),headers)\n",
    "print()\n",
    "\n",
    "# Tentative de mise à jour d'une scène inexistante\n",
    "request('POST','/service/scene/99',json.dumps(update_filename),headers)"
   ]
  },
  {
   "cell_type": "markdown",
   "metadata": {},
   "source": [
    "### 4. Gestion des images\n",
    "\n",
    "#### 4.1 Création des images\n",
    "\n",
    "Le serveur développé jusque-là se contente d'enregistrer des informations en base de données, mais ne crée pas d'images.\n",
    "En utilisant le module <i>serializable_raytracer.py</i> déjà vu lors du TD prcédent, on veut maintenant modifier le serveur pour créer ou recalculer les images à chaque fois que nécessaire.\n",
    "\n",
    "__Q14. Créer les images :__\n",
    "<div style=\"background-color:#eef;padding:10px;border-radius:3px\">\n",
    "Implémenter la création de l'image lors de l'enregistrement d'une nouvelle scène dans la base de données.\n",
    "On conviendra de créer l'image uniquement si la requête fournit à la fois un nom de fichier et des dimensions pour l'image.\n",
    "<br><br>\n",
    "Deux options existent : attendre que l'image soit créée pour envoyer la réponse HTTP qui peut alors comprendre le temps de calcul, ou alors envoyer la réponse HTTP avant de créer l'image, ce qui évitera au client d'attendre le temps que l'image soit synthétisée.\n",
    "<br><br>\n",
    "Faire un choix, implémenter la solution retenue, et tester le fonctionnement obtenu en exécutant la cellule ci-dessous, ce qui devrait créer les images des trois scènes dont la sérialisation a été fournie au cours de ce TD (<tt>test_cube, test_checkered_plane,</tt> et <tt>test_polygon</tt>).\n",
    "\n",
    "</div>\n",
    "\n",
    "__N.B.__ On conviendra de créer l'ensemble des images dans le répertoire <tt>client/images</tt>. Le serveur devra implémenter ce point en créant par défaut les images dans ce répertoire en l'absence de nom de fichier fourni."
   ]
  },
  {
   "cell_type": "code",
   "execution_count": 14,
   "metadata": {
    "collapsed": false
   },
   "outputs": [
    {
     "name": "stdout",
     "output_type": "stream",
     "text": [
      "Scène trouvée : test_cube\n",
      "  supprimée...\n",
      "  recréée en 0.15s !\n",
      "Scène trouvée : test_checkered_plane\n",
      "  supprimée...\n",
      "  recréée en 0.05s !\n",
      "Scène trouvée : test_polygon\n",
      "  supprimée...\n",
      "  recréée en 0.04s !\n"
     ]
    }
   ],
   "source": [
    "# Programme de test\n",
    "#\n",
    "import http.client\n",
    "import json\n",
    "\n",
    "# comme request, mais renvoie le résultat plutôt que de l'afficher\n",
    "def wget(method,url,body='',headers={}):\n",
    "    conn = http.client.HTTPConnection('localhost:8080')\n",
    "    conn.request(method,url,body,headers)\n",
    "    response = conn.getresponse()\n",
    "    info = { 'status': response.status, 'reason':response.reason }\n",
    "    if 'Content-Type' in response.headers and response.headers['Content-Type'] == 'application/json':\n",
    "        info['data'] = json.loads(response.read())\n",
    "    else:\n",
    "        info['text'] = response.read()\n",
    "    return info\n",
    "\n",
    "# Cette fonction :\n",
    "# - récupère les infos d'une scène\n",
    "# - supprime la scène\n",
    "# - modifie le chemin d'accès du fichier image\n",
    "# - recrée la scène ce qui a pour effet de créer l'image (on l'espère, du moins...)\n",
    "def do_the_job(scene_name):\n",
    "\n",
    "    # Récupération des données de la scène dont le nom est passé en paramètre\n",
    "    info = wget('GET','/service/scene/{}'.format(scene_name))\n",
    "    \n",
    "    # On a trouvé la scène\n",
    "    if 'data' in info:\n",
    "        print(\"Scène trouvée : {}\".format(scene_name))\n",
    "        scene = info['data']\n",
    "  \n",
    "        # Suppression de la scène\n",
    "        body = json.dumps({'operation': 'delete'})\n",
    "        headers = {'Content-Type': 'application/json'}\n",
    "        result = wget('POST','/service/scene/{}'.format(scene_name),body,headers)\n",
    "        if result['status'] == 200:\n",
    "            print('  supprimée...')\n",
    "        \n",
    "        # On veut utiliser la valeur par défaut pour le nom de fichier\n",
    "        scene['filename'] = ''\n",
    "\n",
    "        # Re-création de la scène (avec génération de l'image)\n",
    "        result = wget('POST','/service/scene',json.dumps(scene),headers)\n",
    "        if result['status'] == 200:\n",
    "            print('  recréée en {0:.2f}s !'.format(result['data']['ptime']))\n",
    "\n",
    "\n",
    "# On fait le boulot pour les trois scènes\n",
    "# créées dans la base au cours de ce TD...\n",
    "for name in ['test_cube','test_checkered_plane','test_polygon']:\n",
    "    do_the_job(name)"
   ]
  },
  {
   "cell_type": "markdown",
   "metadata": {},
   "source": [
    "<table style=\"border-color:transparent; border-spacing:50px 0; border-collapse:separate\"><tr>\n",
    "<td style=\"border:none\"><img src=\"http://localhost:8080/images/test_cube.png\" width=\"221\"><br>\n",
    "<center><i>test_cube.png</i></center>\n",
    "</td>\n",
    "<td style=\"border:none\"><img src=\"http://localhost:8080/images/test_checkered_plane.png\" width=\"221\"><br>\n",
    "<center><i>test_checkered_plane.png</i></center>\n",
    "</td>\n",
    "<td style=\"border:none\"><img src=\"http://localhost:8080/images/test_polygon.png\" width=\"221\"><br>\n",
    "<center><i>test_polygon.png</i></center>\n",
    "</td>\n",
    "</tr><tr>\n",
    "<td style=\"border:none; text-align:center\" colspan=\"3\"><i>question 14. les images manipulées au cours de ce TD et créées ci-dessus</i></td>\n",
    "</tr></table>"
   ]
  },
  {
   "cell_type": "markdown",
   "metadata": {},
   "source": [
    "#### 4.2 Suppression des images\n",
    "\n",
    "__Q15. Supprimer les images :__\n",
    "<div style=\"background-color:#eef;padding:10px;border-radius:3px\">\n",
    "Faut-il (ou non) supprimer l'image correspondante lors de la suppression d'une scène en base de données ?\n",
    "<br><br>\n",
    "Implémenter la suppression du fichier image, en la conditionnant à la présence d'un paramètre dans la requête :<br>\n",
    "<tt>{ operation: \"delete\", delete_file: true }</tt><br>\n",
    "<br>\n",
    "puis exécuter le programme de test ci-dessous.\n",
    "</div>\n",
    "\n",
    "__N.B.__ Pour vérifier si un fichier existe, utiliser la méthode <a href=\"https://docs.python.org/2/library/os.path.html#os.path.isfile\"><tt>os.path.isfile()</tt></a>. Pour supprimer un fichier, utiliser la méthode <a href=\"https://docs.python.org/3/library/os.html#os.remove\"><tt>os.remove()</tt></a>."
   ]
  },
  {
   "cell_type": "code",
   "execution_count": 15,
   "metadata": {
    "collapsed": false
   },
   "outputs": [
    {
     "name": "stdout",
     "output_type": "stream",
     "text": [
      "{'status': 'ok'}\n",
      "le fichier client/images/test_polygon.png existe\n",
      "\n",
      "{'id': 6, 'name': 'test_polygon', 'serial': '{\"name\": \"test_polygon\", \"_class_\": \"Scene\", \"sources\": [{\"_class_\": \"LightSource\", \"position\": {\"_class_\": \"vec3\", \"x\": 0, \"y\": 10, \"z\": -5}, \"color\": 1}], \"objects\": [{\"_class_\": \"Polygon\", \"vertices\": [[0, 0], [0, 10], [1, 10], [1, 0]], \"position\": {\"_class_\": \"vec3\", \"x\": -0.5, \"y\": -0.5, \"z\": 1}, \"U\": {\"_class_\": \"vec3\", \"x\": 1, \"y\": 0, \"z\": 0}, \"V\": {\"_class_\": \"vec3\", \"x\": 0, \"y\": 0, \"z\": 1}, \"ns\": -1, \"diffuse\": 0.5, \"ambient\": 1.0, \"specular\": 0.5, \"phong\": 70, \"mirror\": 0.5}], \"camera\": {\"_class_\": \"vec3\", \"x\": 0.0, \"y\": 0.1, \"z\": -10.0}}', 'width': 400, 'height': 300, 'ptime': 0.03078397567686153, 'filename': 'client/images/test_polygon.png'}\n",
      "\n",
      "{'status': 'deleted'}\n",
      "le fichier client/images/test_polygon.png n'existe pas\n",
      "\n",
      "404 - Not Found\n"
     ]
    }
   ],
   "source": [
    "import os\n",
    "\n",
    "payload = { 'operation': \"delete\" }\n",
    "scene_name = 'test_polygon'\n",
    "service = '/service/scene/{}'.format(scene_name)\n",
    "filename = 'client/images/{}.png'.format(scene_name)\n",
    "\n",
    "# Suppression dans la base, mais conservation du fichier\n",
    "request('POST', service, json.dumps(payload), headers)\n",
    "print('le fichier {} {}'.format(filename,\"n'existe pas\" if not os.path.isfile(filename) else 'existe'))\n",
    "print()\n",
    "\n",
    "# Re-création de la scène\n",
    "request('POST', '/service/scene', json.dumps(polygon_data), headers)\n",
    "print()\n",
    "\n",
    "# Suppression dans la base, et suppression du fichier\n",
    "payload = { 'operation': \"delete\", 'delete_file': True }\n",
    "request('POST', service, json.dumps(payload), headers)\n",
    "print('le fichier {} {}'.format(filename,\"n'existe pas\" if not os.path.isfile(filename) else 'existe'))\n",
    "print()\n",
    "\n",
    "# Tentative de suppression d'une scène inexistante\n",
    "request('POST', service, json.dumps(payload), headers)"
   ]
  },
  {
   "cell_type": "markdown",
   "metadata": {},
   "source": [
    "#### 4.3 Modification des images\n",
    "\n",
    "Il ne suffit pas de calculer l'image lors de la création d'un enregistrement dans la base.\n",
    "Il faut également la recalculer lorsque certains paramètres sont modifiés. En toute rigueur, il faut :\n",
    "<ul style=\"margin-top:0\">\n",
    "<li style=\"margin-top:0\">recalculer l'image lorsque <tt>serial, width</tt> ou <tt>height</tt> sont modifiés,\n",
    "<li style=\"margin-top:0\">déplacer l'image lorsque <tt>filename</tt> est modifié,\n",
    "<li style=\"margin-top:0\">supprimer l'image lorsque <tt>filename</tt> est supprimé (valeur nulle ou chaîne vide),\n",
    "<li style=\"margin-top:0\">supprimer l'image en cas de paramètres erronés (par exemple dimension nulle),\n",
    "<li style=\"margin-top:0\">ne pas modifier le contenu de la base de données si le calcul de l'image a produit une erreur (cf. désérialisation impossible...), et renvoyer un code 400.\n",
    "</ul>\n",
    "\n",
    "__Q16. Recalculer les images :__\n",
    "<div style=\"background-color:#eef;padding:10px;border-radius:3px\">\n",
    "Implémenter le recalcul de l'image en cas de modification de ses paramètres...\n",
    "</div>"
   ]
  },
  {
   "cell_type": "code",
   "execution_count": 16,
   "metadata": {
    "collapsed": false
   },
   "outputs": [
    {
     "name": "stdout",
     "output_type": "stream",
     "text": [
      "Suppression de la scène et de l'image\n",
      "404 - Not Found\n",
      "client/images/test_polygon.png n'existe pas\n",
      "\n",
      "Création de la scène et de l'image\n",
      "{'id': 6, 'name': 'test_polygon', 'serial': '{\"name\": \"test_polygon\", \"_class_\": \"Scene\", \"sources\": [{\"_class_\": \"LightSource\", \"position\": {\"_class_\": \"vec3\", \"x\": 0, \"y\": 10, \"z\": -5}, \"color\": 1}], \"objects\": [{\"_class_\": \"Polygon\", \"vertices\": [[0, 0], [0, 10], [1, 10], [1, 0]], \"position\": {\"_class_\": \"vec3\", \"x\": -0.5, \"y\": -0.5, \"z\": 1}, \"U\": {\"_class_\": \"vec3\", \"x\": 1, \"y\": 0, \"z\": 0}, \"V\": {\"_class_\": \"vec3\", \"x\": 0, \"y\": 0, \"z\": 1}, \"ns\": -1, \"diffuse\": 0.5, \"ambient\": 1.0, \"specular\": 0.5, \"phong\": 70, \"mirror\": 0.5}], \"camera\": {\"_class_\": \"vec3\", \"x\": 0.0, \"y\": 0.1, \"z\": -10.0}}', 'width': 400, 'height': 300, 'ptime': 0.05003136787645701, 'filename': 'client/images/test_polygon.png'}\n",
      "client/images/test_polygon.png : 2017-11-29 15:01:19, temps de calcul : 0.050s\n",
      "\n",
      "Modification de serial\n",
      "{'id': 6, 'name': 'test_polygon', 'serial': '{\"name\": \"test_polygon\", \"_class_\": \"Scene\", \"sources\": [{\"_class_\": \"LightSource\", \"position\": {\"_class_\": \"vec3\", \"x\": 0, \"y\": 10, \"z\": -5}, \"color\": 1}], \"objects\": [{\"_class_\": \"Polygon\", \"vertices\": [[0, 0], [0, 10], [1, 10], [1, 0]], \"position\": {\"_class_\": \"vec3\", \"x\": -0.5, \"y\": -0.5, \"z\": 1}, \"U\": {\"_class_\": \"vec3\", \"x\": 1, \"y\": 0, \"z\": 0}, \"V\": {\"_class_\": \"vec3\", \"x\": 0, \"y\": 0, \"z\": 1}, \"ns\": -1, \"diffuse\": 0.5, \"ambient\": 1.0, \"specular\": 0.5, \"phong\": 70, \"mirror\": 0.5}], \"camera\": {\"_class_\": \"vec3\", \"x\": 0.0, \"y\": 0.1, \"z\": -10.1}}', 'width': 400, 'height': 300, 'ptime': 0.029665951868878437, 'filename': 'client/images/test_polygon.png'}\n",
      "client/images/test_polygon.png : 2017-11-29 15:01:20, temps de calcul : 0.030s\n",
      "\n",
      "Modification de width\n",
      "{'id': 6, 'name': 'test_polygon', 'serial': '{\"name\": \"test_polygon\", \"_class_\": \"Scene\", \"sources\": [{\"_class_\": \"LightSource\", \"position\": {\"_class_\": \"vec3\", \"x\": 0, \"y\": 10, \"z\": -5}, \"color\": 1}], \"objects\": [{\"_class_\": \"Polygon\", \"vertices\": [[0, 0], [0, 10], [1, 10], [1, 0]], \"position\": {\"_class_\": \"vec3\", \"x\": -0.5, \"y\": -0.5, \"z\": 1}, \"U\": {\"_class_\": \"vec3\", \"x\": 1, \"y\": 0, \"z\": 0}, \"V\": {\"_class_\": \"vec3\", \"x\": 0, \"y\": 0, \"z\": 1}, \"ns\": -1, \"diffuse\": 0.5, \"ambient\": 1.0, \"specular\": 0.5, \"phong\": 70, \"mirror\": 0.5}], \"camera\": {\"_class_\": \"vec3\", \"x\": 0.0, \"y\": 0.1, \"z\": -10.1}}', 'width': 500, 'height': 300, 'ptime': 0.04173270776674087, 'filename': 'client/images/test_polygon.png'}\n",
      "client/images/test_polygon.png : 2017-11-29 15:01:21, temps de calcul : 0.042s\n",
      "\n",
      "Modification de height\n",
      "{'id': 6, 'name': 'test_polygon', 'serial': '{\"name\": \"test_polygon\", \"_class_\": \"Scene\", \"sources\": [{\"_class_\": \"LightSource\", \"position\": {\"_class_\": \"vec3\", \"x\": 0, \"y\": 10, \"z\": -5}, \"color\": 1}], \"objects\": [{\"_class_\": \"Polygon\", \"vertices\": [[0, 0], [0, 10], [1, 10], [1, 0]], \"position\": {\"_class_\": \"vec3\", \"x\": -0.5, \"y\": -0.5, \"z\": 1}, \"U\": {\"_class_\": \"vec3\", \"x\": 1, \"y\": 0, \"z\": 0}, \"V\": {\"_class_\": \"vec3\", \"x\": 0, \"y\": 0, \"z\": 1}, \"ns\": -1, \"diffuse\": 0.5, \"ambient\": 1.0, \"specular\": 0.5, \"phong\": 70, \"mirror\": 0.5}], \"camera\": {\"_class_\": \"vec3\", \"x\": 0.0, \"y\": 0.1, \"z\": -10.1}}', 'width': 500, 'height': 400, 'ptime': 0.08116102229253386, 'filename': 'client/images/test_polygon.png'}\n",
      "client/images/test_polygon.png : 2017-11-29 15:01:22, temps de calcul : 0.081s\n",
      "\n",
      "Modification de filename\n",
      "{'id': 6, 'name': 'test_polygon', 'serial': '{\"name\": \"test_polygon\", \"_class_\": \"Scene\", \"sources\": [{\"_class_\": \"LightSource\", \"position\": {\"_class_\": \"vec3\", \"x\": 0, \"y\": 10, \"z\": -5}, \"color\": 1}], \"objects\": [{\"_class_\": \"Polygon\", \"vertices\": [[0, 0], [0, 10], [1, 10], [1, 0]], \"position\": {\"_class_\": \"vec3\", \"x\": -0.5, \"y\": -0.5, \"z\": 1}, \"U\": {\"_class_\": \"vec3\", \"x\": 1, \"y\": 0, \"z\": 0}, \"V\": {\"_class_\": \"vec3\", \"x\": 0, \"y\": 0, \"z\": 1}, \"ns\": -1, \"diffuse\": 0.5, \"ambient\": 1.0, \"specular\": 0.5, \"phong\": 70, \"mirror\": 0.5}], \"camera\": {\"_class_\": \"vec3\", \"x\": 0.0, \"y\": 0.1, \"z\": -10.1}}', 'width': 500, 'height': 400, 'ptime': 0.08116102229253386, 'filename': 'client/images/test_polygon_500x400.png'}\n",
      "client/images/test_polygon_500x400.png : 2017-11-29 15:01:22, temps de calcul : 0.081s\n",
      "\n"
     ]
    }
   ],
   "source": [
    "# Programme de test\n",
    "import os\n",
    "import datetime\n",
    "\n",
    "# Affichage de la date de création d'un fichier et du temps de calcul\n",
    "def print_fileinfo(filename,ptime=None):\n",
    "    if os.path.isfile(filename):\n",
    "        dt = datetime.datetime.fromtimestamp(os.path.getmtime(filename))\n",
    "        pt = \", temps de calcul : {:.3f}s\".format(ptime) if not ptime == None else '' \n",
    "        print(\"{} : {}{}\".format(filename,dt.strftime('%Y-%m-%d %H:%M:%S'),pt))        \n",
    "    else:\n",
    "        print(\"{} n'existe pas\".format(filename))\n",
    "\n",
    "# Affichage des infos de la réponse à une requête wget\n",
    "def print_rinfo(filename,r):\n",
    "    if r['status'] == 200:\n",
    "        print(r['data'])\n",
    "        print_fileinfo(filename,r['data']['ptime'] if 'ptime' in r['data'] else 0)\n",
    "    else:\n",
    "        print('{} - {}'.format(r['status'],r['reason']))\n",
    "        print_fileinfo(filename)\n",
    "\n",
    "# Quelques trucs pour la suite\n",
    "cmd_delete = { 'operation': \"delete\", 'delete_file': True }\n",
    "scene_name = 'test_polygon'\n",
    "service = '/service/scene'\n",
    "filename = 'client/images/{}.png'.format(scene_name)\n",
    "\n",
    "# Suppression de la scène et de l'image\n",
    "print(\"Suppression de la scène et de l'image\")\n",
    "r = wget('POST', '{}/{}'.format(service,scene_name), json.dumps(cmd_delete), headers)\n",
    "print_rinfo(filename,r)\n",
    "print()\n",
    "\n",
    "# Création de la scène et de l'image\n",
    "print(\"Création de la scène et de l'image\")\n",
    "r = wget('POST', service, json.dumps(polygon_data), headers)\n",
    "print_rinfo(filename,r)\n",
    "print()\n",
    "\n",
    "# Modification de serial\n",
    "print(\"Modification de serial\")\n",
    "modified_polygon_scene = json.loads(polygon_data['serial'])\n",
    "modified_polygon_scene['camera']['z'] = -10.1\n",
    "payload = {\"operation\": \"update\", \"serial\": json.dumps(modified_polygon_scene)}\n",
    "r = wget('POST', '{}/{}'.format(service,scene_name), json.dumps(payload), headers)\n",
    "print_rinfo(filename,r)\n",
    "print()\n",
    "\n",
    "# Modification de width\n",
    "print(\"Modification de width\")\n",
    "payload = {\"operation\": \"update\", \"width\": 500}\n",
    "r = wget('POST', '{}/{}'.format(service,scene_name), json.dumps(payload), headers)\n",
    "print_rinfo(filename,r)\n",
    "print()\n",
    "\n",
    "# Modification de height\n",
    "print(\"Modification de height\")\n",
    "payload = {\"operation\": \"update\", \"height\": 400}\n",
    "r = wget('POST', '{}/{}'.format(service,scene_name), json.dumps(payload), headers)\n",
    "print_rinfo(filename,r)\n",
    "print()\n",
    "\n",
    "# Modification de filename\n",
    "print(\"Modification de filename\")\n",
    "payload = {\"operation\": \"update\", \"filename\": \"client/images/test_polygon_500x400.png\"}\n",
    "r = wget('POST', '{}/{}'.format(service,scene_name), json.dumps(payload), headers)\n",
    "print_rinfo(\"client/images/test_polygon_500x400.png\",r)\n",
    "print()"
   ]
  },
  {
   "cell_type": "code",
   "execution_count": 17,
   "metadata": {
    "collapsed": false
   },
   "outputs": [
    {
     "name": "stdout",
     "output_type": "stream",
     "text": [
      "Suppression de l'image car filename vide\n",
      "{'id': 6, 'name': 'test_polygon', 'serial': '{\"name\": \"test_polygon\", \"_class_\": \"Scene\", \"sources\": [{\"_class_\": \"LightSource\", \"position\": {\"_class_\": \"vec3\", \"x\": 0, \"y\": 10, \"z\": -5}, \"color\": 1}], \"objects\": [{\"_class_\": \"Polygon\", \"vertices\": [[0, 0], [0, 10], [1, 10], [1, 0]], \"position\": {\"_class_\": \"vec3\", \"x\": -0.5, \"y\": -0.5, \"z\": 1}, \"U\": {\"_class_\": \"vec3\", \"x\": 1, \"y\": 0, \"z\": 0}, \"V\": {\"_class_\": \"vec3\", \"x\": 0, \"y\": 0, \"z\": 1}, \"ns\": -1, \"diffuse\": 0.5, \"ambient\": 1.0, \"specular\": 0.5, \"phong\": 70, \"mirror\": 0.5}], \"camera\": {\"_class_\": \"vec3\", \"x\": 0.0, \"y\": 0.1, \"z\": -10.1}}', 'width': 400, 'height': 300, 'ptime': 0.0, 'filename': ''}\n",
      "client/images/test_polygon_500x400.png n'existe pas\n",
      "\n",
      "Recalcul\n",
      "{'id': 6, 'name': 'test_polygon', 'serial': '{\"name\": \"test_polygon\", \"_class_\": \"Scene\", \"sources\": [{\"_class_\": \"LightSource\", \"position\": {\"_class_\": \"vec3\", \"x\": 0, \"y\": 10, \"z\": -5}, \"color\": 1}], \"objects\": [{\"_class_\": \"Polygon\", \"vertices\": [[0, 0], [0, 10], [1, 10], [1, 0]], \"position\": {\"_class_\": \"vec3\", \"x\": -0.5, \"y\": -0.5, \"z\": 1}, \"U\": {\"_class_\": \"vec3\", \"x\": 1, \"y\": 0, \"z\": 0}, \"V\": {\"_class_\": \"vec3\", \"x\": 0, \"y\": 0, \"z\": 1}, \"ns\": -1, \"diffuse\": 0.5, \"ambient\": 1.0, \"specular\": 0.5, \"phong\": 70, \"mirror\": 0.5}], \"camera\": {\"_class_\": \"vec3\", \"x\": 0.0, \"y\": 0.1, \"z\": -10.1}}', 'width': 400, 'height': 300, 'ptime': 0.03228046832160203, 'filename': 'client/images/test_polygon.png'}\n",
      "client/images/test_polygon.png : 2017-11-30 09:30:21, temps de calcul : 0.032s\n",
      "\n",
      "Suppression de l'image car largeur nulle\n",
      "{'id': 6, 'name': 'test_polygon', 'serial': '{\"name\": \"test_polygon\", \"_class_\": \"Scene\", \"sources\": [{\"_class_\": \"LightSource\", \"position\": {\"_class_\": \"vec3\", \"x\": 0, \"y\": 10, \"z\": -5}, \"color\": 1}], \"objects\": [{\"_class_\": \"Polygon\", \"vertices\": [[0, 0], [0, 10], [1, 10], [1, 0]], \"position\": {\"_class_\": \"vec3\", \"x\": -0.5, \"y\": -0.5, \"z\": 1}, \"U\": {\"_class_\": \"vec3\", \"x\": 1, \"y\": 0, \"z\": 0}, \"V\": {\"_class_\": \"vec3\", \"x\": 0, \"y\": 0, \"z\": 1}, \"ns\": -1, \"diffuse\": 0.5, \"ambient\": 1.0, \"specular\": 0.5, \"phong\": 70, \"mirror\": 0.5}], \"camera\": {\"_class_\": \"vec3\", \"x\": 0.0, \"y\": 0.1, \"z\": -10.1}}', 'width': 0, 'height': 300, 'ptime': 0.0, 'filename': 'client/images/test_polygon.png'}\n",
      "client/images/test_polygon.png n'existe pas\n",
      "\n",
      "Recalcul\n",
      "{'id': 6, 'name': 'test_polygon', 'serial': '{\"name\": \"test_polygon\", \"_class_\": \"Scene\", \"sources\": [{\"_class_\": \"LightSource\", \"position\": {\"_class_\": \"vec3\", \"x\": 0, \"y\": 10, \"z\": -5}, \"color\": 1}], \"objects\": [{\"_class_\": \"Polygon\", \"vertices\": [[0, 0], [0, 10], [1, 10], [1, 0]], \"position\": {\"_class_\": \"vec3\", \"x\": -0.5, \"y\": -0.5, \"z\": 1}, \"U\": {\"_class_\": \"vec3\", \"x\": 1, \"y\": 0, \"z\": 0}, \"V\": {\"_class_\": \"vec3\", \"x\": 0, \"y\": 0, \"z\": 1}, \"ns\": -1, \"diffuse\": 0.5, \"ambient\": 1.0, \"specular\": 0.5, \"phong\": 70, \"mirror\": 0.5}], \"camera\": {\"_class_\": \"vec3\", \"x\": 0.0, \"y\": 0.1, \"z\": -10.1}}', 'width': 400, 'height': 300, 'ptime': 0.030219037851622943, 'filename': 'client/images/test_polygon.png'}\n",
      "client/images/test_polygon.png : 2017-11-30 09:30:23, temps de calcul : 0.030s\n",
      "\n",
      "Suppression de l'image car hauteur nulle\n",
      "{'id': 6, 'name': 'test_polygon', 'serial': '{\"name\": \"test_polygon\", \"_class_\": \"Scene\", \"sources\": [{\"_class_\": \"LightSource\", \"position\": {\"_class_\": \"vec3\", \"x\": 0, \"y\": 10, \"z\": -5}, \"color\": 1}], \"objects\": [{\"_class_\": \"Polygon\", \"vertices\": [[0, 0], [0, 10], [1, 10], [1, 0]], \"position\": {\"_class_\": \"vec3\", \"x\": -0.5, \"y\": -0.5, \"z\": 1}, \"U\": {\"_class_\": \"vec3\", \"x\": 1, \"y\": 0, \"z\": 0}, \"V\": {\"_class_\": \"vec3\", \"x\": 0, \"y\": 0, \"z\": 1}, \"ns\": -1, \"diffuse\": 0.5, \"ambient\": 1.0, \"specular\": 0.5, \"phong\": 70, \"mirror\": 0.5}], \"camera\": {\"_class_\": \"vec3\", \"x\": 0.0, \"y\": 0.1, \"z\": -10.1}}', 'width': 400, 'height': 0, 'ptime': 0.0, 'filename': 'client/images/test_polygon.png'}\n",
      "client/images/test_polygon.png n'existe pas\n",
      "\n",
      "Recalcul\n",
      "{'id': 6, 'name': 'test_polygon', 'serial': '{\"name\": \"test_polygon\", \"_class_\": \"Scene\", \"sources\": [{\"_class_\": \"LightSource\", \"position\": {\"_class_\": \"vec3\", \"x\": 0, \"y\": 10, \"z\": -5}, \"color\": 1}], \"objects\": [{\"_class_\": \"Polygon\", \"vertices\": [[0, 0], [0, 10], [1, 10], [1, 0]], \"position\": {\"_class_\": \"vec3\", \"x\": -0.5, \"y\": -0.5, \"z\": 1}, \"U\": {\"_class_\": \"vec3\", \"x\": 1, \"y\": 0, \"z\": 0}, \"V\": {\"_class_\": \"vec3\", \"x\": 0, \"y\": 0, \"z\": 1}, \"ns\": -1, \"diffuse\": 0.5, \"ambient\": 1.0, \"specular\": 0.5, \"phong\": 70, \"mirror\": 0.5}], \"camera\": {\"_class_\": \"vec3\", \"x\": 0.0, \"y\": 0.1, \"z\": -10.1}}', 'width': 400, 'height': 300, 'ptime': 0.03234999913085801, 'filename': 'client/images/test_polygon.png'}\n",
      "client/images/test_polygon.png : 2017-11-30 09:30:25, temps de calcul : 0.032s\n",
      "\n",
      "Suppression de l'image par erreur de désérialisation\n",
      "400 - Scene : Could not deserialize. Illegal _class_ Polygon\n",
      "client/images/test_polygon.png : 2017-11-30 09:30:25\n",
      "\n"
     ]
    }
   ],
   "source": [
    "# Suite du programme de test ...\n",
    "\n",
    "# Suppression de l'image suite à filename vide\n",
    "print(\"Suppression de l'image car filename vide\")\n",
    "payload = {\"operation\": \"update\", \"filename\": \"\"}\n",
    "r = wget('POST', '{}/{}'.format(service,scene_name), json.dumps(payload), headers)\n",
    "print_rinfo(\"client/images/test_polygon_500x400.png\",r)\n",
    "print()\n",
    "\n",
    "# Recalcul de l'image\n",
    "print(\"Recalcul\")\n",
    "payload = {\"operation\": \"update\", \"filename\": filename, \"width\":400, \"height\":300}\n",
    "r = wget('POST', '{}/{}'.format(service,scene_name), json.dumps(payload), headers)\n",
    "print_rinfo(filename,r)\n",
    "print()\n",
    "\n",
    "# Suppression de l'image suite à largeur nulle\n",
    "print(\"Suppression de l'image car largeur nulle\")\n",
    "payload = {\"operation\": \"update\", \"width\": 0}\n",
    "r = wget('POST', '{}/{}'.format(service,scene_name), json.dumps(payload), headers)\n",
    "print_rinfo(filename,r)\n",
    "print()\n",
    "\n",
    "# Recalcul de l'image\n",
    "print(\"Recalcul\")\n",
    "payload = {\"operation\": \"update\", \"width\": 400}\n",
    "r = wget('POST', '{}/{}'.format(service,scene_name), json.dumps(payload), headers)\n",
    "print_rinfo(filename,r)\n",
    "print()\n",
    "\n",
    "# Suppression de l'image suite à hauteur nulle\n",
    "print(\"Suppression de l'image car hauteur nulle\")\n",
    "payload = {\"operation\": \"update\", \"height\": 0}\n",
    "r = wget('POST', '{}/{}'.format(service,scene_name), json.dumps(payload), headers)\n",
    "print_rinfo(filename,r)\n",
    "print()\n",
    "\n",
    "# Recalcul de l'image\n",
    "print(\"Recalcul\")\n",
    "payload = {\"operation\": \"update\", \"height\": 300}\n",
    "r = wget('POST', '{}/{}'.format(service,scene_name), json.dumps(payload), headers)\n",
    "print_rinfo(filename,r)\n",
    "print()\n",
    "\n",
    "# Erreur de désérialisation\n",
    "print(\"Suppression de l'image par erreur de désérialisation\")\n",
    "modified_polygon_scene['_class_'] = 'Polygon'\n",
    "payload = {\"operation\": \"update\", \"serial\": json.dumps(modified_polygon_scene)}\n",
    "r = wget('POST', '{}/{}'.format(service,scene_name), json.dumps(payload), headers)\n",
    "print_rinfo(filename,r)\n",
    "print()"
   ]
  },
  {
   "cell_type": "markdown",
   "metadata": {},
   "source": [
    "<div style=\"background-color:#efe;padding:10px;border-radius:3px\">\n",
    "__N.B.__ Le type de fonctionnement suggéré ci-dessus est le plus à même de garantir que le disque du serveur ne se retrouvera pas encombré d'images qui ne sont plus répertoriées dans la base. Toutefois, ce n'est pas la seule approche envisageable : on pourrait très bien imaginer qu'au lieu d'écraser la version précédente d'une image en cas de modification de ses paramètres, on change automatiquement le nom du fichier en base de données, en respectant une nomenclature permettant de retrouver l'historique des versions d'une scène donnée. Le fonctionnement que vous adopterez pour votre projet ne dépend que de vous...\n",
    "</div>"
   ]
  },
  {
   "cell_type": "code",
   "execution_count": 18,
   "metadata": {
    "collapsed": true
   },
   "outputs": [],
   "source": [
    "# Initialisation de la base de données\n",
    "import sqlite3\n",
    "conn = sqlite3.connect('rtserver.sqlite')\n",
    "c = conn.cursor()\n",
    "\n",
    "c.execute(\"DROP TABLE IF EXISTS scene\")\n",
    "c.execute(\"CREATE TABLE scene ( \\\n",
    "  id INTEGER PRIMARY KEY, \\\n",
    "  name TEXT UNIQUE NOT NULL, \\\n",
    "  serial TEXT NOT NULL, \\\n",
    "  width INTEGER,  \\\n",
    "  height INTEGER, \\\n",
    "  ptime REAL, \\\n",
    "  filename TEXT )\")\n",
    "\n",
    "plane = [\n",
    "    \"test_checkered_plane\",\n",
    "    '{\"_class_\": \"Scene\", \"name\": \"test_checkered_plane\", \"ambient\": {\"_class_\": \"rgb\", \"r\": 0, \"g\": 0, \"b\": 0}, \\\n",
    "\"max_bounce\": 3, \"faraway\": 1e+39, \"sources\": [{\"_class_\": \"LightSource\", \"position\": {\"_class_\": \"vec3\", \"x\": 0, \\\n",
    "\"y\": 10, \"z\": -5}, \"color\": {\"_class_\": \"rgb\", \"r\": 1, \"g\": 1, \"b\": 1}}], \"objects\": [{\"_class_\": \"CheckeredPlane\", \\\n",
    "\"position\": {\"_class_\": \"vec3\", \"x\": 0, \"y\": -0.5, \"z\": 0}, \"normal\": {\"_class_\": \"vec3\", \"x\": 0.0, \"y\": 1.0, \\\n",
    "\"z\": 0.0}, \"diffuse\": [{\"_class_\": \"rgb\", \"r\": 0.1, \"g\": 0.1, \"b\": 0.1}, {\"_class_\": \"rgb\", \"r\": 0.9, \"g\": 0.9, \\\n",
    "\"b\": 0.9}], \"ambient\": [{\"_class_\": \"rgb\", \"r\": 1.0, \"g\": 1.0, \"b\": 1.0}, {\"_class_\": \"rgb\", \"r\": 1.0, \"g\": 1.0, \\\n",
    "\"b\": 1.0}], \"specular\": [{\"_class_\": \"rgb\", \"r\": 0.5, \"g\": 0.5, \"b\": 0.5}, {\"_class_\": \"rgb\", \"r\": 0.5, \"g\": 0.5, \\\n",
    "\"b\": 0.5}], \"phong\": [70, 70], \"mirror\": [{\"_class_\": \"rgb\", \"r\": 0.5, \"g\": 0.5, \"b\": 0.5}, {\"_class_\": \"rgb\", \\\n",
    "\"r\": 0.5, \"g\": 0.5, \"b\": 0.5}], \"selector\": \\\n",
    "\"def selector(self,M):\\\\n  return ((M.x * 2 - 1000.5).astype(int) % 2) == ((M.z * 0.5 + 1000.5).astype(int) % 2)\"}], \\\n",
    "\"width\": 400, \"height\": 300, \"camera\": {\"_class_\": \"vec3\", \"x\": 0.0, \"y\": 0.1, \"z\": -10.0}}',\n",
    "    400, 300,\n",
    "    0.062,\n",
    "    \"client/images/test_checkered_plane.png\" \n",
    "]\n",
    "cube = [\n",
    "    \"test_cube\",\n",
    "    '{\"_class_\": \"Scene\", \"name\": \"test_cube\", \"ambient\": {\"_class_\": \"rgb\", \"r\": 0.5, \"g\": 0.5, \"b\": 0.5}, \\\n",
    "\"max_bounce\": 3, \"faraway\": 1e+39, \"sources\": [{\"_class_\": \"LightSource\", \"position\": {\"_class_\": \"vec3\", \\\n",
    "\"x\": 0, \"y\": 10, \"z\": -5}, \"color\": {\"_class_\": \"rgb\", \"r\": 1, \"g\": 1, \"b\": 1}}], \"objects\": [{\"_class_\": \\\n",
    "\"Cube\", \"center\": {\"_class_\": \"vec3\", \"x\": 0, \"y\": -0.1, \"z\": 1}, \"U\": {\"_class_\": \"vec3\", \"x\": 0.5000000000000001,\\\n",
    "\"y\": 0.7071067811865476, \"z\": -0.5000000000000001}, \"V\": {\"_class_\": \"vec3\", \"x\": 0.7071067811865476, \"y\": 0.0, \\\n",
    "\"z\": 0.7071067811865476}, \"width\": 0.4, \"diffuse\": [{\"_class_\": \"rgb\", \"r\": 0.5, \"g\": 0, \"b\": 0.5}, {\"_class_\": \"rgb\",\\\n",
    "\"r\": 0.5, \"g\": 0.5, \"b\": 0}, {\"_class_\": \"rgb\", \"r\": 0, \"g\": 0.5, \"b\": 0.5}, {\"_class_\": \"rgb\", \"r\": 0.75, \\\n",
    "\"g\": 0, \"b\": 0}, {\"_class_\": \"rgb\", \"r\": 0, \"g\": 0.75, \"b\": 0}, {\"_class_\": \"rgb\", \"r\": 0, \"g\": 0, \"b\": 0.75}], \\\n",
    "\"ambient\": [{\"_class_\": \"rgb\", \"r\": 1.0, \"g\": 1.0, \"b\": 1.0}, {\"_class_\": \"rgb\", \"r\": 1.0, \"g\": 1.0, \"b\": 1.0}, \\\n",
    "{\"_class_\": \"rgb\", \"r\": 1.0, \"g\": 1.0, \"b\": 1.0}, {\"_class_\": \"rgb\", \"r\": 1.0, \"g\": 1.0, \"b\": 1.0}, {\"_class_\": \\\n",
    "\"rgb\", \"r\": 1.0, \"g\": 1.0, \"b\": 1.0}, {\"_class_\": \"rgb\", \"r\": 1.0, \"g\": 1.0, \"b\": 1.0}], \"specular\": [{\"_class_\": \\\n",
    "\"rgb\", \"r\": 0.5, \"g\": 0.5, \"b\": 0.5}, {\"_class_\": \"rgb\", \"r\": 0.5, \"g\": 0.5, \"b\": 0.5}, {\"_class_\": \"rgb\", \"r\": 0.5, \\\n",
    "\"g\": 0.5, \"b\": 0.5}, {\"_class_\": \"rgb\", \"r\": 0.5, \"g\": 0.5, \"b\": 0.5}, {\"_class_\": \"rgb\", \"r\": 0.5, \"g\": 0.5, \\\n",
    "\"b\": 0.5}, {\"_class_\": \"rgb\", \"r\": 0.5, \"g\": 0.5, \"b\": 0.5}], \"phong\": [140, 140, 140, 140, 140, 140], \"mirror\": \\\n",
    "[{\"_class_\": \"rgb\", \"r\": 0.3, \"g\": 0.3, \"b\": 0.3}, {\"_class_\": \"rgb\", \"r\": 0.3, \"g\": 0.3, \"b\": 0.3}, {\"_class_\": \\\n",
    "\"rgb\", \"r\": 0.3, \"g\": 0.3, \"b\": 0.3}, {\"_class_\": \"rgb\", \"r\": 0.3, \"g\": 0.3, \"b\": 0.3}, {\"_class_\": \"rgb\", \\\n",
    "\"r\": 0.3, \"g\": 0.3, \"b\": 0.3}, {\"_class_\": \"rgb\", \"r\": 0.3, \"g\": 0.3, \"b\": 0.3}]}], \"width\": 400, \"height\": 300, \\\n",
    "\"camera\": {\"_class_\": \"vec3\", \"x\": 0.0, \"y\": 0.1, \"z\": -10.0}}',\n",
    "    400, 300,\n",
    "    0.141,\n",
    "    \"client/images/test_cube.png\"\n",
    "]\n",
    "c.execute(\"INSERT INTO scene VALUES (NULL, ?, ?, ?, ?, ?, ?)\", plane)\n",
    "c.execute(\"INSERT INTO scene VALUES (NULL, ?, ?, ?, ?, ?, ?)\", cube)\n",
    "conn.commit()"
   ]
  },
  {
   "cell_type": "code",
   "execution_count": 19,
   "metadata": {
    "collapsed": true
   },
   "outputs": [],
   "source": []
  }
 ],
 "metadata": {
  "kernelspec": {
   "display_name": "Python 3",
   "language": "python",
   "name": "python3"
  },
  "language_info": {
   "codemirror_mode": {
    "name": "ipython",
    "version": 3
   },
   "file_extension": ".py",
   "mimetype": "text/x-python",
   "name": "python",
   "nbconvert_exporter": "python",
   "pygments_lexer": "ipython3",
   "version": "3.6.0"
  }
 },
 "nbformat": 4,
 "nbformat_minor": 2
}
